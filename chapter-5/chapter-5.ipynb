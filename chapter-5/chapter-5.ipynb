{
 "cells": [
  {
   "cell_type": "code",
   "execution_count": 1,
   "id": "cf90ff4b",
   "metadata": {},
   "outputs": [
    {
     "name": "stdout",
     "output_type": "stream",
     "text": [
      "Hello spam\n"
     ]
    }
   ],
   "source": [
    "str1=\"Hello\"\n",
    "str2='spam'\n",
    "print(str1,str2)"
   ]
  },
  {
   "cell_type": "code",
   "execution_count": 4,
   "id": "1452dfa2",
   "metadata": {},
   "outputs": [
    {
     "name": "stdout",
     "output_type": "stream",
     "text": [
      "enter your name : siva\n",
      "Hello siva\n"
     ]
    }
   ],
   "source": [
    "fnam=input(\"enter your name : \")\n",
    "print(\"Hello\",fnam)"
   ]
  },
  {
   "cell_type": "code",
   "execution_count": 7,
   "id": "ae3adc6b",
   "metadata": {},
   "outputs": [
    {
     "name": "stdout",
     "output_type": "stream",
     "text": [
      "Hello Bob\n",
      "H\n",
      "l\n",
      "b\n",
      "o\n"
     ]
    }
   ],
   "source": [
    "gt=\"Hello Bob\"\n",
    "print(gt)\n",
    "print(gt[0])\n",
    "a=2\n",
    "print(gt[a])\n",
    "print(gt[-1])\n",
    "print(gt[-2])"
   ]
  },
  {
   "cell_type": "code",
   "execution_count": 8,
   "id": "bb0d95e9",
   "metadata": {},
   "outputs": [
    {
     "name": "stdout",
     "output_type": "stream",
     "text": [
      "spameggs\n"
     ]
    }
   ],
   "source": [
    "print(\"spam\"+\"eggs\")"
   ]
  },
  {
   "cell_type": "code",
   "execution_count": 9,
   "id": "5424756e",
   "metadata": {},
   "outputs": [
    {
     "data": {
      "text/plain": [
       "'spamspamspam'"
      ]
     },
     "execution_count": 9,
     "metadata": {},
     "output_type": "execute_result"
    }
   ],
   "source": [
    "3*\"spam\""
   ]
  },
  {
   "cell_type": "code",
   "execution_count": 10,
   "id": "aa31bb97",
   "metadata": {},
   "outputs": [
    {
     "data": {
      "text/plain": [
       "'spamspamspamspamspameggseggseggs'"
      ]
     },
     "execution_count": 10,
     "metadata": {},
     "output_type": "execute_result"
    }
   ],
   "source": [
    "\"spam\"*5+3*\"eggs\""
   ]
  },
  {
   "cell_type": "code",
   "execution_count": 11,
   "id": "a9668bae",
   "metadata": {},
   "outputs": [
    {
     "data": {
      "text/plain": [
       "9"
      ]
     },
     "execution_count": 11,
     "metadata": {},
     "output_type": "execute_result"
    }
   ],
   "source": [
    "len(gt)"
   ]
  },
  {
   "cell_type": "code",
   "execution_count": 12,
   "id": "bb32dbe3",
   "metadata": {},
   "outputs": [
    {
     "name": "stdout",
     "output_type": "stream",
     "text": [
      "H e l l o   w o r l d "
     ]
    }
   ],
   "source": [
    "for i in \"Hello world\":\n",
    "    print(i,end=\" \")"
   ]
  },
  {
   "cell_type": "code",
   "execution_count": 13,
   "id": "2a694786",
   "metadata": {},
   "outputs": [],
   "source": [
    "def main():\n",
    "    print(\"This programme generates computer user name.\\n\")\n",
    "    first=input(\"Enter your first name :\")\n",
    "    sec=input(\"Enter your second name :\")\n",
    "    uname=first[0]+sec[:7]\n",
    "    print(\"your name is \",uname)"
   ]
  },
  {
   "cell_type": "code",
   "execution_count": 14,
   "id": "95128702",
   "metadata": {},
   "outputs": [
    {
     "name": "stdout",
     "output_type": "stream",
     "text": [
      "This programme generates computer user name.\n",
      "\n",
      "Enter your first name :Pedapalem\n",
      "Enter your second name :Siva\n",
      "your name is  PSiva\n"
     ]
    }
   ],
   "source": [
    "main()\n"
   ]
  },
  {
   "cell_type": "code",
   "execution_count": 15,
   "id": "718f2369",
   "metadata": {},
   "outputs": [],
   "source": [
    "def main():\n",
    "    months=\"janfebmaraprmayjunjulaugsepoctnovdec\"\n",
    "    n=int(input(\"Enter the month number :\"))\n",
    "    pos=(n-1)*3\n",
    "    mont=months[pos:pos+3]\n",
    "    print(\"month is\",mont+\".\")\n",
    "    "
   ]
  },
  {
   "cell_type": "code",
   "execution_count": 16,
   "id": "671c2e9b",
   "metadata": {},
   "outputs": [
    {
     "name": "stdout",
     "output_type": "stream",
     "text": [
      "Enter the month number :4\n",
      "month is apr.\n"
     ]
    }
   ],
   "source": [
    "main()\n"
   ]
  },
  {
   "cell_type": "code",
   "execution_count": 17,
   "id": "c1e639b8",
   "metadata": {},
   "outputs": [
    {
     "data": {
      "text/plain": [
       "[1, 2, 3, 4]"
      ]
     },
     "execution_count": 17,
     "metadata": {},
     "output_type": "execute_result"
    }
   ],
   "source": [
    "[1,2]+[3,4]\n"
   ]
  },
  {
   "cell_type": "code",
   "execution_count": 18,
   "id": "70e6e106",
   "metadata": {},
   "outputs": [
    {
     "data": {
      "text/plain": [
       "[1, 2, 1, 2, 1, 2]"
      ]
     },
     "execution_count": 18,
     "metadata": {},
     "output_type": "execute_result"
    }
   ],
   "source": [
    "[1,2]*3"
   ]
  },
  {
   "cell_type": "code",
   "execution_count": 19,
   "id": "1470285f",
   "metadata": {},
   "outputs": [],
   "source": [
    "grades=[\"A\",\"B\",\"C\",\"D\"]"
   ]
  },
  {
   "cell_type": "code",
   "execution_count": 21,
   "id": "01f42362",
   "metadata": {},
   "outputs": [
    {
     "data": {
      "text/plain": [
       "'A'"
      ]
     },
     "execution_count": 21,
     "metadata": {},
     "output_type": "execute_result"
    }
   ],
   "source": [
    "grades[0]"
   ]
  },
  {
   "cell_type": "code",
   "execution_count": 22,
   "id": "95b7b0e6",
   "metadata": {},
   "outputs": [
    {
     "data": {
      "text/plain": [
       "4"
      ]
     },
     "execution_count": 22,
     "metadata": {},
     "output_type": "execute_result"
    }
   ],
   "source": [
    "len(grades)"
   ]
  },
  {
   "cell_type": "code",
   "execution_count": 23,
   "id": "d3115479",
   "metadata": {},
   "outputs": [],
   "source": [
    "def main():\n",
    "    months=[\"Jan\",\"Feb\",\"Mar\",\"Apr\",\"May\",\"Jun\",\"Jul\",\"Aug\",\"Sep\",\"Oct\",\"Nov\",\"Dec\"]\n",
    "    i=int(input(\"Enter the month number(1-12) :\"))\n",
    "    print(\"Month name is\", months[i-1],\".\")\n",
    "    "
   ]
  },
  {
   "cell_type": "code",
   "execution_count": 24,
   "id": "1b1000e8",
   "metadata": {},
   "outputs": [
    {
     "name": "stdout",
     "output_type": "stream",
     "text": [
      "Enter the month number(1-12) :4\n",
      "Month name is Apr .\n"
     ]
    }
   ],
   "source": [
    "main()"
   ]
  },
  {
   "cell_type": "code",
   "execution_count": 26,
   "id": "708d1b21",
   "metadata": {},
   "outputs": [
    {
     "data": {
      "text/plain": [
       "40"
      ]
     },
     "execution_count": 26,
     "metadata": {},
     "output_type": "execute_result"
    }
   ],
   "source": [
    "a=[10,20,40,\"hi\"]\n",
    "a[2]"
   ]
  },
  {
   "cell_type": "code",
   "execution_count": 27,
   "id": "30eba61f",
   "metadata": {},
   "outputs": [],
   "source": [
    "a[2]=0"
   ]
  },
  {
   "cell_type": "code",
   "execution_count": 28,
   "id": "0c501ab5",
   "metadata": {},
   "outputs": [
    {
     "data": {
      "text/plain": [
       "[10, 20, 0, 'hi']"
      ]
     },
     "execution_count": 28,
     "metadata": {},
     "output_type": "execute_result"
    }
   ],
   "source": [
    "a"
   ]
  },
  {
   "cell_type": "code",
   "execution_count": 29,
   "id": "bb7b19d5",
   "metadata": {},
   "outputs": [
    {
     "data": {
      "text/plain": [
       "'hi'"
      ]
     },
     "execution_count": 29,
     "metadata": {},
     "output_type": "execute_result"
    }
   ],
   "source": [
    "a[3]"
   ]
  },
  {
   "cell_type": "code",
   "execution_count": 30,
   "id": "b63d7d82",
   "metadata": {},
   "outputs": [],
   "source": [
    "a[3]=4"
   ]
  },
  {
   "cell_type": "code",
   "execution_count": 31,
   "id": "498a5bf0",
   "metadata": {},
   "outputs": [
    {
     "data": {
      "text/plain": [
       "[10, 20, 0, 4]"
      ]
     },
     "execution_count": 31,
     "metadata": {},
     "output_type": "execute_result"
    }
   ],
   "source": [
    "a"
   ]
  },
  {
   "cell_type": "code",
   "execution_count": 32,
   "id": "eefe87bd",
   "metadata": {},
   "outputs": [],
   "source": [
    "q=\"Hello\""
   ]
  },
  {
   "cell_type": "code",
   "execution_count": 34,
   "id": "e95f0580",
   "metadata": {},
   "outputs": [
    {
     "ename": "TypeError",
     "evalue": "'str' object does not support item assignment",
     "output_type": "error",
     "traceback": [
      "\u001b[1;31m---------------------------------------------------------------------------\u001b[0m",
      "\u001b[1;31mTypeError\u001b[0m                                 Traceback (most recent call last)",
      "Input \u001b[1;32mIn [34]\u001b[0m, in \u001b[0;36m<cell line: 1>\u001b[1;34m()\u001b[0m\n\u001b[1;32m----> 1\u001b[0m q[\u001b[38;5;241m1\u001b[39m]\u001b[38;5;241m=\u001b[39m\u001b[38;5;124m\"\u001b[39m\u001b[38;5;124mi\u001b[39m\u001b[38;5;124m\"\u001b[39m\n",
      "\u001b[1;31mTypeError\u001b[0m: 'str' object does not support item assignment"
     ]
    }
   ],
   "source": [
    "q[1]=\"i\""
   ]
  },
  {
   "cell_type": "code",
   "execution_count": 35,
   "id": "83b62a68",
   "metadata": {},
   "outputs": [
    {
     "data": {
      "text/plain": [
       "97"
      ]
     },
     "execution_count": 35,
     "metadata": {},
     "output_type": "execute_result"
    }
   ],
   "source": [
    "ord(\"a\")"
   ]
  },
  {
   "cell_type": "code",
   "execution_count": 36,
   "id": "2c701b3f",
   "metadata": {},
   "outputs": [
    {
     "data": {
      "text/plain": [
       "65"
      ]
     },
     "execution_count": 36,
     "metadata": {},
     "output_type": "execute_result"
    }
   ],
   "source": [
    "ord(\"A\")"
   ]
  },
  {
   "cell_type": "code",
   "execution_count": 37,
   "id": "27acdea9",
   "metadata": {},
   "outputs": [
    {
     "data": {
      "text/plain": [
       "'a'"
      ]
     },
     "execution_count": 37,
     "metadata": {},
     "output_type": "execute_result"
    }
   ],
   "source": [
    "chr(97)"
   ]
  },
  {
   "cell_type": "code",
   "execution_count": 38,
   "id": "76a78cbd",
   "metadata": {},
   "outputs": [
    {
     "data": {
      "text/plain": [
       "'A'"
      ]
     },
     "execution_count": 38,
     "metadata": {},
     "output_type": "execute_result"
    }
   ],
   "source": [
    "chr(65)"
   ]
  },
  {
   "cell_type": "code",
   "execution_count": 39,
   "id": "8e47a422",
   "metadata": {},
   "outputs": [],
   "source": [
    "def main():\n",
    "    print(\"This programme converts a textual message into sequence of numbers\")\n",
    "    print(\"represents the unicode encoding of the message\")\n",
    "    message=input(\"Enter your message :\")\n",
    "    print(\"\\n here are the unicodes\")\n",
    "    for i in message:\n",
    "        print(ord(i),end=\" \")\n",
    "    print()"
   ]
  },
  {
   "cell_type": "code",
   "execution_count": 40,
   "id": "d950a074",
   "metadata": {},
   "outputs": [
    {
     "name": "stdout",
     "output_type": "stream",
     "text": [
      "This programme converts a textual message into sequence of numbers\n",
      "represents the unicode encoding of the message\n",
      "Enter your message :Hi, I am Sai Siva \n",
      "\n",
      " here are the unicodes\n",
      "72 105 44 32 73 32 97 109 32 83 97 105 32 83 105 118 97 32 \n"
     ]
    }
   ],
   "source": [
    "main()"
   ]
  },
  {
   "cell_type": "code",
   "execution_count": 41,
   "id": "00cb7b04",
   "metadata": {},
   "outputs": [],
   "source": [
    "a=\"Hello, I am Siva\""
   ]
  },
  {
   "cell_type": "code",
   "execution_count": 42,
   "id": "9f0e7f22",
   "metadata": {},
   "outputs": [
    {
     "data": {
      "text/plain": [
       "['Hello,', 'I', 'am', 'Siva']"
      ]
     },
     "execution_count": 42,
     "metadata": {},
     "output_type": "execute_result"
    }
   ],
   "source": [
    "a.split()"
   ]
  },
  {
   "cell_type": "code",
   "execution_count": 43,
   "id": "a8c31348",
   "metadata": {},
   "outputs": [],
   "source": [
    "a=\"32,24,76,87\""
   ]
  },
  {
   "cell_type": "code",
   "execution_count": 44,
   "id": "ca6bc740",
   "metadata": {},
   "outputs": [
    {
     "data": {
      "text/plain": [
       "['32', '24', '76', '87']"
      ]
     },
     "execution_count": 44,
     "metadata": {},
     "output_type": "execute_result"
    }
   ],
   "source": [
    "a.split(\",\")"
   ]
  },
  {
   "cell_type": "code",
   "execution_count": 45,
   "id": "1b2c3eed",
   "metadata": {},
   "outputs": [
    {
     "name": "stdout",
     "output_type": "stream",
     "text": [
      "Enter coords(x,y) :4,6\n"
     ]
    }
   ],
   "source": [
    "coords=input(\"Enter coords(x,y) :\").split(\",\")\n"
   ]
  },
  {
   "cell_type": "code",
   "execution_count": 46,
   "id": "02d99d07",
   "metadata": {},
   "outputs": [
    {
     "data": {
      "text/plain": [
       "'6'"
      ]
     },
     "execution_count": 46,
     "metadata": {},
     "output_type": "execute_result"
    }
   ],
   "source": [
    "coords[1]"
   ]
  },
  {
   "cell_type": "code",
   "execution_count": 47,
   "id": "9941258a",
   "metadata": {},
   "outputs": [
    {
     "data": {
      "text/plain": [
       "'4'"
      ]
     },
     "execution_count": 47,
     "metadata": {},
     "output_type": "execute_result"
    }
   ],
   "source": [
    "coords[0]"
   ]
  },
  {
   "cell_type": "code",
   "execution_count": 50,
   "id": "a8c2720c",
   "metadata": {},
   "outputs": [],
   "source": [
    "def main():\n",
    "    print(\"This converst coded numbers into message\")\n",
    "    a=input(\"Enter the numbers separated by commas :\").split(\",\")\n",
    "    for i in a:\n",
    "        print(chr(int(i)),end=\"\")"
   ]
  },
  {
   "cell_type": "code",
   "execution_count": 52,
   "id": "0c5d4909",
   "metadata": {},
   "outputs": [
    {
     "name": "stdout",
     "output_type": "stream",
     "text": [
      "This converst coded numbers into message\n",
      "Enter the numbers separated by commas :87,104,97,116,32,97,32,83,111,117,114,112,117,115,115,33\n",
      "What a Sourpuss!"
     ]
    }
   ],
   "source": [
    "main()"
   ]
  },
  {
   "cell_type": "code",
   "execution_count": 58,
   "id": "c5cae152",
   "metadata": {},
   "outputs": [],
   "source": [
    "s=\"hello, i came here for an argument\""
   ]
  },
  {
   "cell_type": "code",
   "execution_count": 59,
   "id": "bb5a008a",
   "metadata": {},
   "outputs": [
    {
     "data": {
      "text/plain": [
       "'Hello, i came here for an argument'"
      ]
     },
     "execution_count": 59,
     "metadata": {},
     "output_type": "execute_result"
    }
   ],
   "source": [
    "s.capitalize()"
   ]
  },
  {
   "cell_type": "code",
   "execution_count": 61,
   "id": "4f171c78",
   "metadata": {},
   "outputs": [
    {
     "data": {
      "text/plain": [
       "'Hello, I Came Here For An Argument'"
      ]
     },
     "execution_count": 61,
     "metadata": {},
     "output_type": "execute_result"
    }
   ],
   "source": [
    "s.title()"
   ]
  },
  {
   "cell_type": "code",
   "execution_count": 62,
   "id": "9756ab1f",
   "metadata": {},
   "outputs": [
    {
     "data": {
      "text/plain": [
       "'hello, i came here for an argument'"
      ]
     },
     "execution_count": 62,
     "metadata": {},
     "output_type": "execute_result"
    }
   ],
   "source": [
    "s.lower()"
   ]
  },
  {
   "cell_type": "code",
   "execution_count": 63,
   "id": "ce0f435e",
   "metadata": {},
   "outputs": [
    {
     "data": {
      "text/plain": [
       "'HELLO, I CAME HERE FOR AN ARGUMENT'"
      ]
     },
     "execution_count": 63,
     "metadata": {},
     "output_type": "execute_result"
    }
   ],
   "source": [
    "s.upper()"
   ]
  },
  {
   "cell_type": "code",
   "execution_count": 64,
   "id": "b5ae4437",
   "metadata": {},
   "outputs": [
    {
     "data": {
      "text/plain": [
       "'hello, you came here for an argument'"
      ]
     },
     "execution_count": 64,
     "metadata": {},
     "output_type": "execute_result"
    }
   ],
   "source": [
    "s.replace(\"i\",\"you\")"
   ]
  },
  {
   "cell_type": "code",
   "execution_count": 65,
   "id": "0df9d5fe",
   "metadata": {},
   "outputs": [
    {
     "data": {
      "text/plain": [
       "'hello, i came here for an argument'"
      ]
     },
     "execution_count": 65,
     "metadata": {},
     "output_type": "execute_result"
    }
   ],
   "source": [
    "s"
   ]
  },
  {
   "cell_type": "code",
   "execution_count": 66,
   "id": "883a4e5e",
   "metadata": {},
   "outputs": [
    {
     "data": {
      "text/plain": [
       "'hello, i came here for an argument'"
      ]
     },
     "execution_count": 66,
     "metadata": {},
     "output_type": "execute_result"
    }
   ],
   "source": [
    "s.center(30)"
   ]
  },
  {
   "cell_type": "code",
   "execution_count": 67,
   "id": "a83bfa4b",
   "metadata": {},
   "outputs": [
    {
     "data": {
      "text/plain": [
       "'hello, i came here for an argument'"
      ]
     },
     "execution_count": 67,
     "metadata": {},
     "output_type": "execute_result"
    }
   ],
   "source": [
    "s.center(10)"
   ]
  },
  {
   "cell_type": "code",
   "execution_count": 68,
   "id": "a077fe74",
   "metadata": {},
   "outputs": [
    {
     "data": {
      "text/plain": [
       "'        hello, i came here for an argument        '"
      ]
     },
     "execution_count": 68,
     "metadata": {},
     "output_type": "execute_result"
    }
   ],
   "source": [
    "s.center(50)"
   ]
  },
  {
   "cell_type": "code",
   "execution_count": 69,
   "id": "0c63f73c",
   "metadata": {},
   "outputs": [
    {
     "data": {
      "text/plain": [
       "'                                 hello, i came here for an argument                                 '"
      ]
     },
     "execution_count": 69,
     "metadata": {},
     "output_type": "execute_result"
    }
   ],
   "source": [
    "s.center(100)"
   ]
  },
  {
   "cell_type": "code",
   "execution_count": 70,
   "id": "4972f8cd",
   "metadata": {},
   "outputs": [
    {
     "data": {
      "text/plain": [
       "5"
      ]
     },
     "execution_count": 70,
     "metadata": {},
     "output_type": "execute_result"
    }
   ],
   "source": [
    "s.count(\"e\")"
   ]
  },
  {
   "cell_type": "code",
   "execution_count": 71,
   "id": "addaa9b1",
   "metadata": {},
   "outputs": [
    {
     "data": {
      "text/plain": [
       "1"
      ]
     },
     "execution_count": 71,
     "metadata": {},
     "output_type": "execute_result"
    }
   ],
   "source": [
    "s.find(\"e\")"
   ]
  },
  {
   "cell_type": "code",
   "execution_count": 72,
   "id": "68b5a9d3",
   "metadata": {},
   "outputs": [
    {
     "data": {
      "text/plain": [
       "12"
      ]
     },
     "execution_count": 72,
     "metadata": {},
     "output_type": "execute_result"
    }
   ],
   "source": [
    "s.find(\"e\",2)"
   ]
  },
  {
   "cell_type": "code",
   "execution_count": 73,
   "id": "03fe500c",
   "metadata": {},
   "outputs": [
    {
     "data": {
      "text/plain": [
       "'numberone,thelarch'"
      ]
     },
     "execution_count": 73,
     "metadata": {},
     "output_type": "execute_result"
    }
   ],
   "source": [
    "\"\".join([\"number\",\"one,\",\"the\",\"larch\"])"
   ]
  },
  {
   "cell_type": "code",
   "execution_count": 74,
   "id": "a0d131fc",
   "metadata": {},
   "outputs": [
    {
     "data": {
      "text/plain": [
       "'number one, the larch'"
      ]
     },
     "execution_count": 74,
     "metadata": {},
     "output_type": "execute_result"
    }
   ],
   "source": [
    "\" \".join([\"number\",\"one,\",\"the\",\"larch\"])"
   ]
  },
  {
   "cell_type": "code",
   "execution_count": 75,
   "id": "8bed694e",
   "metadata": {},
   "outputs": [
    {
     "data": {
      "text/plain": [
       "'number@one,@the@larch'"
      ]
     },
     "execution_count": 75,
     "metadata": {},
     "output_type": "execute_result"
    }
   ],
   "source": [
    "\"@\".join([\"number\",\"one,\",\"the\",\"larch\"])"
   ]
  },
  {
   "cell_type": "code",
   "execution_count": 76,
   "id": "3a7e4c1a",
   "metadata": {},
   "outputs": [],
   "source": [
    "sq=[]\n",
    "for i in range(1,10):\n",
    "    sq.append(i*i)"
   ]
  },
  {
   "cell_type": "code",
   "execution_count": 77,
   "id": "2db36c8b",
   "metadata": {},
   "outputs": [
    {
     "data": {
      "text/plain": [
       "[1, 4, 9, 16, 25, 36, 49, 64, 81]"
      ]
     },
     "execution_count": 77,
     "metadata": {},
     "output_type": "execute_result"
    }
   ],
   "source": [
    "sq"
   ]
  },
  {
   "cell_type": "code",
   "execution_count": 78,
   "id": "1fe419d2",
   "metadata": {},
   "outputs": [],
   "source": [
    "def main():\n",
    "    print(\"This programe converts the numbers in message\")\n",
    "    q=input(\"Enter numbers separated by space :\").split()\n",
    "    gr=[]\n",
    "    for i in q:\n",
    "        w=int(i)\n",
    "        gr.append(chr(w))\n",
    "    print()\n",
    "    print(\"Message is :\",\"\".join(gr))"
   ]
  },
  {
   "cell_type": "code",
   "execution_count": 79,
   "id": "646a5bd2",
   "metadata": {},
   "outputs": [
    {
     "name": "stdout",
     "output_type": "stream",
     "text": [
      "This programe converts the numbers in message\n",
      "Enter numbers separated by space :83 116 114 105 110 103 115 32 97 114 101 32 70 117 110 33\n",
      "\n",
      "Message is : Strings are Fun!\n"
     ]
    }
   ],
   "source": [
    "main()"
   ]
  },
  {
   "cell_type": "code",
   "execution_count": 89,
   "id": "e7c87fc0",
   "metadata": {},
   "outputs": [],
   "source": [
    "def main():\n",
    "    a=input(\"Enter date in format dd/mm/year :\").split(\"/\")\n",
    "    months=[\"jan\",\"Feb\",\"Mar\",\"Apr\",\"May\",\"Jun\",\"Jul\",\"Aug\",\"Sep\",\"Oct\",\"Nov\",\"Dec\"]\n",
    "    q=int(a[1])-1\n",
    "    print(months[q],a[0]+\",\",int(a[2]))"
   ]
  },
  {
   "cell_type": "code",
   "execution_count": 90,
   "id": "342b0a66",
   "metadata": {},
   "outputs": [
    {
     "name": "stdout",
     "output_type": "stream",
     "text": [
      "Enter date in format dd/mm/year :22/03/1999\n",
      "Mar 22, 1999\n"
     ]
    }
   ],
   "source": [
    "main()"
   ]
  },
  {
   "cell_type": "code",
   "execution_count": 91,
   "id": "5cb06d61",
   "metadata": {},
   "outputs": [
    {
     "data": {
      "text/plain": [
       "'500'"
      ]
     },
     "execution_count": 91,
     "metadata": {},
     "output_type": "execute_result"
    }
   ],
   "source": [
    "str(500)\n"
   ]
  },
  {
   "cell_type": "code",
   "execution_count": 6,
   "id": "cf3f101d",
   "metadata": {},
   "outputs": [
    {
     "name": "stdout",
     "output_type": "stream",
     "text": [
      "The total value of your change is $1.50\n"
     ]
    }
   ],
   "source": [
    "a=1.5\n",
    "print(\"The total value of your change is ${0:0.2f}\".format(a))"
   ]
  },
  {
   "cell_type": "code",
   "execution_count": 7,
   "id": "a46d180e",
   "metadata": {},
   "outputs": [
    {
     "name": "stdout",
     "output_type": "stream",
     "text": [
      "The total value of your change is $1.5\n"
     ]
    }
   ],
   "source": [
    "print(\"The total value of your change is ${0:0.2}\".format(a))"
   ]
  },
  {
   "cell_type": "code",
   "execution_count": 1,
   "id": "5cd8b8f2",
   "metadata": {},
   "outputs": [
    {
     "name": "stdout",
     "output_type": "stream",
     "text": [
      "Hello Mr. smith, you may have won $1000\n"
     ]
    }
   ],
   "source": [
    "print(\"Hello {0} {1}, you may have won ${2}\".format(\"Mr.\",\"smith\",1000))"
   ]
  },
  {
   "cell_type": "code",
   "execution_count": 2,
   "id": "d27681b7",
   "metadata": {},
   "outputs": [
    {
     "name": "stdout",
     "output_type": "stream",
     "text": [
      "This int,     4,was placed in field of width 5\n"
     ]
    }
   ],
   "source": [
    "print(\"This int, {0:5},was placed in field of width 5\".format(4))"
   ]
  },
  {
   "cell_type": "code",
   "execution_count": 3,
   "id": "74635203",
   "metadata": {},
   "outputs": [
    {
     "name": "stdout",
     "output_type": "stream",
     "text": [
      "This int,          4,was placed in field of width 5\n"
     ]
    }
   ],
   "source": [
    "print(\"This int, {0:10},was placed in field of width 5\".format(4))"
   ]
  },
  {
   "cell_type": "code",
   "execution_count": 4,
   "id": "64abad16",
   "metadata": {},
   "outputs": [
    {
     "name": "stdout",
     "output_type": "stream",
     "text": [
      "This int, 4,was placed in field of width 5\n"
     ]
    }
   ],
   "source": [
    "print(\"This int, {0:1},was placed in field of width 5\".format(4))"
   ]
  },
  {
   "cell_type": "code",
   "execution_count": 5,
   "id": "b3bf6326",
   "metadata": {},
   "outputs": [
    {
     "name": "stdout",
     "output_type": "stream",
     "text": [
      "This int, 4,was placed in field of width 5\n"
     ]
    }
   ],
   "source": [
    "print(\"This int, {0},was placed in field of width 5\".format(4))"
   ]
  },
  {
   "cell_type": "code",
   "execution_count": 8,
   "id": "b2fa980d",
   "metadata": {},
   "outputs": [
    {
     "name": "stdout",
     "output_type": "stream",
     "text": [
      "This float,     3.1416, has width 10 and precision 5\n"
     ]
    }
   ],
   "source": [
    "print(\"This float, {0:10.5}, has width 10 and precision 5\".format(3.1415926))"
   ]
  },
  {
   "cell_type": "code",
   "execution_count": 9,
   "id": "6ca157a0",
   "metadata": {},
   "outputs": [
    {
     "name": "stdout",
     "output_type": "stream",
     "text": [
      "this float,    3.14159,is fixed at 5 decimal places\n"
     ]
    }
   ],
   "source": [
    "print(\"this float, {0:10.5f},is fixed at 5 decimal places\".format(3.1415926))"
   ]
  },
  {
   "cell_type": "code",
   "execution_count": 10,
   "id": "84915b5d",
   "metadata": {},
   "outputs": [
    {
     "name": "stdout",
     "output_type": "stream",
     "text": [
      "compare 3.14 and 3.1400000000000001243\n"
     ]
    }
   ],
   "source": [
    "print(\"compare {0} and {0:0.20}\".format(3.14))"
   ]
  },
  {
   "cell_type": "code",
   "execution_count": 11,
   "id": "eab9f1ca",
   "metadata": {},
   "outputs": [
    {
     "name": "stdout",
     "output_type": "stream",
     "text": [
      "left justification: Hi!  \n"
     ]
    }
   ],
   "source": [
    "print(\"left justification: {0:<5}\".format(\"Hi!\"))"
   ]
  },
  {
   "cell_type": "code",
   "execution_count": 12,
   "id": "631d4196",
   "metadata": {},
   "outputs": [
    {
     "name": "stdout",
     "output_type": "stream",
     "text": [
      "right justification:   Hi!\n"
     ]
    }
   ],
   "source": [
    "print(\"right justification: {0:>5}\".format(\"Hi!\"))"
   ]
  },
  {
   "cell_type": "code",
   "execution_count": 13,
   "id": "36826765",
   "metadata": {},
   "outputs": [
    {
     "name": "stdout",
     "output_type": "stream",
     "text": [
      "centred justification:  Hi! \n"
     ]
    }
   ],
   "source": [
    "print(\"centred justification: {0:^5}\".format(\"Hi!\"))"
   ]
  },
  {
   "cell_type": "code",
   "execution_count": 17,
   "id": "8ef6a7bf",
   "metadata": {},
   "outputs": [
    {
     "name": "stdout",
     "output_type": "stream",
     "text": [
      "left justification:SaiSiva\n"
     ]
    }
   ],
   "source": [
    "print(\"left justification:{0:<5}\".format(\"SaiSiva\"))"
   ]
  },
  {
   "cell_type": "code",
   "execution_count": 16,
   "id": "8d062239",
   "metadata": {},
   "outputs": [
    {
     "name": "stdout",
     "output_type": "stream",
     "text": [
      "right justification:SaiSiva\n"
     ]
    }
   ],
   "source": [
    "print(\"right justification:{0:>5}\".format(\"SaiSiva\"))"
   ]
  },
  {
   "cell_type": "code",
   "execution_count": 18,
   "id": "05bb3ceb",
   "metadata": {},
   "outputs": [
    {
     "name": "stdout",
     "output_type": "stream",
     "text": [
      "left justification:SaiSiva\n"
     ]
    }
   ],
   "source": [
    "print(\"left justification:{0:^5}\".format(\"SaiSiva\"))"
   ]
  },
  {
   "cell_type": "code",
   "execution_count": 19,
   "id": "e936f97b",
   "metadata": {},
   "outputs": [
    {
     "name": "stdout",
     "output_type": "stream",
     "text": [
      "Hello\n",
      "world\n",
      "goodbye\n",
      "\n",
      "32\n"
     ]
    }
   ],
   "source": [
    "print(\"Hello\\nworld\\ngoodbye\\n\\n32\")"
   ]
  },
  {
   "cell_type": "code",
   "execution_count": 28,
   "id": "4d86b0bb",
   "metadata": {},
   "outputs": [],
   "source": [
    "def main():\n",
    "    fname=input(\"enter filename:\")\n",
    "    infile=open(fname,\"r\")\n",
    "    data=infile.read()\n",
    "    print(data)"
   ]
  },
  {
   "cell_type": "code",
   "execution_count": 29,
   "id": "56c83de9",
   "metadata": {},
   "outputs": [
    {
     "name": "stdout",
     "output_type": "stream",
     "text": [
      "enter filename:sai.txt\n",
      "Hello, I am Sai Siva Nagendra.\n",
      "I am doing masters at IITM\n",
      "1,2,3,4,5\n",
      "6,7,8,9,10\n"
     ]
    }
   ],
   "source": [
    "main()"
   ]
  },
  {
   "cell_type": "code",
   "execution_count": 38,
   "id": "e0865a4b",
   "metadata": {},
   "outputs": [],
   "source": [
    "def main():\n",
    "    fname=input(\"enter filename:\")\n",
    "    infile=open(fname,\"r\")\n",
    "    data=infile.readline()\n",
    "    print(data)\n",
    "    print(data[:-2])"
   ]
  },
  {
   "cell_type": "code",
   "execution_count": 39,
   "id": "30749a21",
   "metadata": {},
   "outputs": [
    {
     "name": "stdout",
     "output_type": "stream",
     "text": [
      "enter filename:sai.txt\n",
      "Hello, I am Sai Siva Nagendra.\n",
      "\n",
      "Hello, I am Sai Siva Nagendra\n"
     ]
    }
   ],
   "source": [
    "main()"
   ]
  },
  {
   "cell_type": "code",
   "execution_count": 35,
   "id": "0f05c019",
   "metadata": {},
   "outputs": [],
   "source": [
    "def main():\n",
    "    fname=input(\"enter filename:\")\n",
    "    infile=open(fname,\"r\")\n",
    "    data=infile.readlines()\n",
    "    print(data)\n",
    "    print(\"Hii\",data[3])"
   ]
  },
  {
   "cell_type": "code",
   "execution_count": 36,
   "id": "819c7b24",
   "metadata": {},
   "outputs": [
    {
     "name": "stdout",
     "output_type": "stream",
     "text": [
      "enter filename:sai.txt\n",
      "['Hello, I am Sai Siva Nagendra.\\n', 'I am doing masters at IITM\\n', '1,2,3,4,5\\n', '6,7,8,9,10']\n",
      "Hii 6,7,8,9,10\n"
     ]
    }
   ],
   "source": [
    "main()"
   ]
  },
  {
   "cell_type": "code",
   "execution_count": 46,
   "id": "e2675411",
   "metadata": {},
   "outputs": [
    {
     "name": "stdout",
     "output_type": "stream",
     "text": [
      "Hello, I am Sai Siva Nagendra.\n",
      "I am doing masters at IITM\n",
      "1,2,3,4,5\n",
      "6,7,8,9,1\n",
      "\n"
     ]
    }
   ],
   "source": [
    "infile=open(\"sai.txt\",\"r\")\n",
    "for i in range(5):\n",
    "    line=infile.readline()\n",
    "    print(line[:-1])\n",
    "#removed last 0 in 10"
   ]
  },
  {
   "cell_type": "code",
   "execution_count": 43,
   "id": "591fd1c0",
   "metadata": {},
   "outputs": [],
   "source": [
    "a=\"SaiSiva\""
   ]
  },
  {
   "cell_type": "code",
   "execution_count": 44,
   "id": "d0881d51",
   "metadata": {},
   "outputs": [
    {
     "data": {
      "text/plain": [
       "'SaiSiv'"
      ]
     },
     "execution_count": 44,
     "metadata": {},
     "output_type": "execute_result"
    }
   ],
   "source": [
    "a[:-1]"
   ]
  },
  {
   "cell_type": "code",
   "execution_count": 69,
   "id": "05971ac1",
   "metadata": {},
   "outputs": [
    {
     "name": "stdout",
     "output_type": "stream",
     "text": [
      "<_io.TextIOWrapper name='sai.txt' mode='r' encoding='cp1252'>\n",
      "Hello, I am Sai Siva Nagendra.\n",
      "I am doing masters at IITM\n",
      "1,2,3,4,5\n",
      "6,7,8,9,10"
     ]
    }
   ],
   "source": [
    "infile=open(\"sai.txt\",\"r\")\n",
    "print(infile)\n",
    "for i in range(5):\n",
    "    line=infile.readline()\n",
    "    print(line,end=\"\")\n",
    "infile.close()"
   ]
  },
  {
   "cell_type": "code",
   "execution_count": 116,
   "id": "a3f9ed0c",
   "metadata": {},
   "outputs": [],
   "source": [
    "outfile=open(\"mydata.txt\",\"w\")\n",
    "print(\"Hi, This is sai siva\",file=outfile)"
   ]
  },
  {
   "cell_type": "code",
   "execution_count": 117,
   "id": "cd1a3a60",
   "metadata": {},
   "outputs": [],
   "source": [
    "def main():\n",
    "    print(\"his programme creates a file of usernames from a file of name.\")\n",
    "    infile=open(\"mydata.txt\",\"r\")\n",
    "    outfile=open(\"user1.txt\",\"w\")\n",
    "    for i in infile:\n",
    "        fi=i.split()\n",
    "        uname=(fi[0][0]+fi[1][:7]).lower()\n",
    "        print(uname,file=outfile)\n",
    "    infile.close()\n",
    "    outfile.close()\n",
    "    print(\"Usernames have been written to\",\"user1.txt\")"
   ]
  },
  {
   "cell_type": "code",
   "execution_count": 118,
   "id": "eec2c8aa",
   "metadata": {},
   "outputs": [
    {
     "name": "stdout",
     "output_type": "stream",
     "text": [
      "his programme creates a file of usernames from a file of name.\n",
      "Usernames have been written to user1.txt\n"
     ]
    }
   ],
   "source": [
    "main()"
   ]
  },
  {
   "cell_type": "code",
   "execution_count": 78,
   "id": "4856f643",
   "metadata": {},
   "outputs": [],
   "source": [
    "a=\"sai siva\"\n",
    "b=a.split()"
   ]
  },
  {
   "cell_type": "code",
   "execution_count": 79,
   "id": "73db9464",
   "metadata": {},
   "outputs": [
    {
     "data": {
      "text/plain": [
       "['sai', 'siva']"
      ]
     },
     "execution_count": 79,
     "metadata": {},
     "output_type": "execute_result"
    }
   ],
   "source": [
    "b"
   ]
  },
  {
   "cell_type": "code",
   "execution_count": 80,
   "id": "4380d513",
   "metadata": {},
   "outputs": [
    {
     "data": {
      "text/plain": [
       "'sai'"
      ]
     },
     "execution_count": 80,
     "metadata": {},
     "output_type": "execute_result"
    }
   ],
   "source": [
    "b[0]"
   ]
  },
  {
   "cell_type": "code",
   "execution_count": 81,
   "id": "240466af",
   "metadata": {},
   "outputs": [
    {
     "data": {
      "text/plain": [
       "'s'"
      ]
     },
     "execution_count": 81,
     "metadata": {},
     "output_type": "execute_result"
    }
   ],
   "source": [
    "b[0][0]"
   ]
  },
  {
   "cell_type": "code",
   "execution_count": 85,
   "id": "9becb89f",
   "metadata": {},
   "outputs": [
    {
     "data": {
      "text/plain": [
       "'a'"
      ]
     },
     "execution_count": 85,
     "metadata": {},
     "output_type": "execute_result"
    }
   ],
   "source": [
    "b[1][3]"
   ]
  },
  {
   "cell_type": "code",
   "execution_count": 3,
   "id": "56ef6de7",
   "metadata": {},
   "outputs": [
    {
     "data": {
      "text/plain": [
       "'C:/Users/siva2/Desktop/python/sai.txt'"
      ]
     },
     "execution_count": 3,
     "metadata": {},
     "output_type": "execute_result"
    }
   ],
   "source": [
    "from tkinter.filedialog import askopenfilename\n",
    "infile=askopenfilename()\n",
    "infile"
   ]
  },
  {
   "cell_type": "code",
   "execution_count": 2,
   "id": "d0a17bdc",
   "metadata": {},
   "outputs": [
    {
     "ename": "AttributeError",
     "evalue": "'str' object has no attribute 'read'",
     "output_type": "error",
     "traceback": [
      "\u001b[1;31m---------------------------------------------------------------------------\u001b[0m",
      "\u001b[1;31mAttributeError\u001b[0m                            Traceback (most recent call last)",
      "Input \u001b[1;32mIn [2]\u001b[0m, in \u001b[0;36m<cell line: 1>\u001b[1;34m()\u001b[0m\n\u001b[1;32m----> 1\u001b[0m data\u001b[38;5;241m=\u001b[39m\u001b[43minfile\u001b[49m\u001b[38;5;241;43m.\u001b[39;49m\u001b[43mread\u001b[49m()\n\u001b[0;32m      2\u001b[0m \u001b[38;5;28mprint\u001b[39m(data)\n",
      "\u001b[1;31mAttributeError\u001b[0m: 'str' object has no attribute 'read'"
     ]
    }
   ],
   "source": [
    "data=infile.read()\n",
    "print(data)"
   ]
  },
  {
   "cell_type": "code",
   "execution_count": 3,
   "id": "fa66fc38",
   "metadata": {},
   "outputs": [],
   "source": [
    "#programming assignment-question-1\n",
    "def main():\n",
    "    a=input(\"Enter date in format dd/mm/year :\").split(\"/\")\n",
    "    months=[\"Jan\",\"Feb\",\"Mar\",\"Apr\",\"May\",\"Jun\",\"Jul\",\"Aug\",\"Sep\",\"Oct\",\"Nov\",\"Dec\"]\n",
    "    b=int(a[1])-1\n",
    "    print(\"entered date is {0} {1}, {2}\".format(months[b],a[0],a[2]))\n",
    "    "
   ]
  },
  {
   "cell_type": "code",
   "execution_count": 4,
   "id": "073aee57",
   "metadata": {},
   "outputs": [
    {
     "name": "stdout",
     "output_type": "stream",
     "text": [
      "Enter date in format dd/mm/year :22/03/1999\n",
      "entered date is Mar 22, 1999\n"
     ]
    }
   ],
   "source": [
    "main()"
   ]
  },
  {
   "cell_type": "code",
   "execution_count": 9,
   "id": "5a2b9d1d",
   "metadata": {},
   "outputs": [],
   "source": [
    "#programming assignment-question-2\n",
    "import math\n",
    "def main():\n",
    "    a=float(input(\"Enter points :\"))\n",
    "    c=math.ceil(a)\n",
    "    if c==0:\n",
    "        c=1\n",
    "    b=[\"F\",\"D\",\"C\",\"B\",\"A\"]\n",
    "    print(\"Your grade is {0}\".format(b[c-1]))"
   ]
  },
  {
   "cell_type": "code",
   "execution_count": 14,
   "id": "c7152f3f",
   "metadata": {},
   "outputs": [
    {
     "name": "stdout",
     "output_type": "stream",
     "text": [
      "Enter points :5\n",
      "Your grade is A\n"
     ]
    }
   ],
   "source": [
    "main()\n"
   ]
  },
  {
   "cell_type": "code",
   "execution_count": 26,
   "id": "dab04186",
   "metadata": {},
   "outputs": [],
   "source": [
    "#programming assignment - question-3\n",
    "import math\n",
    "def main():\n",
    "    a=float(input(\"Enter marks between 0-100 :\"))\n",
    "    c=math.ceil(a)\n",
    "    b=[\"F\",\"D\",\"C\",\"B\",\"A\"]\n",
    "    \n",
    "    if (c>=90 and c<=100):\n",
    "        k=4\n",
    "    elif (c>=80 and c<90):\n",
    "        k=3\n",
    "    elif (c>=70 and c<80):\n",
    "        k=2\n",
    "    elif (c>=60 and c<70):\n",
    "        k=1\n",
    "    else:\n",
    "        k=0\n",
    "    print(\"your grade is {0}\".format(b[k]))\n",
    "    "
   ]
  },
  {
   "cell_type": "code",
   "execution_count": 27,
   "id": "d69f26d9",
   "metadata": {},
   "outputs": [
    {
     "name": "stdout",
     "output_type": "stream",
     "text": [
      "Enter marks between 0-100 :58\n",
      "your grade is F\n"
     ]
    }
   ],
   "source": [
    "main()"
   ]
  },
  {
   "cell_type": "code",
   "execution_count": 30,
   "id": "1b38b648",
   "metadata": {},
   "outputs": [],
   "source": [
    "#programming assignment-question-4\n",
    "def main():\n",
    "    a=input(\"Enter the phrase:\").split()\n",
    "    h=\"\"\n",
    "    for i in a:\n",
    "        h=h+i[0]\n",
    "    print(\"acronym of given phrase is {0}\".format(h.upper()))\n",
    "    "
   ]
  },
  {
   "cell_type": "code",
   "execution_count": 31,
   "id": "f6eed8df",
   "metadata": {},
   "outputs": [
    {
     "name": "stdout",
     "output_type": "stream",
     "text": [
      "Enter the phrase:random access memory\n",
      "acronym of given phrase is RAM\n"
     ]
    }
   ],
   "source": [
    "main()\n"
   ]
  },
  {
   "cell_type": "code",
   "execution_count": 36,
   "id": "889920ab",
   "metadata": {},
   "outputs": [],
   "source": [
    "#programming assignment - question-5\n",
    "def main():\n",
    "    a=input(\"Enter name without any spaces :\").upper()\n",
    "    \n",
    "    nu=0\n",
    "    for i in a:\n",
    "        nu=nu+(ord(i) -64)\n",
    "    print(\"Numeric value is {0}\".format(nu))"
   ]
  },
  {
   "cell_type": "code",
   "execution_count": 37,
   "id": "27043f2c",
   "metadata": {},
   "outputs": [
    {
     "name": "stdout",
     "output_type": "stream",
     "text": [
      "Enter name without any spaces :Zelle\n",
      "Numeric value is 60\n"
     ]
    }
   ],
   "source": [
    "main()"
   ]
  },
  {
   "cell_type": "code",
   "execution_count": 34,
   "id": "e5d86ac9",
   "metadata": {},
   "outputs": [
    {
     "data": {
      "text/plain": [
       "int"
      ]
     },
     "execution_count": 34,
     "metadata": {},
     "output_type": "execute_result"
    }
   ],
   "source": [
    "type(ord(\"A\"))"
   ]
  },
  {
   "cell_type": "code",
   "execution_count": 35,
   "id": "31af115d",
   "metadata": {},
   "outputs": [
    {
     "data": {
      "text/plain": [
       "['Zelle']"
      ]
     },
     "execution_count": 35,
     "metadata": {},
     "output_type": "execute_result"
    }
   ],
   "source": [
    "\"Zelle\".split()"
   ]
  },
  {
   "cell_type": "code",
   "execution_count": 43,
   "id": "5b2ea56e",
   "metadata": {},
   "outputs": [],
   "source": [
    "#programming assignment - question-6\n",
    "def main():\n",
    "    a=input(\"Enter name with any spaces :\").upper()\n",
    "    b=a.split()\n",
    "    g=\"\".join(b)\n",
    "    nu=0\n",
    "    for i in g:\n",
    "        nu=nu+(ord(i) -64)\n",
    "    print(\"Numeric value is {0}\".format(nu))"
   ]
  },
  {
   "cell_type": "code",
   "execution_count": 44,
   "id": "34eb35a7",
   "metadata": {},
   "outputs": [
    {
     "name": "stdout",
     "output_type": "stream",
     "text": [
      "Enter name with any spaces :zelle zelle\n",
      "Numeric value is 120\n"
     ]
    }
   ],
   "source": [
    "main()"
   ]
  },
  {
   "cell_type": "code",
   "execution_count": 1,
   "id": "10b97e1b",
   "metadata": {},
   "outputs": [],
   "source": [
    "#programming assignment - question-7\n",
    "def main():\n",
    "    a=input(\"Enter the string:\")\n",
    "    b=int(input(\"enter the key:\"))\n",
    "    f=\"\"\n",
    "    for i in a:\n",
    "        f=f+chr(ord(i)+2)\n",
    "    print(\"coded form is {0}\".format(f))"
   ]
  },
  {
   "cell_type": "code",
   "execution_count": 2,
   "id": "e13a432c",
   "metadata": {},
   "outputs": [
    {
     "name": "stdout",
     "output_type": "stream",
     "text": [
      "Enter the string:Sourpuss\n",
      "enter the key:2\n",
      "coded form is Uqwtrwuu\n"
     ]
    }
   ],
   "source": [
    "main()"
   ]
  },
  {
   "cell_type": "code",
   "execution_count": 6,
   "id": "e3bdbd37",
   "metadata": {},
   "outputs": [],
   "source": [
    "#programming assignment - question-8\n",
    "def main():\n",
    "    a=input(\"Enter the string:\").upper()\n",
    "    b=int(input(\"enter the key:\"))\n",
    "    k=\"abcdefghijklmnopqrstuvwxyzabcdefghijklmnopqrstuvwxyz\"\n",
    "    f=\"\"\n",
    "    for i in a:\n",
    "        f=f+k[ord(i)+b-64-1]\n",
    "    print(\"coded form is {0}\".format(f))"
   ]
  },
  {
   "cell_type": "code",
   "execution_count": 7,
   "id": "2eb67932",
   "metadata": {},
   "outputs": [
    {
     "name": "stdout",
     "output_type": "stream",
     "text": [
      "Enter the string:sourpussyz\n",
      "enter the key:2\n",
      "coded form is uqwtrwuuab\n"
     ]
    }
   ],
   "source": [
    "main()"
   ]
  },
  {
   "cell_type": "code",
   "execution_count": 5,
   "id": "1d123646",
   "metadata": {},
   "outputs": [
    {
     "data": {
      "text/plain": [
       "'A'"
      ]
     },
     "execution_count": 5,
     "metadata": {},
     "output_type": "execute_result"
    }
   ],
   "source": [
    "chr(65)"
   ]
  },
  {
   "cell_type": "code",
   "execution_count": 12,
   "id": "5d59a9e1",
   "metadata": {},
   "outputs": [],
   "source": [
    "#programming assignment - question-9\n",
    "def main():\n",
    "    a=input(\"Enter the sentance:\").split()\n",
    "    \n",
    "    print(\"Number of words : {0}\".format(len(a)))"
   ]
  },
  {
   "cell_type": "code",
   "execution_count": 13,
   "id": "c50fca7a",
   "metadata": {},
   "outputs": [
    {
     "name": "stdout",
     "output_type": "stream",
     "text": [
      "Enter the sentance:P SAI Siva nagendra\n",
      "Number of words : 4\n"
     ]
    }
   ],
   "source": [
    "main()"
   ]
  },
  {
   "cell_type": "code",
   "execution_count": 15,
   "id": "9b00b66c",
   "metadata": {},
   "outputs": [],
   "source": [
    "#programming assignment - question-10\n",
    "def main():\n",
    "    a=input(\"Enter the sentance:\").split()\n",
    "    b=len(a)\n",
    "    sum=0\n",
    "    for i in a:\n",
    "        sum=sum+len(i)\n",
    "    avgi=sum/b\n",
    "    print(\"Average word length in sentance : {0}\".format(avgi))"
   ]
  },
  {
   "cell_type": "code",
   "execution_count": 16,
   "id": "7defb16c",
   "metadata": {},
   "outputs": [
    {
     "name": "stdout",
     "output_type": "stream",
     "text": [
      "Enter the sentance:P Sai Siva Nagendra\n",
      "Average word length in sentance : 4.0\n"
     ]
    }
   ],
   "source": [
    "main()"
   ]
  },
  {
   "cell_type": "code",
   "execution_count": 45,
   "id": "13216213",
   "metadata": {},
   "outputs": [],
   "source": [
    "#programming assignment - question-11\n",
    "def main():\n",
    "    print('This programme illustrates a chaotic function')\n",
    "    print(\"index     0.25          0.26\")\n",
    "    print(\"-------------------------------\")\n",
    "    x=0.25\n",
    "    y=0.26\n",
    "    for i in range(10):\n",
    "        x=3.9*x*(1-x)\n",
    "        y=3.9*y*(1-y)\n",
    "        print(\"  {0}      {1:0.6f}     {2:0.6f}  \".format(i,x,y))"
   ]
  },
  {
   "cell_type": "code",
   "execution_count": 46,
   "id": "7bc24928",
   "metadata": {},
   "outputs": [
    {
     "name": "stdout",
     "output_type": "stream",
     "text": [
      "This programme illustrates a chaotic function\n",
      "index     0.25          0.26\n",
      "-------------------------------\n",
      "  0      0.731250     0.750360  \n",
      "  1      0.766441     0.730547  \n",
      "  2      0.698135     0.767707  \n",
      "  3      0.821896     0.695499  \n",
      "  4      0.570894     0.825942  \n",
      "  5      0.955399     0.560671  \n",
      "  6      0.166187     0.960644  \n",
      "  7      0.540418     0.147447  \n",
      "  8      0.968629     0.490255  \n",
      "  9      0.118509     0.974630  \n"
     ]
    }
   ],
   "source": [
    "main()"
   ]
  },
  {
   "cell_type": "code",
   "execution_count": 50,
   "id": "bda060f8",
   "metadata": {},
   "outputs": [],
   "source": [
    "#programming assignment - question-12\n",
    "def main():\n",
    "    print('This programme print future values')\n",
    "    a=eval(input(\"Enter principle amount :\"))\n",
    "    b=eval(input(\"Annual interste rate :\"))\n",
    "    c=eval(input(\"Number of years :\"))\n",
    "    \n",
    "    print(\"year     value\")\n",
    "    print(\"------------------\")\n",
    "    for i in range(c+1):\n",
    "        total=a*((1+b)**i)\n",
    "        \n",
    "        print(\"  {0}      ${1:0.2f}\".format(i,total))"
   ]
  },
  {
   "cell_type": "code",
   "execution_count": 51,
   "id": "669dfffc",
   "metadata": {},
   "outputs": [
    {
     "name": "stdout",
     "output_type": "stream",
     "text": [
      "This programme print future values\n",
      "Enter principle amount :2000\n",
      "Annual interste rate :0.1\n",
      "Number of years :7\n",
      "year     value\n",
      "------------------\n",
      "  0      $2000.00\n",
      "  1      $2200.00\n",
      "  2      $2420.00\n",
      "  3      $2662.00\n",
      "  4      $2928.20\n",
      "  5      $3221.02\n",
      "  6      $3543.12\n",
      "  7      $3897.43\n"
     ]
    }
   ],
   "source": [
    "main()"
   ]
  },
  {
   "cell_type": "code",
   "execution_count": 60,
   "id": "49f2aff5",
   "metadata": {},
   "outputs": [],
   "source": [
    "#programming assignment - question-14\n",
    "def main():\n",
    "    a=input(\"Enter file name (Sai.txt) :\")\n",
    "    file=open(a,\"r\")\n",
    "    infile=file.readlines()\n",
    "    l=0\n",
    "    w=0\n",
    "    ch=0\n",
    "    for lines in infile:\n",
    "        print(lines)\n",
    "        l=l+1\n",
    "        q=lines.split()\n",
    "        w=w+len(q)\n",
    "        for k in q:\n",
    "            ch=ch+len(k)\n",
    "    print(\"Number of lines :{0}\".format(l))\n",
    "    print(\"Number of words :{0}\".format(w))\n",
    "    print(\"Number of characters :{0}\".format(ch))\n",
    "    \n"
   ]
  },
  {
   "cell_type": "code",
   "execution_count": 61,
   "id": "f1ef8a27",
   "metadata": {},
   "outputs": [
    {
     "name": "stdout",
     "output_type": "stream",
     "text": [
      "Enter file name (Sai.txt) :sai.txt\n",
      "Hello, I am Sai Siva Nagendra.\n",
      "\n",
      "I am doing masters at IITM\n",
      "\n",
      "Number of lines :2\n",
      "Number of words :12\n",
      "Number of characters :46\n"
     ]
    }
   ],
   "source": [
    "main()"
   ]
  },
  {
   "cell_type": "code",
   "execution_count": 1,
   "id": "99d93d82",
   "metadata": {},
   "outputs": [],
   "source": [
    "#programming excercise-question-15\n",
    "from graphics import *\n",
    "def main():\n",
    "    a=input(\"Enter file name:\")\n",
    "    file=open(a,\"r\")\n",
    "    infile=file.readlines()\n",
    "    l=0\n",
    "    for lines in infile:\n",
    "        l=l+1\n",
    "    win=GraphWin(\"Grades\",300,l*50)\n",
    "    win.setCoords(0.0,0.0,150,l+2)\n",
    "    Text(Point(75,l+1.75),\"marks distribution\").draw(win)\n",
    "    r=l\n",
    "    for line in infile:\n",
    "        q=line.split(\":\")\n",
    "        t=Text(Point(15,r+1.15),q[0])\n",
    "        t.draw(win)\n",
    "        inr=float(q[1])\n",
    "        s=Rectangle(Point(50,r+1),Point(inr+50,r+1.3))\n",
    "        s.setFill(\"green\")\n",
    "        s.draw(win)\n",
    "        r=r-1"
   ]
  },
  {
   "cell_type": "code",
   "execution_count": 2,
   "id": "9da6ee74",
   "metadata": {},
   "outputs": [
    {
     "name": "stdout",
     "output_type": "stream",
     "text": [
      "Enter file name:mark.txt\n"
     ]
    }
   ],
   "source": [
    "main()"
   ]
  },
  {
   "attachments": {
    "aa.JPG": {
     "image/jpeg": "[encoded data removed]"
    }
   },
   "cell_type": "markdown",
   "id": "48334cf1",
   "metadata": {},
   "source": [
    "![aa.JPG](attachment:aa.JPG)"
   ]
  },
  {
   "cell_type": "code",
   "execution_count": 1,
   "id": "49b632bf",
   "metadata": {},
   "outputs": [
    {
     "data": {
      "text/plain": [
       "2"
      ]
     },
     "execution_count": 1,
     "metadata": {},
     "output_type": "execute_result"
    }
   ],
   "source": [
    "a=\"SaiSiva\"\n",
    "a.find(\"i\")"
   ]
  },
  {
   "cell_type": "code",
   "execution_count": 14,
   "id": "02c375b9",
   "metadata": {},
   "outputs": [
    {
     "name": "stdout",
     "output_type": "stream",
     "text": [
      "Eter roman number :MCMXCIV\n"
     ]
    },
    {
     "data": {
      "text/plain": [
       "1994"
      ]
     },
     "execution_count": 14,
     "metadata": {},
     "output_type": "execute_result"
    }
   ],
   "source": [
    "        s=input(\"Eter roman number :\")\n",
    "        a=\"IVXLCDM\"\n",
    "        b=[1,5,10,50,100,500,1000]\n",
    "        num=0\n",
    "        k=0\n",
    "        while (k<(len(s))):\n",
    "            if (len(s)==1 or k==len(s)-1):\n",
    "                e=a.find(s[k])\n",
    "                num=num+b[e]\n",
    "            else:\n",
    "                e=a.find(s[k])\n",
    "                f=a.find(s[k+1])\n",
    "                if b[e]<b[f]:\n",
    "                    num=num+(b[f]-b[e])\n",
    "                    k=k+1\n",
    "                else:\n",
    "                    num=num+b[e]\n",
    "            k=k+1\n",
    "        num"
   ]
  },
  {
   "cell_type": "code",
   "execution_count": null,
   "id": "1db83580",
   "metadata": {},
   "outputs": [],
   "source": []
  }
 ],
 "metadata": {
  "kernelspec": {
   "display_name": "Python 3 (ipykernel)",
   "language": "python",
   "name": "python3"
  },
  "language_info": {
   "codemirror_mode": {
    "name": "ipython",
    "version": 3
   },
   "file_extension": ".py",
   "mimetype": "text/x-python",
   "name": "python",
   "nbconvert_exporter": "python",
   "pygments_lexer": "ipython3",
   "version": "3.9.12"
  }
 },
 "nbformat": 4,
 "nbformat_minor": 5
}
