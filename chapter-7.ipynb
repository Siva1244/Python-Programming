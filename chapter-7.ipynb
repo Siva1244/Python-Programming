{
 "cells": [
  {
   "cell_type": "code",
   "execution_count": 4,
   "id": "7d353c8b",
   "metadata": {},
   "outputs": [],
   "source": [
    "def main():\n",
    "    celsius = float(input(\"What is the celsius temperature :\"))\n",
    "    fahrenheit=9/5 * celsius +32\n",
    "    print(\"The temperature is \",fahrenheit,\"degrees fahrenheit.\")\n",
    "    if fahrenheit >90:\n",
    "        print(\"It is rezlly hot out there. Be careful\")\n",
    "    if fahrenheit <30:\n",
    "        print(\"Brrrr. Be sure to dress warmly!\")\n",
    "    "
   ]
  },
  {
   "cell_type": "code",
   "execution_count": 3,
   "id": "2717db4d",
   "metadata": {},
   "outputs": [
    {
     "name": "stdout",
     "output_type": "stream",
     "text": [
      "What is the celsius temperature :55\n",
      "The temperature is  131.0 degrees fahrenheit.\n"
     ]
    }
   ],
   "source": [
    "main()"
   ]
  },
  {
   "cell_type": "code",
   "execution_count": 5,
   "id": "ea8153ae",
   "metadata": {},
   "outputs": [
    {
     "data": {
      "text/plain": [
       "True"
      ]
     },
     "execution_count": 5,
     "metadata": {},
     "output_type": "execute_result"
    }
   ],
   "source": [
    "3<4"
   ]
  },
  {
   "cell_type": "code",
   "execution_count": 6,
   "id": "d8a1a93e",
   "metadata": {},
   "outputs": [],
   "source": [
    "import math"
   ]
  },
  {
   "cell_type": "code",
   "execution_count": 7,
   "id": "2ccaa60d",
   "metadata": {},
   "outputs": [
    {
     "data": {
      "text/plain": [
       "'math'"
      ]
     },
     "execution_count": 7,
     "metadata": {},
     "output_type": "execute_result"
    }
   ],
   "source": [
    "math.__name__"
   ]
  },
  {
   "cell_type": "code",
   "execution_count": 8,
   "id": "5a38ca32",
   "metadata": {},
   "outputs": [
    {
     "data": {
      "text/plain": [
       "'__main__'"
      ]
     },
     "execution_count": 8,
     "metadata": {},
     "output_type": "execute_result"
    }
   ],
   "source": [
    "__name__"
   ]
  },
  {
   "cell_type": "code",
   "execution_count": 9,
   "id": "71a6e961",
   "metadata": {},
   "outputs": [],
   "source": [
    "import math\n",
    "def main():\n",
    "    print(\"This programming finds the real solution to a quadratic\\n\")\n",
    "    \n",
    "    a=float(input(\"Enter coffecient a:\"))\n",
    "    b=float(input(\"Enter coffecient b:\"))\n",
    "    c=float(input(\"Enter coffecient c:\"))\n",
    "    \n",
    "    discroot=b*b-4*a*c\n",
    "    if discroot >=0:\n",
    "        if discroot==0:\n",
    "            root=-b/(2*a)\n",
    "            print(\"There is a double root at \",root)\n",
    "        else:\n",
    "            root1=(-b+math.sqrt(discroot))/(2*a)\n",
    "            root2=(-b-math.sqrt(discroot))/(2*a)\n",
    "    \n",
    "            print(\"\\n The solution are:\",root1,root2)\n",
    "    else:\n",
    "        print(\"Roots are imaginary\")\n",
    "    "
   ]
  },
  {
   "cell_type": "code",
   "execution_count": 12,
   "id": "561c037d",
   "metadata": {},
   "outputs": [],
   "source": [
    "import math\n",
    "def main():\n",
    "    print(\"This programming finds the real solution to a quadratic\\n\")\n",
    "    \n",
    "    a=float(input(\"Enter coffecient a:\"))\n",
    "    b=float(input(\"Enter coffecient b:\"))\n",
    "    c=float(input(\"Enter coffecient c:\"))\n",
    "    \n",
    "    discroot=b*b-4*a*c\n",
    "    if discroot >0:\n",
    "        k=math.sqrt(discroot)\n",
    "        root1=(-b+k)/(2*a)\n",
    "        root2=(-b-k)/(2*a)\n",
    "        print(\"\\n The solution are:\",root1,root2)\n",
    "    elif discroot ==0:\n",
    "        root=-b/(2*a)\n",
    "        print(\"There is a double root at \",root)\n",
    "    else:\n",
    "        print(\"Roots are imaginary\")"
   ]
  },
  {
   "cell_type": "code",
   "execution_count": 13,
   "id": "f7d92f3b",
   "metadata": {},
   "outputs": [
    {
     "name": "stdout",
     "output_type": "stream",
     "text": [
      "This programming finds the real solution to a quadratic\n",
      "\n",
      "Enter coffecient a:1\n",
      "Enter coffecient b:2\n",
      "Enter coffecient c:3\n",
      "Roots are imaginary\n"
     ]
    }
   ],
   "source": [
    "main()"
   ]
  },
  {
   "cell_type": "code",
   "execution_count": 14,
   "id": "af941ee8",
   "metadata": {},
   "outputs": [],
   "source": [
    "# Exception handling\n",
    "import math\n",
    "def main():\n",
    "    print(\"This programme finds the real solution to a quadratic\\n\")\n",
    "    try:\n",
    "        a=float(input(\"Enter coffecient a:\"))\n",
    "        b=float(input(\"enter coffecient b:\"))\n",
    "        c=float(input(\"enter coffecient c:\"))\n",
    "        discroot=math.sqrt(b*b-4*a*c)\n",
    "        root1=(-b+discroot)/(2*a)\n",
    "        root2=(-b-discroot)/(2*a)\n",
    "        print(\"\\n the solutions are:\",root1,root2)\n",
    "    except ValueError:\n",
    "        print(\"\\nNo real roots\")"
   ]
  },
  {
   "cell_type": "code",
   "execution_count": 15,
   "id": "803a4067",
   "metadata": {},
   "outputs": [
    {
     "name": "stdout",
     "output_type": "stream",
     "text": [
      "This programme finds the real solution to a quadratic\n",
      "\n",
      "Enter coffecient a:1\n",
      "enter coffecient b:2\n",
      "enter coffecient c:3\n",
      "\n",
      "No real roots\n"
     ]
    }
   ],
   "source": [
    "main()"
   ]
  },
  {
   "cell_type": "code",
   "execution_count": 16,
   "id": "c87175ed",
   "metadata": {},
   "outputs": [
    {
     "name": "stdout",
     "output_type": "stream",
     "text": [
      "This programme finds the real solution to a quadratic\n",
      "\n",
      "Enter coffecient a:x\n",
      "\n",
      "No real roots\n"
     ]
    }
   ],
   "source": [
    "main()"
   ]
  },
  {
   "cell_type": "code",
   "execution_count": 5,
   "id": "1baee8d0",
   "metadata": {},
   "outputs": [
    {
     "name": "stdout",
     "output_type": "stream",
     "text": [
      "-43\n"
     ]
    }
   ],
   "source": [
    "a=\"    -43\"\n",
    "b=0\n",
    "c=0\n",
    "for i in range(len(a)):\n",
    "    try:\n",
    "        b=b*10+int(a[i])\n",
    "        try:\n",
    "            a[i-1]==\"-\"\n",
    "            c=1\n",
    "        except:\n",
    "            continue\n",
    "            \n",
    "    except:\n",
    "        if a[i]==\" \" or a[i]==\"-\" or a[i]==\"+\":\n",
    "            continue\n",
    "        else:\n",
    "            break\n",
    "if c==1:\n",
    "    b=(-1)*b\n",
    "\n",
    "print(b)"
   ]
  },
  {
   "cell_type": "code",
   "execution_count": 6,
   "id": "bf5511e4",
   "metadata": {},
   "outputs": [],
   "source": [
    "# Exception handling\n",
    "import math\n",
    "def main():\n",
    "    print(\"This programme finds the real solution to a quadratic\\n\")\n",
    "    try:\n",
    "        a=float(input(\"Enter coffecient a:\"))\n",
    "        b=float(input(\"enter coffecient b:\"))\n",
    "        c=float(input(\"enter coffecient c:\"))\n",
    "        discroot=math.sqrt(b*b-4*a*c)\n",
    "        root1=(-b+discroot)/(2*a)\n",
    "        root2=(-b-discroot)/(2*a)\n",
    "        print(\"\\n the solutions are:\",root1,root2)\n",
    "    except ValueError as excObj:\n",
    "        if str(excObj)==\"math domain error\":\n",
    "            print(\"No real roots\")\n",
    "        else:\n",
    "            print(\"Invalid coffecient given\")\n",
    "    except:\n",
    "        print(\"Something went wrong, sorry!\")"
   ]
  },
  {
   "cell_type": "code",
   "execution_count": 18,
   "id": "f2549b57",
   "metadata": {},
   "outputs": [
    {
     "name": "stdout",
     "output_type": "stream",
     "text": [
      "This programme finds the real solution to a quadratic\n",
      "\n",
      "Enter coffecient a:x\n",
      "Invalid coffecient given\n"
     ]
    }
   ],
   "source": [
    "main()"
   ]
  },
  {
   "cell_type": "code",
   "execution_count": 19,
   "id": "610301e8",
   "metadata": {},
   "outputs": [
    {
     "name": "stdout",
     "output_type": "stream",
     "text": [
      "This programme finds the real solution to a quadratic\n",
      "\n",
      "Enter coffecient a:-3\n",
      "enter coffecient b:55\n",
      "enter coffecient c:57\n",
      "\n",
      " the solutions are: -0.9835933190567422 19.316926652390077\n"
     ]
    }
   ],
   "source": [
    "main()"
   ]
  },
  {
   "cell_type": "code",
   "execution_count": 23,
   "id": "a3595efb",
   "metadata": {},
   "outputs": [],
   "source": [
    "def main():\n",
    "    x1,x2,x3=eval(input(\"please enter three values:\"))\n",
    "    if x1>=x2 and x1>=x3:\n",
    "        maxval=x1\n",
    "    elif x2>=x1 and x2>=x3:\n",
    "        maxval=x2\n",
    "    else:\n",
    "        maxval=x3\n",
    "    print(\"The largest is \",maxval) "
   ]
  },
  {
   "cell_type": "code",
   "execution_count": 24,
   "id": "67775b7e",
   "metadata": {},
   "outputs": [
    {
     "name": "stdout",
     "output_type": "stream",
     "text": [
      "please enter three values:1,2,3\n",
      "The largest is  3\n"
     ]
    }
   ],
   "source": [
    "main()"
   ]
  },
  {
   "cell_type": "code",
   "execution_count": 26,
   "id": "32bbdb5a",
   "metadata": {},
   "outputs": [],
   "source": [
    "def main():\n",
    "    x1,x2,x3=eval(input(\"please enter three values:\"))\n",
    "    if x1>=x2: \n",
    "        if x1>=x3:\n",
    "            maxval=x1\n",
    "        else:\n",
    "            maxval=x3\n",
    "            \n",
    "    else:\n",
    "        if x2>=x3:\n",
    "            maxval=x2\n",
    "        else:\n",
    "            maxval=x3\n",
    "    print(\"The largest is \",maxval) "
   ]
  },
  {
   "cell_type": "code",
   "execution_count": 27,
   "id": "770b0cf5",
   "metadata": {},
   "outputs": [
    {
     "name": "stdout",
     "output_type": "stream",
     "text": [
      "please enter three values:1,2,3\n",
      "The largest is  3\n"
     ]
    }
   ],
   "source": [
    "main()"
   ]
  },
  {
   "cell_type": "code",
   "execution_count": 28,
   "id": "d83ab829",
   "metadata": {},
   "outputs": [],
   "source": [
    "def main():\n",
    "    x1,x2,x3=eval(input(\"please enter three values:\"))\n",
    "    maxval=x1\n",
    "    if x2>maxval:\n",
    "        maxval=x2\n",
    "    if x3>maxval:\n",
    "        maxval=x3\n",
    "    print(\"The largest is \",maxval) "
   ]
  },
  {
   "cell_type": "code",
   "execution_count": 29,
   "id": "d5d140f7",
   "metadata": {},
   "outputs": [
    {
     "name": "stdout",
     "output_type": "stream",
     "text": [
      "please enter three values:1,2,3\n",
      "The largest is  3\n"
     ]
    }
   ],
   "source": [
    "main()"
   ]
  },
  {
   "cell_type": "code",
   "execution_count": 35,
   "id": "32e0b33c",
   "metadata": {},
   "outputs": [],
   "source": [
    "def main():\n",
    "    n=int(input(\"How many numbers are there?\"))\n",
    "    maxval=float(input(\"Enter a number >>\"))\n",
    "    for i in range(1,n):\n",
    "            x=float(input(\"Enter a number >>\"))\n",
    "            if x>maxval:\n",
    "                maxval=x\n",
    "    print(\"the largest value is\",maxval)"
   ]
  },
  {
   "cell_type": "code",
   "execution_count": 36,
   "id": "45475a1b",
   "metadata": {},
   "outputs": [
    {
     "name": "stdout",
     "output_type": "stream",
     "text": [
      "How many numbers are there?4\n",
      "Enter a number5\n",
      "Enter a number >>6\n",
      "Enter a number >>8\n",
      "Enter a number >>1\n",
      "the largest value is 8.0\n"
     ]
    }
   ],
   "source": [
    "main()"
   ]
  },
  {
   "cell_type": "code",
   "execution_count": 37,
   "id": "526ca1e7",
   "metadata": {},
   "outputs": [],
   "source": [
    "def main():\n",
    "    x1,x2,x3=eval(input(\"Please enter three values:\"))\n",
    "    print(\"The largesst value is\",max(x1,x2,x3))"
   ]
  },
  {
   "cell_type": "code",
   "execution_count": 38,
   "id": "6e9a5efa",
   "metadata": {},
   "outputs": [
    {
     "name": "stdout",
     "output_type": "stream",
     "text": [
      "Please enter three values:1,5,6\n",
      "The largesst value is 6\n"
     ]
    }
   ],
   "source": [
    "main()"
   ]
  },
  {
   "cell_type": "code",
   "execution_count": 39,
   "id": "b889d1c3",
   "metadata": {},
   "outputs": [],
   "source": [
    "#Programming assignment_Question-1\n",
    "def main():\n",
    "    a=eval(input(\"Enter number of hours worked:\"))\n",
    "    b=eval(input(\"enter hourly rate:\"))\n",
    "    if a<40:\n",
    "        wage=a*b\n",
    "    else:\n",
    "        wage=40*b+(a-40)*(1.5*b)\n",
    "    print(\"total wage is\",wage)\n",
    "    "
   ]
  },
  {
   "cell_type": "code",
   "execution_count": 40,
   "id": "93f49c87",
   "metadata": {},
   "outputs": [
    {
     "name": "stdout",
     "output_type": "stream",
     "text": [
      "Enter number of hours worked:50\n",
      "enter hourly rate:6\n",
      "total wage is 330.0\n"
     ]
    }
   ],
   "source": [
    "main()"
   ]
  },
  {
   "cell_type": "code",
   "execution_count": 41,
   "id": "84d3376b",
   "metadata": {},
   "outputs": [],
   "source": [
    "#programming assignment_Question-2\n",
    "def grade(n):\n",
    "    if n==5:\n",
    "        gr=\"A\"\n",
    "    elif n==4:\n",
    "        gr=\"B\"\n",
    "    elif n==3:\n",
    "        gr=\"C\"\n",
    "    elif n==2:\n",
    "        gr=\"D\"\n",
    "    else:\n",
    "        gr=\"F\"\n",
    "    print(gr)"
   ]
  },
  {
   "cell_type": "code",
   "execution_count": 43,
   "id": "a6952ba1",
   "metadata": {},
   "outputs": [
    {
     "name": "stdout",
     "output_type": "stream",
     "text": [
      "C\n"
     ]
    }
   ],
   "source": [
    "grade(3)\n"
   ]
  },
  {
   "cell_type": "code",
   "execution_count": 44,
   "id": "a6416a52",
   "metadata": {},
   "outputs": [],
   "source": [
    "#programming assignment_Question-3\n",
    "def grad(n):\n",
    "    if n<=100 and n>=90:\n",
    "        gr=\"A\"\n",
    "    elif n<90 and n>=80:\n",
    "        gr=\"B\"\n",
    "    elif n<80 and n>=70:\n",
    "        gr=\"C\"\n",
    "    elif n<70 and n>=60:\n",
    "        gr=\"D\"\n",
    "    else:\n",
    "        gr=\"F\"\n",
    "    print(gr)"
   ]
  },
  {
   "cell_type": "code",
   "execution_count": 45,
   "id": "89defed3",
   "metadata": {},
   "outputs": [
    {
     "name": "stdout",
     "output_type": "stream",
     "text": [
      "D\n"
     ]
    }
   ],
   "source": [
    "grad(67)"
   ]
  },
  {
   "cell_type": "code",
   "execution_count": 46,
   "id": "a3e82581",
   "metadata": {},
   "outputs": [],
   "source": [
    "#programming assignment_Question-5\n",
    "def main():\n",
    "    wi=eval(input(\"Enter body weight:\"))\n",
    "    hi=eval(input(\"Enter body hight:\"))\n",
    "    bmi=wi*720/hi\n",
    "    if bmi<19:\n",
    "        print(\"you are below healthy range\")\n",
    "    elif bmi>=19 and bmi<=25:\n",
    "        print(\"You are health\")\n",
    "    else:\n",
    "        print(\"you are above healthy range\")\n",
    "        \n",
    "    "
   ]
  },
  {
   "cell_type": "code",
   "execution_count": 71,
   "id": "3d75ea0c",
   "metadata": {},
   "outputs": [],
   "source": [
    "#Programming assignment_question-11\n",
    "def leap(a):\n",
    "    if (a%4==0):\n",
    "        if (a%100==0):\n",
    "            if (a%400==0):\n",
    "                print(\"{0} is a leap year\".format(a))\n",
    "                y=1\n",
    "            else:\n",
    "                print(\"{0} is not a leap year\".format(a))\n",
    "                y=0\n",
    "        else:\n",
    "            print(\"{0} is a leap year\".format(a))\n",
    "            y=1\n",
    "        \n",
    "    else:\n",
    "        print(\"{0} is not a leap year\".format(a))\n",
    "        y=0\n",
    "    return y"
   ]
  },
  {
   "cell_type": "code",
   "execution_count": 49,
   "id": "3f92182b",
   "metadata": {},
   "outputs": [
    {
     "name": "stdout",
     "output_type": "stream",
     "text": [
      "Enter the year:1600\n",
      "1600 is a leap year\n"
     ]
    }
   ],
   "source": [
    "main()"
   ]
  },
  {
   "cell_type": "code",
   "execution_count": 57,
   "id": "dda4618c",
   "metadata": {},
   "outputs": [],
   "source": [
    "#Programming assignment_question-12\n",
    "def main():\n",
    "    date=input(\"Enter date (mm/dd/year):\").split(\"/\")\n",
    "    t=\"/\".join(date)\n",
    "    m=int(date[0])\n",
    "    d=int(date[1])\n",
    "    y=int(date[2])\n",
    "    if m==1 and ( d>0 and d<32 ):\n",
    "        print(t,\" is valid\")\n",
    "    elif m==2 and ( d>0 and d<30):\n",
    "        w=leap(y)\n",
    "        if (w==1) and d<30 :\n",
    "            print(t,\" is valid\")\n",
    "        elif d<29:\n",
    "            print(t,\" is valid\")\n",
    "        else:\n",
    "            print(t,\" is invalid\")\n",
    "    elif m==3 and ( d>0 and d<32 ):\n",
    "        print(t,\" is valid\")\n",
    "    elif m==4 and ( d>0 and d<31 ):\n",
    "        print(t,\" is valid\")\n",
    "    elif m==5 and ( d>0 and d<32 ):\n",
    "        print(t,\" is valid\")    \n",
    "    elif m==6 and ( d>0 and d<31 ):\n",
    "        print(t,\" is valid\")        \n",
    "    elif m==7 and ( d>0 and d<32 ):\n",
    "        print(t,\" is valid\")\n",
    "    elif m==8 and ( d>0 and d<32 ):\n",
    "        print(t,\" is valid\")\n",
    "    elif m==9 and ( d>0 and d<31 ):\n",
    "        print(t,\" is valid\")\n",
    "    elif m==10 and ( d>0 and d<32 ):\n",
    "        print(t,\" is valid\")\n",
    "    elif m==11 and ( d>0 and d<31 ):\n",
    "        print(t,\" is valid\")\n",
    "    elif m==12 and ( d>0 and d<32 ):\n",
    "        print(t,\" is valid\")\n",
    "    else:\n",
    "        print(t,\" is invalid\")"
   ]
  },
  {
   "cell_type": "code",
   "execution_count": 60,
   "id": "284baf7c",
   "metadata": {},
   "outputs": [
    {
     "name": "stdout",
     "output_type": "stream",
     "text": [
      "Enter date (mm/dd/year):2/28/2021\n",
      "2/28/2021  is valid\n"
     ]
    }
   ],
   "source": [
    "main()"
   ]
  },
  {
   "cell_type": "code",
   "execution_count": 74,
   "id": "5b7573d4",
   "metadata": {},
   "outputs": [],
   "source": [
    "#Programming assignment_question-13\n",
    "def main():\n",
    "    date=input(\"Enter date (mm/dd/year):\").split(\"/\")\n",
    "    t=\"/\".join(date)\n",
    "    m=int(date[0])\n",
    "    d=int(date[1])\n",
    "    y=int(date[2])\n",
    "    o=0\n",
    "    l=0\n",
    "    if m==1 and ( d>0 and d<32 ):\n",
    "        print(t,\" is valid\")\n",
    "    elif m==2 and ( d>0 and d<30):\n",
    "        w=leap(y)\n",
    "        if (w) and d<30 :\n",
    "            l=1\n",
    "            print(t,\" is valid\")\n",
    "        elif d<29:\n",
    "            print(t,\" is valid\")\n",
    "        else:\n",
    "            o=1\n",
    "            print(t,\" is invalid\")\n",
    "    elif m==3 and ( d>0 and d<32 ):\n",
    "        print(t,\" is valid\")\n",
    "    elif m==4 and ( d>0 and d<31 ):\n",
    "        print(t,\" is valid\")\n",
    "    elif m==5 and ( d>0 and d<32 ):\n",
    "        print(t,\" is valid\")    \n",
    "    elif m==6 and ( d>0 and d<31 ):\n",
    "        print(t,\" is valid\")        \n",
    "    elif m==7 and ( d>0 and d<32 ):\n",
    "        print(t,\" is valid\")\n",
    "    elif m==8 and ( d>0 and d<32 ):\n",
    "        print(t,\" is valid\")\n",
    "    elif m==9 and ( d>0 and d<31 ):\n",
    "        print(t,\" is valid\")\n",
    "    elif m==10 and ( d>0 and d<32 ):\n",
    "        print(t,\" is valid\")\n",
    "    elif m==11 and ( d>0 and d<31 ):\n",
    "        print(t,\" is valid\")\n",
    "    elif m==12 and ( d>0 and d<32 ):\n",
    "        print(t,\" is valid\")\n",
    "    else:\n",
    "        print(t,\" is invalid\")\n",
    "        o=1\n",
    "        \n",
    "    if o==0:\n",
    "        dayNum=31*(m-1)+d\n",
    "        if m>2:\n",
    "            dayNum=dayNum-((4*m+23)//10)\n",
    "            if l==1:\n",
    "                dayNum=dayNum+1\n",
    "        print(\"day number is\",dayNum)"
   ]
  },
  {
   "cell_type": "code",
   "execution_count": 76,
   "id": "1f82f5be",
   "metadata": {},
   "outputs": [
    {
     "name": "stdout",
     "output_type": "stream",
     "text": [
      "Enter date (mm/dd/year):5/8/2028\n",
      "5/8/2028  is valid\n",
      "day number is 128\n"
     ]
    }
   ],
   "source": [
    "main()"
   ]
  },
  {
   "cell_type": "code",
   "execution_count": 77,
   "id": "d9b630a4",
   "metadata": {},
   "outputs": [
    {
     "name": "stdout",
     "output_type": "stream",
     "text": [
      "2028 is a leap year\n"
     ]
    },
    {
     "data": {
      "text/plain": [
       "1"
      ]
     },
     "execution_count": 77,
     "metadata": {},
     "output_type": "execute_result"
    }
   ],
   "source": [
    "leap(2028)"
   ]
  },
  {
   "cell_type": "code",
   "execution_count": 6,
   "id": "19bebc21",
   "metadata": {},
   "outputs": [],
   "source": [
    "#Programming Assignment Question-16\n",
    "from graphics import *\n",
    "import math\n",
    "def main():\n",
    "    win=GraphWin(\"Target\",400,400)\n",
    "    win.setCoords(0,0,25,25)\n",
    "    cen=Point(12.5,12.5)\n",
    "    a=Circle(cen,9).draw(win)\n",
    "    a.setFill(\"white\")\n",
    "    a.setWidth(1)\n",
    "    b=Circle(cen,7).draw(win)\n",
    "    b.setFill(\"black\")\n",
    "    b.setWidth(1)\n",
    "    c=Circle(cen,5).draw(win)\n",
    "    c.setFill(\"blue\")\n",
    "    c.setWidth(1)\n",
    "    d=Circle(cen,3).draw(win)\n",
    "    d.setFill(\"red\")\n",
    "    d.setWidth(1)\n",
    "    e=Circle(cen,1).draw(win)\n",
    "    e.setFill(\"yellow\")\n",
    "    Text(Point(9,23),\"Your score is\").draw(win)\n",
    "    h=Text(Point(15,23),\"0\")\n",
    "    h.draw(win)\n",
    "    for i in range(10):\n",
    "        \n",
    "        p=win.getMouse()\n",
    "        score=sco(p,cen)\n",
    "        h.setText(score)\n",
    "    \n",
    "   \n",
    "    \n",
    "    win.getMouse()\n",
    "    win.close()\n",
    "    \n",
    "def sco(p,cen):\n",
    "    x1=p.getX()\n",
    "    x2=cen.getX()\n",
    "    y1=p.getY()\n",
    "    y2=cen.getY()\n",
    "    dist=math.sqrt((x2-x1)**2+(y2-y1)**2)\n",
    "    if dist<=1:\n",
    "        score=9\n",
    "    elif dist<=3:\n",
    "        score=7\n",
    "    elif dist<=5:\n",
    "        score=5\n",
    "    elif dist<=7:\n",
    "        score=3\n",
    "    elif dist<=9:\n",
    "        score=1\n",
    "    else:\n",
    "        score=0\n",
    "    return score"
   ]
  },
  {
   "cell_type": "code",
   "execution_count": 7,
   "id": "cea2a822",
   "metadata": {},
   "outputs": [],
   "source": [
    "main()"
   ]
  },
  {
   "cell_type": "code",
   "execution_count": 3,
   "id": "d589af10",
   "metadata": {},
   "outputs": [],
   "source": [
    "#Programming Assignment Question-17\n",
    "from graphics import *\n",
    "import math\n",
    "def main():\n",
    "    win=GraphWin(\"Bouncing of ball\",500,500)\n",
    "    win.setCoords(0,0,100,100)\n",
    "    p=Point(50,50)\n",
    "    a=Circle(p,10)\n",
    "    a.setFill(\"green\")\n",
    "    a.draw(win)\n",
    "    for i in range(1000):\n",
    "        cen=a.getCenter()\n",
    "        x=cen.getX()\n",
    "        y=cen.getY()\n",
    "        t=i%3\n",
    "        if (x+10>100):\n",
    "            dx=-t\n",
    "        elif (x-10<0):\n",
    "            dx=t\n",
    "        if (y+10>100):\n",
    "            dy=-t\n",
    "        elif (y-10<0):\n",
    "            dy=t\n",
    "        a.move(dx,dy)\n",
    "        update(30)\n",
    "    win.getMouse()\n",
    "    win.close()"
   ]
  },
  {
   "cell_type": "code",
   "execution_count": 4,
   "id": "3055b7a8",
   "metadata": {},
   "outputs": [
    {
     "ename": "UnboundLocalError",
     "evalue": "local variable 'dx' referenced before assignment",
     "output_type": "error",
     "traceback": [
      "\u001b[1;31m---------------------------------------------------------------------------\u001b[0m",
      "\u001b[1;31mUnboundLocalError\u001b[0m                         Traceback (most recent call last)",
      "Input \u001b[1;32mIn [4]\u001b[0m, in \u001b[0;36m<cell line: 1>\u001b[1;34m()\u001b[0m\n\u001b[1;32m----> 1\u001b[0m \u001b[43mmain\u001b[49m\u001b[43m(\u001b[49m\u001b[43m)\u001b[49m\n",
      "Input \u001b[1;32mIn [3]\u001b[0m, in \u001b[0;36mmain\u001b[1;34m()\u001b[0m\n\u001b[0;32m     22\u001b[0m     \u001b[38;5;28;01melif\u001b[39;00m (y\u001b[38;5;241m-\u001b[39m\u001b[38;5;241m10\u001b[39m\u001b[38;5;241m<\u001b[39m\u001b[38;5;241m0\u001b[39m):\n\u001b[0;32m     23\u001b[0m         dy\u001b[38;5;241m=\u001b[39mt\n\u001b[1;32m---> 24\u001b[0m     a\u001b[38;5;241m.\u001b[39mmove(\u001b[43mdx\u001b[49m,dy)\n\u001b[0;32m     25\u001b[0m     update(\u001b[38;5;241m30\u001b[39m)\n\u001b[0;32m     26\u001b[0m win\u001b[38;5;241m.\u001b[39mgetMouse()\n",
      "\u001b[1;31mUnboundLocalError\u001b[0m: local variable 'dx' referenced before assignment"
     ]
    }
   ],
   "source": [
    "main()"
   ]
  },
  {
   "cell_type": "code",
   "execution_count": 2,
   "id": "965e076c",
   "metadata": {},
   "outputs": [],
   "source": [
    "def main():\n",
    "    win=GraphWin(\"Bouncing of ball\",500,500)\n",
    "    win.setCoords(0,0,100,100)\n",
    "    p=Point(50,50)\n",
    "    a=Circle(p,10)\n",
    "    a.setFill(\"green\")\n",
    "    a.draw(win)\n",
    "    for i in range(1000):\n",
    "        cen=a.getCenter()\n",
    "        x=cen.getX()\n",
    "        y=cen.getY()\n",
    "        t=i%3\n",
    "        if (x+10>100):\n",
    "            dx=-t\n",
    "        elif (x-10<0):\n",
    "            dx=t\n",
    "        if (y+10>100):\n",
    "            dy=-t\n",
    "        elif (y-10<0):\n",
    "            dy=t\n",
    "        a.move(dx,dy)\n",
    "        update(30)\n",
    "    win.getMouse()\n",
    "    win.close()"
   ]
  },
  {
   "cell_type": "code",
   "execution_count": 3,
   "id": "1e037d08",
   "metadata": {},
   "outputs": [
    {
     "ename": "NameError",
     "evalue": "name 'GraphWin' is not defined",
     "output_type": "error",
     "traceback": [
      "\u001b[1;31m---------------------------------------------------------------------------\u001b[0m",
      "\u001b[1;31mNameError\u001b[0m                                 Traceback (most recent call last)",
      "Input \u001b[1;32mIn [3]\u001b[0m, in \u001b[0;36m<cell line: 1>\u001b[1;34m()\u001b[0m\n\u001b[1;32m----> 1\u001b[0m \u001b[43mmain\u001b[49m\u001b[43m(\u001b[49m\u001b[43m)\u001b[49m\n",
      "Input \u001b[1;32mIn [2]\u001b[0m, in \u001b[0;36mmain\u001b[1;34m()\u001b[0m\n\u001b[0;32m      1\u001b[0m \u001b[38;5;28;01mdef\u001b[39;00m \u001b[38;5;21mmain\u001b[39m():\n\u001b[1;32m----> 2\u001b[0m     win\u001b[38;5;241m=\u001b[39m\u001b[43mGraphWin\u001b[49m(\u001b[38;5;124m\"\u001b[39m\u001b[38;5;124mBouncing of ball\u001b[39m\u001b[38;5;124m\"\u001b[39m,\u001b[38;5;241m500\u001b[39m,\u001b[38;5;241m500\u001b[39m)\n\u001b[0;32m      3\u001b[0m     win\u001b[38;5;241m.\u001b[39msetCoords(\u001b[38;5;241m0\u001b[39m,\u001b[38;5;241m0\u001b[39m,\u001b[38;5;241m100\u001b[39m,\u001b[38;5;241m100\u001b[39m)\n\u001b[0;32m      4\u001b[0m     p\u001b[38;5;241m=\u001b[39mPoint(\u001b[38;5;241m50\u001b[39m,\u001b[38;5;241m50\u001b[39m)\n",
      "\u001b[1;31mNameError\u001b[0m: name 'GraphWin' is not defined"
     ]
    }
   ],
   "source": [
    "main()"
   ]
  },
  {
   "cell_type": "code",
   "execution_count": null,
   "id": "72d17e95",
   "metadata": {},
   "outputs": [],
   "source": [
    "a=\"IVXLCDM\"\n",
    "        b=[1,5,10,50,100,500,1000]\n",
    "        num=0\n",
    "        k=0\n",
    "        while(k<(len(s))):\n",
    "            if (len(s)==1 or k==len(s)-1):\n",
    "                e=a.find(s[k])\n",
    "                num=num+b[e]\n",
    "            else:\n",
    "                e=a.find(s[k])\n",
    "                f=a.find(s[k+1])\n",
    "                if b[e]<b[f]:\n",
    "                    num=num+(b[f]-b[e])\n",
    "                    k=k+1\n",
    "                else:\n",
    "                    num=num+b[e]\n",
    "            k=k+1\n",
    "        return num"
   ]
  },
  {
   "cell_type": "code",
   "execution_count": 27,
   "id": "009dc886",
   "metadata": {},
   "outputs": [],
   "source": [
    "    def romanToInt(s):\n",
    "        \"\"\"\n",
    "        :type s: str\n",
    "        :rtype: int\n",
    "        \"\"\"\n",
    "        \n",
    "        a=['I','V','X','L','C','D','M']\n",
    "        b=[1,5,10,50,100,500,1000]\n",
    "        A=['IV','IX','XL','XC','CD','CM']\n",
    "        B=[4,9,40,90,400,900]\n",
    "        d=0\n",
    "        i=0\n",
    "        for i in range(len(s)):\n",
    "            if s[i] in a and s[i:i+2] not in A:\n",
    "                q=a.index(s[i])\n",
    "                d+=b[q]\n",
    "            else:\n",
    "                q=A.index(s[i:i+2])\n",
    "                d+=B[q]\n",
    "        return d"
   ]
  },
  {
   "cell_type": "code",
   "execution_count": 30,
   "id": "27541991",
   "metadata": {},
   "outputs": [
    {
     "data": {
      "text/plain": [
       "3999"
      ]
     },
     "execution_count": 30,
     "metadata": {},
     "output_type": "execute_result"
    }
   ],
   "source": [
    "romanToInt(\"MMMCMXCIX\")"
   ]
  },
  {
   "cell_type": "code",
   "execution_count": 26,
   "id": "0a219444",
   "metadata": {},
   "outputs": [
    {
     "name": "stdout",
     "output_type": "stream",
     "text": [
      "Hi Sai \n",
      " pakdksn\n"
     ]
    }
   ],
   "source": [
    "print(\"Hi Sai \\n pakdksn\")"
   ]
  },
  {
   "cell_type": "code",
   "execution_count": null,
   "id": "aac88aa0",
   "metadata": {},
   "outputs": [],
   "source": []
  }
 ],
 "metadata": {
  "kernelspec": {
   "display_name": "Python 3 (ipykernel)",
   "language": "python",
   "name": "python3"
  },
  "language_info": {
   "codemirror_mode": {
    "name": "ipython",
    "version": 3
   },
   "file_extension": ".py",
   "mimetype": "text/x-python",
   "name": "python",
   "nbconvert_exporter": "python",
   "pygments_lexer": "ipython3",
   "version": "3.9.12"
  }
 },
 "nbformat": 4,
 "nbformat_minor": 5
}
