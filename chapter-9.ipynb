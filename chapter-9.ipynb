{
 "cells": [
  {
   "cell_type": "code",
   "execution_count": 9,
   "id": "2cd8acbb",
   "metadata": {},
   "outputs": [
    {
     "data": {
      "text/plain": [
       "2"
      ]
     },
     "execution_count": 9,
     "metadata": {},
     "output_type": "execute_result"
    }
   ],
   "source": [
    "from random import randrange\n",
    "randrange(1,6)"
   ]
  },
  {
   "cell_type": "code",
   "execution_count": 14,
   "id": "9fc55d16",
   "metadata": {},
   "outputs": [
    {
     "data": {
      "text/plain": [
       "-3"
      ]
     },
     "execution_count": 14,
     "metadata": {},
     "output_type": "execute_result"
    }
   ],
   "source": [
    "randrange(-5,5)"
   ]
  },
  {
   "cell_type": "code",
   "execution_count": 17,
   "id": "214fe4c5",
   "metadata": {},
   "outputs": [
    {
     "data": {
      "text/plain": [
       "65"
      ]
     },
     "execution_count": 17,
     "metadata": {},
     "output_type": "execute_result"
    }
   ],
   "source": [
    "randrange(5,105,5)"
   ]
  },
  {
   "cell_type": "code",
   "execution_count": 18,
   "id": "de0773c8",
   "metadata": {},
   "outputs": [
    {
     "data": {
      "text/plain": [
       "0.888802988826992"
      ]
     },
     "execution_count": 18,
     "metadata": {},
     "output_type": "execute_result"
    }
   ],
   "source": [
    "from random import random\n",
    "random()"
   ]
  },
  {
   "cell_type": "code",
   "execution_count": 26,
   "id": "34523c1f",
   "metadata": {},
   "outputs": [],
   "source": [
    "from random import random\n",
    "def main():\n",
    "    printIntro()\n",
    "    pa,pb,n=getInputs()\n",
    "    winA,winB=simNGames(n,pa,pb)\n",
    "    printSummary(winA,winB)\n",
    "\n",
    "def printIntro():\n",
    "    print(\"This programme simulates a game of racqutball between two\")\n",
    "    print('players called \"A\" and \"B\". The ability of each player is')\n",
    "    print(\"indicated by a probability (a number between 0 and 1) that\")\n",
    "    print(\"the player wins the point when serving. Player A always\")\n",
    "    print(\"has the first serve.\")\n",
    "    \n",
    "def getInputs():\n",
    "    #Returns the three simulation parameters probA, probB and n\n",
    "    a=float(input(\"What is the prob. player A wins a serve? \"))\n",
    "    b=float(input(\"What is the prob. player B wins a serve? \"))\n",
    "    n=int(input(\"How many games to simulate? \"))\n",
    "    return a,b,n\n",
    "\n",
    "\n",
    "def simNGames(n,probA,probB):\n",
    "    winA=0\n",
    "    winB=0\n",
    "    for i in range(n):\n",
    "        scoreA,scoreB=simOneGame(probA,probB)\n",
    "        if scoreA>scoreB:\n",
    "            winA=winA+1\n",
    "        else:\n",
    "            winB=winB+1\n",
    "    return winA, winB\n",
    "\n",
    "def simOneGame(probA,probB):\n",
    "    scoreA=0\n",
    "    scoreB=0\n",
    "    serving=\"A\"\n",
    "    while not gameOver(scoreA,scoreB):\n",
    "        if serving == \"A\":\n",
    "            if random() < probA:\n",
    "                scoreA=scoreA+1\n",
    "            else:\n",
    "                serving = \"B\"\n",
    "        else:\n",
    "            if random() < probB:\n",
    "                scoreB=scoreB+1\n",
    "            else:\n",
    "                serving = \"A\"\n",
    "        \n",
    "    return scoreA,scoreB\n",
    "\n",
    "def gameOver(a,b):\n",
    "    # a and b represent scores for a racquetball game\n",
    "    #Return True if the game is over, False otherwise\n",
    "    return (a==15 or b==15)\n",
    "    \n",
    "    \n",
    "def printSummary(winA,winB):\n",
    "    #prints a summary of wins for each player.\n",
    "    n=winA+winB\n",
    "    print(\"\\nGames simulated :\",n)\n",
    "    print(\"Wins for A: {0} ({1:0.1%})\".format(winA,winA/n))\n",
    "    print(\"wins for B: {0} ({1:0.1%})\".format(winB,winB/n))\n",
    "\n"
   ]
  },
  {
   "cell_type": "code",
   "execution_count": 27,
   "id": "364b1b38",
   "metadata": {},
   "outputs": [
    {
     "name": "stdout",
     "output_type": "stream",
     "text": [
      "This programme simulates a game of racqutball between two\n",
      "players called \"A\" and \"B\". The ability of each player is\n",
      "indicated by a probability (a number between 0 and 1) that\n",
      "the player wins the point when serving. Player A always\n",
      "has the first serve.\n",
      "What is the prob. player A wins a serve? 0.73\n",
      "What is the prob. player B wins a serve? 0.74\n",
      "How many games to simulate? 200\n",
      "\n",
      "Games simulated : 200\n",
      "Wins for A: 99 (49.5%)\n",
      "wins for B: 101 (50.5%)\n"
     ]
    }
   ],
   "source": [
    "if __name__=='__main__':\n",
    "    main()"
   ]
  },
  {
   "cell_type": "code",
   "execution_count": 28,
   "id": "c1f134e1",
   "metadata": {},
   "outputs": [
    {
     "data": {
      "text/plain": [
       "False"
      ]
     },
     "execution_count": 28,
     "metadata": {},
     "output_type": "execute_result"
    }
   ],
   "source": [
    "gameOver(0,0)"
   ]
  },
  {
   "cell_type": "code",
   "execution_count": 29,
   "id": "7e3cb473",
   "metadata": {},
   "outputs": [
    {
     "data": {
      "text/plain": [
       "False"
      ]
     },
     "execution_count": 29,
     "metadata": {},
     "output_type": "execute_result"
    }
   ],
   "source": [
    "gameOver(5,10)"
   ]
  },
  {
   "cell_type": "code",
   "execution_count": 30,
   "id": "f4229b77",
   "metadata": {},
   "outputs": [
    {
     "data": {
      "text/plain": [
       "True"
      ]
     },
     "execution_count": 30,
     "metadata": {},
     "output_type": "execute_result"
    }
   ],
   "source": [
    "gameOver(15,3)"
   ]
  },
  {
   "cell_type": "code",
   "execution_count": 31,
   "id": "f6fb9da6",
   "metadata": {},
   "outputs": [
    {
     "data": {
      "text/plain": [
       "True"
      ]
     },
     "execution_count": 31,
     "metadata": {},
     "output_type": "execute_result"
    }
   ],
   "source": [
    "gameOver(3,15)"
   ]
  },
  {
   "cell_type": "code",
   "execution_count": 32,
   "id": "84bb82f8",
   "metadata": {},
   "outputs": [
    {
     "data": {
      "text/plain": [
       "(8, 15)"
      ]
     },
     "execution_count": 32,
     "metadata": {},
     "output_type": "execute_result"
    }
   ],
   "source": [
    "simOneGame(0.5,0.5)"
   ]
  },
  {
   "cell_type": "code",
   "execution_count": 37,
   "id": "dc27a2a7",
   "metadata": {},
   "outputs": [
    {
     "data": {
      "text/plain": [
       "(8, 15)"
      ]
     },
     "execution_count": 37,
     "metadata": {},
     "output_type": "execute_result"
    }
   ],
   "source": [
    "simOneGame(0.5,0.5)"
   ]
  },
  {
   "cell_type": "code",
   "execution_count": 38,
   "id": "c0ff6f18",
   "metadata": {},
   "outputs": [
    {
     "name": "stdout",
     "output_type": "stream",
     "text": [
      "This programme simulates a game of racqutball between two\n",
      "players called \"A\" and \"B\". The ability of each player is\n",
      "indicated by a probability (a number between 0 and 1) that\n",
      "the player wins the point when serving. Player A always\n",
      "has the first serve.\n",
      "What is the prob. player A wins a serve? 0.65\n",
      "What is the prob. player B wins a serve? 0.6\n",
      "How many games to simulate? 5000\n",
      "\n",
      "Games simulated : 5000\n",
      "Wins for A: 3410 (68.2%)\n",
      "wins for B: 1590 (31.8%)\n"
     ]
    }
   ],
   "source": [
    "main()"
   ]
  },
  {
   "cell_type": "code",
   "execution_count": null,
   "id": "bd5b42ae",
   "metadata": {},
   "outputs": [],
   "source": []
  }
 ],
 "metadata": {
  "kernelspec": {
   "display_name": "Python 3 (ipykernel)",
   "language": "python",
   "name": "python3"
  },
  "language_info": {
   "codemirror_mode": {
    "name": "ipython",
    "version": 3
   },
   "file_extension": ".py",
   "mimetype": "text/x-python",
   "name": "python",
   "nbconvert_exporter": "python",
   "pygments_lexer": "ipython3",
   "version": "3.9.12"
  }
 },
 "nbformat": 4,
 "nbformat_minor": 5
}
