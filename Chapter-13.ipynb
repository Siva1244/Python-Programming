{
 "cells": [
  {
   "cell_type": "markdown",
   "id": "b9973aa4",
   "metadata": {},
   "source": [
    "# Searching "
   ]
  },
  {
   "cell_type": "code",
   "execution_count": 3,
   "id": "077047eb",
   "metadata": {},
   "outputs": [],
   "source": [
    "def search(x,nums):\n",
    "    #nums is a list of numbers and x is a number\n",
    "    #Returns the position in the list where x occurs or -1 if\n",
    "    #    x is not in the list\n",
    "    if x in nums:\n",
    "        return nums.index(x)\n",
    "    else :\n",
    "        return -1\n",
    "        \n",
    "        \n",
    "        \n",
    "#  or other code\n",
    "def asearch(x,nums):\n",
    "    try:\n",
    "        return nums.index(x)\n",
    "    except:\n",
    "        return -1\n",
    "    "
   ]
  },
  {
   "cell_type": "code",
   "execution_count": 4,
   "id": "57178f96",
   "metadata": {},
   "outputs": [
    {
     "data": {
      "text/plain": [
       "2"
      ]
     },
     "execution_count": 4,
     "metadata": {},
     "output_type": "execute_result"
    }
   ],
   "source": [
    "search(3,[1,2,3,4,5,6])"
   ]
  },
  {
   "cell_type": "code",
   "execution_count": 5,
   "id": "3ef02907",
   "metadata": {},
   "outputs": [
    {
     "data": {
      "text/plain": [
       "2"
      ]
     },
     "execution_count": 5,
     "metadata": {},
     "output_type": "execute_result"
    }
   ],
   "source": [
    "asearch(3,[1,2,3,4,5,6])"
   ]
  },
  {
   "cell_type": "markdown",
   "id": "9a701f77",
   "metadata": {},
   "source": [
    "# Linear search"
   ]
  },
  {
   "cell_type": "code",
   "execution_count": null,
   "id": "b54bac21",
   "metadata": {},
   "outputs": [],
   "source": [
    "def search(x,nums):\n",
    "    for i in range(len(nums)):\n",
    "        if nums[i] == x:    #item found, return the index value\n",
    "            return i\n",
    "    return -1               # loop finished, item was not in list"
   ]
  },
  {
   "cell_type": "markdown",
   "id": "c51eb645",
   "metadata": {},
   "source": [
    "# Binary Search"
   ]
  },
  {
   "cell_type": "code",
   "execution_count": null,
   "id": "79787404",
   "metadata": {},
   "outputs": [],
   "source": [
    "def search(x,nums):\n",
    "    low=0\n",
    "    high = len(nums)-1\n",
    "    while low<=high:          #There is still a range to search\n",
    "        mid = (low+high)//2   #   position of middle item\n",
    "        item = nums[mid]      \n",
    "        if x== item:          # Found it! Return the index\n",
    "            return mid\n",
    "        elif x<item:         # x is in lower half of range\n",
    "            high = mid-1     #   move top marker down\n",
    "        else:               # x is in upper half\n",
    "            low=mid+1       # move bottom marker up\n",
    "    return -1               # no range left to search\n",
    "                            # x is not there"
   ]
  },
  {
   "cell_type": "markdown",
   "id": "df635f75",
   "metadata": {},
   "source": [
    "# Recursive Function"
   ]
  },
  {
   "cell_type": "code",
   "execution_count": 6,
   "id": "54e9ac78",
   "metadata": {},
   "outputs": [],
   "source": [
    "def facti(n):\n",
    "    if n==0:\n",
    "        return 1\n",
    "    else:\n",
    "        return n*facti(n-1)"
   ]
  },
  {
   "cell_type": "code",
   "execution_count": 7,
   "id": "2d2903d7",
   "metadata": {},
   "outputs": [
    {
     "data": {
      "text/plain": [
       "120"
      ]
     },
     "execution_count": 7,
     "metadata": {},
     "output_type": "execute_result"
    }
   ],
   "source": [
    "facti(5)"
   ]
  },
  {
   "cell_type": "code",
   "execution_count": 8,
   "id": "b1d6b7b6",
   "metadata": {},
   "outputs": [
    {
     "ename": "ModuleNotFoundError",
     "evalue": "No module named 'recfact'",
     "output_type": "error",
     "traceback": [
      "\u001b[1;31m---------------------------------------------------------------------------\u001b[0m",
      "\u001b[1;31mModuleNotFoundError\u001b[0m                       Traceback (most recent call last)",
      "Input \u001b[1;32mIn [8]\u001b[0m, in \u001b[0;36m<cell line: 1>\u001b[1;34m()\u001b[0m\n\u001b[1;32m----> 1\u001b[0m \u001b[38;5;28;01mfrom\u001b[39;00m \u001b[38;5;21;01mrecfact\u001b[39;00m \u001b[38;5;28;01mimport\u001b[39;00m fact\n\u001b[0;32m      2\u001b[0m fact(\u001b[38;5;241m5\u001b[39m)\n",
      "\u001b[1;31mModuleNotFoundError\u001b[0m: No module named 'recfact'"
     ]
    }
   ],
   "source": [
    "from recfact import fact\n",
    "fact(5)"
   ]
  },
  {
   "cell_type": "code",
   "execution_count": 1,
   "id": "1ac48dff",
   "metadata": {},
   "outputs": [],
   "source": [
    "def revese(s):\n",
    "    if s==\"\":\n",
    "        return s\n",
    "    else:\n",
    "        return revese(s[1:])+s[0]"
   ]
  },
  {
   "cell_type": "code",
   "execution_count": 2,
   "id": "f6263928",
   "metadata": {},
   "outputs": [
    {
     "data": {
      "text/plain": [
       "'cba'"
      ]
     },
     "execution_count": 2,
     "metadata": {},
     "output_type": "execute_result"
    }
   ],
   "source": [
    "revese(\"abc\")"
   ]
  },
  {
   "cell_type": "code",
   "execution_count": 4,
   "id": "a71a4932",
   "metadata": {},
   "outputs": [],
   "source": [
    "def anagrams(s):\n",
    "    if s==\"\":\n",
    "        return [s]\n",
    "    else:\n",
    "        ans = []\n",
    "        for w in anagrams(s[1:]):\n",
    "            for pos in range(len(w)+1):\n",
    "                ans.append(w[:pos]+s[0]+w[pos:])\n",
    "        return ans"
   ]
  },
  {
   "cell_type": "code",
   "execution_count": 5,
   "id": "ac7dc603",
   "metadata": {},
   "outputs": [
    {
     "data": {
      "text/plain": [
       "['abc', 'bac', 'bca', 'acb', 'cab', 'cba']"
      ]
     },
     "execution_count": 5,
     "metadata": {},
     "output_type": "execute_result"
    }
   ],
   "source": [
    "anagrams(\"abc\")"
   ]
  },
  {
   "cell_type": "code",
   "execution_count": 12,
   "id": "794c760b",
   "metadata": {},
   "outputs": [
    {
     "data": {
      "text/plain": [
       "['abcsd',\n",
       " 'bacsd',\n",
       " 'bcasd',\n",
       " 'bcsad',\n",
       " 'bcsda',\n",
       " 'acbsd',\n",
       " 'cabsd',\n",
       " 'cbasd',\n",
       " 'cbsad',\n",
       " 'cbsda',\n",
       " 'acsbd',\n",
       " 'casbd',\n",
       " 'csabd',\n",
       " 'csbad',\n",
       " 'csbda',\n",
       " 'acsdb',\n",
       " 'casdb',\n",
       " 'csadb',\n",
       " 'csdab',\n",
       " 'csdba',\n",
       " 'abscd',\n",
       " 'bascd',\n",
       " 'bsacd',\n",
       " 'bscad',\n",
       " 'bscda',\n",
       " 'asbcd',\n",
       " 'sabcd',\n",
       " 'sbacd',\n",
       " 'sbcad',\n",
       " 'sbcda',\n",
       " 'ascbd',\n",
       " 'sacbd',\n",
       " 'scabd',\n",
       " 'scbad',\n",
       " 'scbda',\n",
       " 'ascdb',\n",
       " 'sacdb',\n",
       " 'scadb',\n",
       " 'scdab',\n",
       " 'scdba',\n",
       " 'absdc',\n",
       " 'basdc',\n",
       " 'bsadc',\n",
       " 'bsdac',\n",
       " 'bsdca',\n",
       " 'asbdc',\n",
       " 'sabdc',\n",
       " 'sbadc',\n",
       " 'sbdac',\n",
       " 'sbdca',\n",
       " 'asdbc',\n",
       " 'sadbc',\n",
       " 'sdabc',\n",
       " 'sdbac',\n",
       " 'sdbca',\n",
       " 'asdcb',\n",
       " 'sadcb',\n",
       " 'sdacb',\n",
       " 'sdcab',\n",
       " 'sdcba',\n",
       " 'abcds',\n",
       " 'bacds',\n",
       " 'bcads',\n",
       " 'bcdas',\n",
       " 'bcdsa',\n",
       " 'acbds',\n",
       " 'cabds',\n",
       " 'cbads',\n",
       " 'cbdas',\n",
       " 'cbdsa',\n",
       " 'acdbs',\n",
       " 'cadbs',\n",
       " 'cdabs',\n",
       " 'cdbas',\n",
       " 'cdbsa',\n",
       " 'acdsb',\n",
       " 'cadsb',\n",
       " 'cdasb',\n",
       " 'cdsab',\n",
       " 'cdsba',\n",
       " 'abdcs',\n",
       " 'badcs',\n",
       " 'bdacs',\n",
       " 'bdcas',\n",
       " 'bdcsa',\n",
       " 'adbcs',\n",
       " 'dabcs',\n",
       " 'dbacs',\n",
       " 'dbcas',\n",
       " 'dbcsa',\n",
       " 'adcbs',\n",
       " 'dacbs',\n",
       " 'dcabs',\n",
       " 'dcbas',\n",
       " 'dcbsa',\n",
       " 'adcsb',\n",
       " 'dacsb',\n",
       " 'dcasb',\n",
       " 'dcsab',\n",
       " 'dcsba',\n",
       " 'abdsc',\n",
       " 'badsc',\n",
       " 'bdasc',\n",
       " 'bdsac',\n",
       " 'bdsca',\n",
       " 'adbsc',\n",
       " 'dabsc',\n",
       " 'dbasc',\n",
       " 'dbsac',\n",
       " 'dbsca',\n",
       " 'adsbc',\n",
       " 'dasbc',\n",
       " 'dsabc',\n",
       " 'dsbac',\n",
       " 'dsbca',\n",
       " 'adscb',\n",
       " 'dascb',\n",
       " 'dsacb',\n",
       " 'dscab',\n",
       " 'dscba']"
      ]
     },
     "execution_count": 12,
     "metadata": {},
     "output_type": "execute_result"
    }
   ],
   "source": [
    "anagrams(\"abcsd\")"
   ]
  },
  {
   "cell_type": "code",
   "execution_count": 6,
   "id": "36447ce4",
   "metadata": {},
   "outputs": [
    {
     "data": {
      "text/plain": [
       "''"
      ]
     },
     "execution_count": 6,
     "metadata": {},
     "output_type": "execute_result"
    }
   ],
   "source": [
    "a=\"s\"\n",
    "a[1:]"
   ]
  },
  {
   "cell_type": "code",
   "execution_count": 10,
   "id": "6a3b7bf1",
   "metadata": {},
   "outputs": [
    {
     "name": "stdout",
     "output_type": "stream",
     "text": [
      "2\n"
     ]
    }
   ],
   "source": [
    "for i in [2]:\n",
    "    print (i)"
   ]
  },
  {
   "cell_type": "code",
   "execution_count": 11,
   "id": "43e062b4",
   "metadata": {},
   "outputs": [
    {
     "data": {
      "text/plain": [
       "0"
      ]
     },
     "execution_count": 11,
     "metadata": {},
     "output_type": "execute_result"
    }
   ],
   "source": [
    "len([])"
   ]
  },
  {
   "cell_type": "code",
   "execution_count": 13,
   "id": "0ca45d46",
   "metadata": {},
   "outputs": [],
   "source": [
    "def loopPower(a,n):\n",
    "    ans=1\n",
    "    for i in range(n):\n",
    "        ans = ans*a\n",
    "    return ans"
   ]
  },
  {
   "cell_type": "code",
   "execution_count": 14,
   "id": "1ae43f5f",
   "metadata": {},
   "outputs": [],
   "source": [
    "def recPower(a,n):\n",
    "    # raises a to the power n\n",
    "    if n == 0:\n",
    "        return 1\n",
    "    else:\n",
    "        factor = recPower(a,n//2)\n",
    "        if n%2 == 0: # n is even\n",
    "            return factor * factor\n",
    "        else:     # n is odd\n",
    "            return factor*factor*a"
   ]
  },
  {
   "cell_type": "code",
   "execution_count": 15,
   "id": "f0f47dfc",
   "metadata": {},
   "outputs": [],
   "source": [
    "def recBinSearch(x,nums,low,high):\n",
    "    if low > high:     # No place left to look, return -1\n",
    "        return -1\n",
    "    mid = (low+high)//2\n",
    "    item = nums[mid]\n",
    "    if item == x:      # Found it! Return the index\n",
    "        return mid\n",
    "    elif x< item:      # Look in lower half\n",
    "        return recBinSearch(x,nums,low,mid-1)\n",
    "    else:              # Look in upper half\n",
    "        return recBinSearch(x,nums,mid+1,high)\n",
    "    \n",
    "def search (x,nums):\n",
    "    return BinSearch(x,nums,0,len(nums)-1)"
   ]
  },
  {
   "cell_type": "code",
   "execution_count": 16,
   "id": "cf87e7ff",
   "metadata": {},
   "outputs": [],
   "source": [
    "def loopfib(n):\n",
    "    # returns the nth Fibonacci number\n",
    "    \n",
    "    curr =1\n",
    "    prev =1\n",
    "    for i in range(n-2):\n",
    "        curr, prev = curr+prev,curr\n",
    "    return curr"
   ]
  },
  {
   "cell_type": "code",
   "execution_count": 17,
   "id": "7d876c3a",
   "metadata": {},
   "outputs": [],
   "source": [
    "def fib(n):\n",
    "    if n<3:\n",
    "        return 1\n",
    "    else:\n",
    "        return fib(n-1) + fib(n-2)"
   ]
  },
  {
   "cell_type": "markdown",
   "id": "fd9341a3",
   "metadata": {},
   "source": [
    "# Sorting"
   ]
  },
  {
   "cell_type": "code",
   "execution_count": 19,
   "id": "f5998a0f",
   "metadata": {},
   "outputs": [],
   "source": [
    "def selSort(nums):\n",
    "    # sort nums into ascending order\n",
    "    \n",
    "    n = len(nums)\n",
    "    \n",
    "    # For each position in the list (except the very last)\n",
    "    for bottom in range(n-1):\n",
    "        # find the smallest item in nums[bottom]...nums[n-1]\n",
    "        \n",
    "        mp = bottom     # bottom is smallest initially\n",
    "        for i in range(bottom+1,n):  # look at each position\n",
    "            if nums[i] < nums[mp]:   # this one is smaller\n",
    "                mp = i               #     remember its index\n",
    "                \n",
    "        # swap smallest item to the bottom\n",
    "        nums[bottom],nums[mp] = nums[mp],nums[bottom]\n",
    "        "
   ]
  },
  {
   "cell_type": "code",
   "execution_count": 21,
   "id": "1bd9ba83",
   "metadata": {},
   "outputs": [
    {
     "data": {
      "text/plain": [
       "[1, 2, 3, 4, 6]"
      ]
     },
     "execution_count": 21,
     "metadata": {},
     "output_type": "execute_result"
    }
   ],
   "source": [
    "a=[2,4,1,6,3]\n",
    "selSort(a)\n",
    "a"
   ]
  },
  {
   "cell_type": "code",
   "execution_count": 25,
   "id": "0ffbb93d",
   "metadata": {},
   "outputs": [],
   "source": [
    "def merge(lst1,lst2,lst3):\n",
    "    # merge sorted lists lst1 and lst2 into lst3\n",
    "    \n",
    "    #these indexes keep track of current position in each list\n",
    "    i1,i2,i3 = 0,0,0   # all start at the front\n",
    "    n1,n2 = len(lst1),len(lst2)\n",
    "    \n",
    "    #Loop while both lst1 and lst2 have more items\n",
    "    while i1 < n1 and i2 < n2:\n",
    "        if lst1[i1] < lst2[i2]:    # top of list 1 is smaller\n",
    "            lst3[i3] = lst1[i1]    # copy it into current spot in list 3\n",
    "            i1 = i1+ 1\n",
    "        else:                      # top of lst2 is smaller\n",
    "            lst3[i3] = lst2[i2]    # copy it into current spot in lst3\n",
    "            i2 = i2 +1\n",
    "        i3 = i3 + 1                # item added to lst3, update position\n",
    "        \n",
    "    # Here either lst1 or lst2 is done. One of the following loops will\n",
    "    # execute to finish up the merge\n",
    "    \n",
    "    # Copy remaining items (if any) from lst1\n",
    "    while i1 < n1:\n",
    "        lst3[i3] = lst1[i1]\n",
    "        i1 = i1 +1\n",
    "        i3 = i3 +1\n",
    "    # Copy remaining items (if any) from lst2\n",
    "    while i2 < n2:\n",
    "        lst3[i3] = lst2[i2]\n",
    "        i2 = i2+1\n",
    "        i3 = i3 + 1    \n",
    "        "
   ]
  },
  {
   "cell_type": "code",
   "execution_count": 29,
   "id": "82191bae",
   "metadata": {},
   "outputs": [],
   "source": [
    "def mergeSort(nums):\n",
    "    # Put items of nums in ascending order\n",
    "    n= len(nums)\n",
    "    # Do nothing if nums contains 0 or 1 items\n",
    "    if n>1:\n",
    "        # split into two sublists\n",
    "        m = n//2\n",
    "        nums1,nums2 = nums[:m],nums[m:]\n",
    "        # recursively sort each piece\n",
    "        mergeSort(nums1)\n",
    "        mergeSort(nums2)\n",
    "        # merge the sorted pieces back into original list\n",
    "        print(nums1,nums2,nums)\n",
    "        merge(nums1,nums2,nums)"
   ]
  },
  {
   "cell_type": "code",
   "execution_count": 30,
   "id": "90ac31c2",
   "metadata": {},
   "outputs": [
    {
     "name": "stdout",
     "output_type": "stream",
     "text": [
      "[3] [1] [3, 1]\n",
      "[2] [1, 3] [2, 3, 1]\n",
      "[8] [6] [8, 6]\n",
      "[5] [6, 8] [5, 8, 6]\n",
      "[1, 2, 3] [5, 6, 8] [2, 3, 1, 5, 8, 6]\n"
     ]
    },
    {
     "data": {
      "text/plain": [
       "[1, 2, 3, 5, 6, 8]"
      ]
     },
     "execution_count": 30,
     "metadata": {},
     "output_type": "execute_result"
    }
   ],
   "source": [
    "a=[2,3,1,5,8,6]\n",
    "mergeSort(a)\n",
    "a"
   ]
  },
  {
   "cell_type": "code",
   "execution_count": null,
   "id": "16c043f4",
   "metadata": {},
   "outputs": [],
   "source": []
  },
  {
   "cell_type": "code",
   "execution_count": null,
   "id": "bc164afb",
   "metadata": {},
   "outputs": [],
   "source": []
  },
  {
   "cell_type": "code",
   "execution_count": null,
   "id": "0e1beffa",
   "metadata": {},
   "outputs": [],
   "source": []
  }
 ],
 "metadata": {
  "kernelspec": {
   "display_name": "Python 3 (ipykernel)",
   "language": "python",
   "name": "python3"
  },
  "language_info": {
   "codemirror_mode": {
    "name": "ipython",
    "version": 3
   },
   "file_extension": ".py",
   "mimetype": "text/x-python",
   "name": "python",
   "nbconvert_exporter": "python",
   "pygments_lexer": "ipython3",
   "version": "3.9.12"
  }
 },
 "nbformat": 4,
 "nbformat_minor": 5
}
