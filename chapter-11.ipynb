{
 "cells": [
  {
   "cell_type": "code",
   "execution_count": 1,
   "id": "d95f7bae",
   "metadata": {},
   "outputs": [],
   "source": [
    "def main():\n",
    "    total=0\n",
    "    count=0\n",
    "    xStr=input(\"Enter a number (<Enter> to quit) to quit >> \")\n",
    "    while xStr !=\"\":\n",
    "        x=float(xStr)\n",
    "        total=total+x\n",
    "        count=count+1\n",
    "        xStr=input(\"Enter a number(<Enter> to quit) >> \")\n",
    "    print(\"\\nThe average of the numbers is\", total/count)\n",
    "    "
   ]
  },
  {
   "cell_type": "code",
   "execution_count": 2,
   "id": "48253463",
   "metadata": {},
   "outputs": [
    {
     "name": "stdout",
     "output_type": "stream",
     "text": [
      "Enter a number (<Enter> to quit) to quit >> 3\n",
      "Enter a number(<Enter> to quit) >> 4\n",
      "Enter a number(<Enter> to quit) >> 5\n",
      "Enter a number(<Enter> to quit) >> 3\n",
      "Enter a number(<Enter> to quit) >> 2\n",
      "Enter a number(<Enter> to quit) >> \n",
      "\n",
      "The average of the numbers is 3.4\n"
     ]
    }
   ],
   "source": [
    "main()"
   ]
  },
  {
   "cell_type": "code",
   "execution_count": 5,
   "id": "2df94767",
   "metadata": {},
   "outputs": [],
   "source": [
    "# Stanard deviation of numbers\n",
    "import math\n",
    "def main():\n",
    "    total=0\n",
    "    count=0\n",
    "    l=[]\n",
    "    xStr=input(\"Enter a number (<Enter> to quit) to quit >> \")\n",
    "    while xStr !=\"\":\n",
    "        x=float(xStr)\n",
    "        l=l+[x]\n",
    "        total=total+x\n",
    "        count=count+1\n",
    "        xStr=input(\"Enter a number(<Enter> to quit) >> \")\n",
    "        \n",
    "    avg=total/count\n",
    "    s=0\n",
    "    for i in l:\n",
    "        s=s+(avg-i)**2\n",
    "    deviation=math.sqrt(s/(count-1))\n",
    "    print(\"\\nThe standard deviation of the numbers is\", deviation)"
   ]
  },
  {
   "cell_type": "code",
   "execution_count": 7,
   "id": "815d19d1",
   "metadata": {},
   "outputs": [
    {
     "name": "stdout",
     "output_type": "stream",
     "text": [
      "Enter a number (<Enter> to quit) to quit >> 2\n",
      "Enter a number(<Enter> to quit) >> 4\n",
      "Enter a number(<Enter> to quit) >> 6\n",
      "Enter a number(<Enter> to quit) >> 9\n",
      "Enter a number(<Enter> to quit) >> 13\n",
      "Enter a number(<Enter> to quit) >> \n",
      "\n",
      "The standard deviation of the numbers is 4.324349662087931\n"
     ]
    }
   ],
   "source": [
    "main()"
   ]
  },
  {
   "cell_type": "code",
   "execution_count": 3,
   "id": "b868470c",
   "metadata": {},
   "outputs": [
    {
     "data": {
      "text/plain": [
       "[0, 1, 2, 3, 4, 5, 6, 7, 8, 9]"
      ]
     },
     "execution_count": 3,
     "metadata": {},
     "output_type": "execute_result"
    }
   ],
   "source": [
    "list(range(10))"
   ]
  },
  {
   "cell_type": "code",
   "execution_count": 4,
   "id": "715de732",
   "metadata": {},
   "outputs": [
    {
     "data": {
      "text/plain": [
       "['This', 'is', 'an', 'ex-parrot!']"
      ]
     },
     "execution_count": 4,
     "metadata": {},
     "output_type": "execute_result"
    }
   ],
   "source": [
    "\"This is an ex-parrot!\".split()"
   ]
  },
  {
   "cell_type": "code",
   "execution_count": 8,
   "id": "27bb6e90",
   "metadata": {},
   "outputs": [],
   "source": [
    "lst=[1,2,3,4]\n"
   ]
  },
  {
   "cell_type": "code",
   "execution_count": 9,
   "id": "63ec4450",
   "metadata": {},
   "outputs": [
    {
     "data": {
      "text/plain": [
       "True"
      ]
     },
     "execution_count": 9,
     "metadata": {},
     "output_type": "execute_result"
    }
   ],
   "source": [
    "3 in lst"
   ]
  },
  {
   "cell_type": "code",
   "execution_count": 10,
   "id": "70c5cad8",
   "metadata": {},
   "outputs": [
    {
     "data": {
      "text/plain": [
       "False"
      ]
     },
     "execution_count": 10,
     "metadata": {},
     "output_type": "execute_result"
    }
   ],
   "source": [
    "5 in lst"
   ]
  },
  {
   "cell_type": "code",
   "execution_count": 11,
   "id": "a4db80dd",
   "metadata": {},
   "outputs": [],
   "source": [
    "ans='y'"
   ]
  },
  {
   "cell_type": "code",
   "execution_count": 12,
   "id": "ea41caed",
   "metadata": {},
   "outputs": [
    {
     "data": {
      "text/plain": [
       "True"
      ]
     },
     "execution_count": 12,
     "metadata": {},
     "output_type": "execute_result"
    }
   ],
   "source": [
    "ans in 'Yy'"
   ]
  },
  {
   "cell_type": "code",
   "execution_count": 13,
   "id": "90bd703e",
   "metadata": {},
   "outputs": [
    {
     "data": {
      "text/plain": [
       "4"
      ]
     },
     "execution_count": 13,
     "metadata": {},
     "output_type": "execute_result"
    }
   ],
   "source": [
    "lst=[1,2,3,4]\n",
    "lst[3]"
   ]
  },
  {
   "cell_type": "code",
   "execution_count": 14,
   "id": "bd50f17c",
   "metadata": {},
   "outputs": [],
   "source": [
    "lst[3]=\"Hello\""
   ]
  },
  {
   "cell_type": "code",
   "execution_count": 15,
   "id": "154a48a8",
   "metadata": {},
   "outputs": [
    {
     "data": {
      "text/plain": [
       "[1, 2, 3, 'Hello']"
      ]
     },
     "execution_count": 15,
     "metadata": {},
     "output_type": "execute_result"
    }
   ],
   "source": [
    "lst"
   ]
  },
  {
   "cell_type": "code",
   "execution_count": 16,
   "id": "9f1da36a",
   "metadata": {},
   "outputs": [],
   "source": [
    "lst[1:3]=[\"Slice\",\"Assignment\"]"
   ]
  },
  {
   "cell_type": "code",
   "execution_count": 17,
   "id": "20fe406f",
   "metadata": {},
   "outputs": [
    {
     "data": {
      "text/plain": [
       "[1, 'Slice', 'Assignment', 'Hello']"
      ]
     },
     "execution_count": 17,
     "metadata": {},
     "output_type": "execute_result"
    }
   ],
   "source": [
    "lst"
   ]
  },
  {
   "cell_type": "code",
   "execution_count": 18,
   "id": "9babfb6f",
   "metadata": {},
   "outputs": [],
   "source": [
    "odds=[1,3,5,7,9]\n",
    "food=[\"spam\",\"eggs\",\"vack bacon\"]\n",
    "silly=[1,\"spam\",4,\"U\"]\n",
    "empty=[]"
   ]
  },
  {
   "cell_type": "code",
   "execution_count": 19,
   "id": "b7c5cf61",
   "metadata": {},
   "outputs": [],
   "source": [
    "zeros=[0]*50"
   ]
  },
  {
   "cell_type": "code",
   "execution_count": 20,
   "id": "1ad2dd74",
   "metadata": {},
   "outputs": [
    {
     "data": {
      "text/plain": [
       "[0,\n",
       " 0,\n",
       " 0,\n",
       " 0,\n",
       " 0,\n",
       " 0,\n",
       " 0,\n",
       " 0,\n",
       " 0,\n",
       " 0,\n",
       " 0,\n",
       " 0,\n",
       " 0,\n",
       " 0,\n",
       " 0,\n",
       " 0,\n",
       " 0,\n",
       " 0,\n",
       " 0,\n",
       " 0,\n",
       " 0,\n",
       " 0,\n",
       " 0,\n",
       " 0,\n",
       " 0,\n",
       " 0,\n",
       " 0,\n",
       " 0,\n",
       " 0,\n",
       " 0,\n",
       " 0,\n",
       " 0,\n",
       " 0,\n",
       " 0,\n",
       " 0,\n",
       " 0,\n",
       " 0,\n",
       " 0,\n",
       " 0,\n",
       " 0,\n",
       " 0,\n",
       " 0,\n",
       " 0,\n",
       " 0,\n",
       " 0,\n",
       " 0,\n",
       " 0,\n",
       " 0,\n",
       " 0,\n",
       " 0]"
      ]
     },
     "execution_count": 20,
     "metadata": {},
     "output_type": "execute_result"
    }
   ],
   "source": [
    "zeros"
   ]
  },
  {
   "cell_type": "code",
   "execution_count": 22,
   "id": "830d2be5",
   "metadata": {},
   "outputs": [
    {
     "name": "stdout",
     "output_type": "stream",
     "text": [
      "Enter a number : 4\n",
      "Enter a number: 3\n",
      "Enter a number: 2\n",
      "Enter a number: 1\n",
      "Enter a number: 0\n",
      "Enter a number: -1\n"
     ]
    }
   ],
   "source": [
    "nums=[]\n",
    "x=float(input(\"Enter a number : \"))\n",
    "while x>=0:\n",
    "    nums.append(x)\n",
    "    x=float(input(\"Enter a number: \"))"
   ]
  },
  {
   "cell_type": "code",
   "execution_count": 23,
   "id": "eefe277a",
   "metadata": {},
   "outputs": [
    {
     "data": {
      "text/plain": [
       "[4.0, 3.0, 2.0, 1.0, 0.0]"
      ]
     },
     "execution_count": 23,
     "metadata": {},
     "output_type": "execute_result"
    }
   ],
   "source": [
    "nums"
   ]
  },
  {
   "cell_type": "code",
   "execution_count": 24,
   "id": "dc8ea919",
   "metadata": {},
   "outputs": [],
   "source": [
    "lst=[1,2,3,4,5]\n",
    "del lst[3]"
   ]
  },
  {
   "cell_type": "code",
   "execution_count": 25,
   "id": "fe66cc45",
   "metadata": {},
   "outputs": [
    {
     "data": {
      "text/plain": [
       "[1, 2, 3, 5]"
      ]
     },
     "execution_count": 25,
     "metadata": {},
     "output_type": "execute_result"
    }
   ],
   "source": [
    "lst"
   ]
  },
  {
   "cell_type": "code",
   "execution_count": null,
   "id": "41427dcf",
   "metadata": {},
   "outputs": [],
   "source": [
    "def getNumbers():\n",
    "    nums=[]\n",
    "    xStr=input(\"Enter a number(<Enter> to quit) >> \")\n",
    "    while xStr!=\"\":\n",
    "        x=float(xStr)\n",
    "        nums.append(x)\n",
    "        xStr=input(\"Enter a number (<Enter> to quit) >> \")\n",
    "    return nums"
   ]
  },
  {
   "cell_type": "code",
   "execution_count": 26,
   "id": "e351d37f",
   "metadata": {},
   "outputs": [],
   "source": [
    "\n"
   ]
  },
  {
   "cell_type": "code",
   "execution_count": null,
   "id": "3a1d2282",
   "metadata": {},
   "outputs": [],
   "source": [
    "def main():\n",
    "    data = getNumbers()\n",
    "    print('The mean is',mean(data))\n",
    "    "
   ]
  },
  {
   "cell_type": "code",
   "execution_count": null,
   "id": "87ccbf33",
   "metadata": {},
   "outputs": [],
   "source": []
  },
  {
   "cell_type": "markdown",
   "id": "507b5593",
   "metadata": {},
   "source": [
    "# Mean, Median, Standard deviation"
   ]
  },
  {
   "cell_type": "code",
   "execution_count": null,
   "id": "685eed30",
   "metadata": {},
   "outputs": [],
   "source": [
    "def main():\n",
    "    print(\"This programme computes mean, median and standard deviation.\")\n",
    "    \n",
    "    data=getNumbers()\n",
    "    xbar=mean(data)\n",
    "    std = stdDev(data,xbar)\n",
    "    med = median(data)\n",
    "    \n",
    "    print(\"\\nThe mean is\",xbar)\n",
    "    print(\"The standard deviation is\",std)\n",
    "    print(\"The median is\",med)\n",
    "    \n",
    "    \n",
    "def median(nums):\n",
    "    nums.sort()\n",
    "    size = len(nums)\n",
    "    midPos = size//2\n",
    "    if size%2==0:\n",
    "        med = (nums[midPos] + nums[midPos-1])/2\n",
    "    else:\n",
    "        med = nums[midPos]\n",
    "    return med\n",
    "\n",
    "def stdDev(nums,xbar):\n",
    "    sumDevsq=0\n",
    "    for num in nums:\n",
    "        dev = xbar - num\n",
    "        sumDevsq=sumDevsq+dev*dev\n",
    "    return sqrt(sumDevsq/len(nums)-1)\n",
    "\n",
    "def mean(nums):\n",
    "    total=0\n",
    "    for num in nums:\n",
    "        total=total+num\n",
    "    return total/len(nums)\n",
    "\n",
    "def getNumbers():\n",
    "    nums=[]\n",
    "    xStr=input(\"Enter a number(<Enter> to quit) >> \")\n",
    "    while xStr!=\"\":\n",
    "        x=float(xStr)\n",
    "        nums.append(x)\n",
    "        xStr=input(\"Enter a number (<Enter> to quit) >> \")\n",
    "    return nums"
   ]
  },
  {
   "cell_type": "code",
   "execution_count": 1,
   "id": "5b782378",
   "metadata": {},
   "outputs": [
    {
     "name": "stdout",
     "output_type": "stream",
     "text": [
      "This programme computes mean, median and standard deviation.\n",
      "Enter a number(<Enter> to quit) >> \n"
     ]
    },
    {
     "ename": "ZeroDivisionError",
     "evalue": "division by zero",
     "output_type": "error",
     "traceback": [
      "\u001b[1;31m---------------------------------------------------------------------------\u001b[0m",
      "\u001b[1;31mZeroDivisionError\u001b[0m                         Traceback (most recent call last)",
      "Input \u001b[1;32mIn [1]\u001b[0m, in \u001b[0;36m<cell line: 48>\u001b[1;34m()\u001b[0m\n\u001b[0;32m     46\u001b[0m     \u001b[38;5;28mprint\u001b[39m(\u001b[38;5;124m\"\u001b[39m\u001b[38;5;124mThe median is\u001b[39m\u001b[38;5;124m\"\u001b[39m,med)\n\u001b[0;32m     48\u001b[0m \u001b[38;5;28;01mif\u001b[39;00m \u001b[38;5;18m__name__\u001b[39m \u001b[38;5;241m==\u001b[39m \u001b[38;5;124m'\u001b[39m\u001b[38;5;124m__main__\u001b[39m\u001b[38;5;124m'\u001b[39m:\n\u001b[1;32m---> 49\u001b[0m     \u001b[43mmain\u001b[49m\u001b[43m(\u001b[49m\u001b[43m)\u001b[49m\n",
      "Input \u001b[1;32mIn [1]\u001b[0m, in \u001b[0;36mmain\u001b[1;34m()\u001b[0m\n\u001b[0;32m     37\u001b[0m \u001b[38;5;28mprint\u001b[39m(\u001b[38;5;124m\"\u001b[39m\u001b[38;5;124mThis programme computes mean, median and standard deviation.\u001b[39m\u001b[38;5;124m\"\u001b[39m)\n\u001b[0;32m     39\u001b[0m data\u001b[38;5;241m=\u001b[39mgetNumbers()\n\u001b[1;32m---> 40\u001b[0m xbar\u001b[38;5;241m=\u001b[39m\u001b[43mmean\u001b[49m\u001b[43m(\u001b[49m\u001b[43mdata\u001b[49m\u001b[43m)\u001b[49m\n\u001b[0;32m     41\u001b[0m std \u001b[38;5;241m=\u001b[39m stdDev(data,xbar)\n\u001b[0;32m     42\u001b[0m med \u001b[38;5;241m=\u001b[39m median(data)\n",
      "Input \u001b[1;32mIn [1]\u001b[0m, in \u001b[0;36mmean\u001b[1;34m(nums)\u001b[0m\n\u001b[0;32m     15\u001b[0m \u001b[38;5;28;01mfor\u001b[39;00m num \u001b[38;5;129;01min\u001b[39;00m nums:\n\u001b[0;32m     16\u001b[0m     total\u001b[38;5;241m=\u001b[39mtotal\u001b[38;5;241m+\u001b[39mnum\n\u001b[1;32m---> 17\u001b[0m \u001b[38;5;28;01mreturn\u001b[39;00m \u001b[43mtotal\u001b[49m\u001b[38;5;241;43m/\u001b[39;49m\u001b[38;5;28;43mlen\u001b[39;49m\u001b[43m(\u001b[49m\u001b[43mnums\u001b[49m\u001b[43m)\u001b[49m\n",
      "\u001b[1;31mZeroDivisionError\u001b[0m: division by zero"
     ]
    }
   ],
   "source": [
    "#stats.py\n",
    "from math import sqrt\n",
    "\n",
    "def getNumbers():\n",
    "    nums=[]\n",
    "    xStr=input(\"Enter a number(<Enter> to quit) >> \")\n",
    "    while xStr!=\"\":\n",
    "        x=float(xStr)\n",
    "        nums.append(x)\n",
    "        xStr=input(\"Enter a number (<Enter> to quit) >> \")\n",
    "    return nums\n",
    "\n",
    "def mean(nums):\n",
    "    total=0\n",
    "    for num in nums:\n",
    "        total=total+num\n",
    "    return total/len(nums)\n",
    "\n",
    "def stdDev(nums,xbar):\n",
    "    sumDevsq=0\n",
    "    for num in nums:\n",
    "        dev = xbar - num\n",
    "        sumDevsq=sumDevsq+dev*dev\n",
    "    return sqrt(sumDevsq/len(nums)-1)\n",
    "\n",
    "def median(nums):\n",
    "    nums.sort()\n",
    "    size = len(nums)\n",
    "    midPos = size//2\n",
    "    if size%2==0:\n",
    "        med = (nums[midPos] + nums[midPos-1])/2\n",
    "    else:\n",
    "        med = nums[midPos]\n",
    "    return med\n",
    "\n",
    "def main():\n",
    "    print(\"This programme computes mean, median and standard deviation.\")\n",
    "    \n",
    "    data=getNumbers()\n",
    "    xbar=mean(data)\n",
    "    std = stdDev(data,xbar)\n",
    "    med = median(data)\n",
    "    \n",
    "    print(\"\\nThe mean is\",xbar)\n",
    "    print(\"The standard deviation is\",std)\n",
    "    print(\"The median is\",med)\n",
    "    \n",
    "if __name__ == '__main__':\n",
    "    main()"
   ]
  },
  {
   "cell_type": "code",
   "execution_count": null,
   "id": "f0f3cf22",
   "metadata": {},
   "outputs": [
    {
     "name": "stdout",
     "output_type": "stream",
     "text": [
      "This programme sorts student grade information by GPA\n",
      "Enter the name of the data file: text.txt\n",
      "[<__main__.Student object at 0x0000027739F22220>, <__main__.Student object at 0x0000027739F22310>, <__main__.Student object at 0x0000027739F221F0>, <__main__.Student object at 0x0000027739F22430>, <__main__.Student object at 0x000002773B0544F0>]\n"
     ]
    }
   ],
   "source": [
    "\n",
    "def readStudents(filename):\n",
    "    infile = open(filename,\"r\")\n",
    "    students = []\n",
    "    for line in infile :\n",
    "        students.append(makeStudent(line))\n",
    "    infile.close()\n",
    "    print(students)\n",
    "    return students\n",
    "\n",
    "\n",
    "class Student:\n",
    "    def __init__(self,name,hours,qpoints):\n",
    "        self.name=name\n",
    "        self.hours=float(hours)\n",
    "        self.qpoints=float(qpoints)\n",
    "        \n",
    "    def getName(self):\n",
    "        return self.name\n",
    "\n",
    "    def getHours(self):\n",
    "        return self.hours\n",
    "    \n",
    "    def getQPoints(self):\n",
    "        return self.qpoints\n",
    "    \n",
    "    def gpa(self):\n",
    "        return self.qpoints/self.hours\n",
    "\n",
    "def writeStudents(students,filename):\n",
    "    # students is a list of Student object\n",
    "    outfile = open(filename,'w')\n",
    "    for s in students:\n",
    "        print(\"{0}\\t{1}\\t{2}\".format(s.getName(), s.getHours(),s.getQPoints()),file = outfile)\n",
    "    outfile.close()\n",
    "    \n",
    "\n",
    "\n",
    "\n",
    "def makeStudent(infoStr):\n",
    "    #infoStr is a tap-separated line: name hours qpoints\n",
    "    #returns a corresponding student object\n",
    "    name,hours,qpoints=infoStr.split(\"\\t\")\n",
    "    return Student(name,hours, qpoints)\n",
    "\n",
    "\n",
    "\n",
    "def main():\n",
    "    print(\"This programme sorts student grade information by GPA\")\n",
    "    filename = input(\"Enter the name of the data file: \")\n",
    "    data = readStudents(filename)\n",
    "    data.sort(key = Student.gpa)\n",
    "    filename=input(\"Enter a name for the output file: \")\n",
    "    writeStudents(data, filename)\n",
    "    print(\"The data has been written to\", filename)\n",
    "    \n",
    "    \n",
    "if __name__ =='__main__':\n",
    "    main()"
   ]
  },
  {
   "cell_type": "markdown",
   "id": "7537dbd3",
   "metadata": {},
   "source": [
    "# Designing with Lists and Classes"
   ]
  },
  {
   "cell_type": "code",
   "execution_count": null,
   "id": "86942734",
   "metadata": {},
   "outputs": [],
   "source": []
  },
  {
   "cell_type": "code",
   "execution_count": null,
   "id": "714bd050",
   "metadata": {},
   "outputs": [],
   "source": [
    "##### def __init__(self):\n",
    "    #create the window for the calculator\n",
    "    win = GraphWin(\"Calculator\")\n",
    "    win.setCoords(0,0,6,7)\n",
    "    win.setBackground(\"slategray\")\n",
    "    self.win = win\n",
    "# Create list of buttons\n",
    "# start with all the standard sized buttons\n",
    "#bSpecs gives centre coords and label of buttons\n",
    "bSpecs = [(2,1,'0'), (3,1,'.'),\n",
    "         (1,2,'1'),(2,2,'2'), (3,2,'3'),(4,2,'+'),(5,2,'-'),\n",
    "         (1,3,'4'),(2,3,'5'),(3,3,'6'),(4,3,'*'),(5,3,'/'),\n",
    "         (1,4,'7'),(2,4,'8'),(3,4,'9'),(4,4,'<-'),(5,4,'C')]\n",
    "self.buttons = []\n",
    "\n",
    "   \n",
    "        \n",
    " \n",
    "\n",
    "for (cx,cy,label) in bSpecs:\n",
    "    self.buttons.append(Button(self.win,Point(cx,cy),0.75,0.75,label))\n",
    "    \n",
    "#create the larger '=' button\n",
    "self.buttons.append(Button(self.win,Point(cx,cy),0.75,0.75,label))\n",
    "\n",
    "#create the larger '=' button\n",
    "self.buttons.append(Button(self.win, Point(4.5,1),1.75, 0.75, \"=\"))\n",
    "\n",
    "#activate all buttons\n",
    "for b in self.buttons:\n",
    "    b.activate()\n",
    "    \n",
    "    \n",
    "\n",
    "\n",
    "def run(self):\n",
    "    while True:\n",
    "        key = self.getKeyPress()\n",
    "        self.processKey(key)\n",
    "     \n",
    "    \n",
    "def getKeyPress(self):\n",
    "    #waits for a button to be clicked\n",
    "    #Return the label of the button that was clicked\n",
    "    while True:\n",
    "        # loop for each mouse click\n",
    "        p = self.win.getMouse()\n",
    "        for b in self.buttons:\n",
    "            # loop for each button\n",
    "            if b.clicked(p):\n",
    "                return b.getLabel()   # method exit\n",
    "            \n",
    "            \n",
    "try:\n",
    "    result = eval(text)\n",
    "except:\n",
    "    result = 'ERROR'\n",
    "self.display.setText(str(result))"
   ]
  },
  {
   "cell_type": "code",
   "execution_count": 4,
   "id": "4cfedb09",
   "metadata": {},
   "outputs": [
    {
     "ename": "GraphicsError",
     "evalue": "getMouse in closed window",
     "output_type": "error",
     "traceback": [
      "\u001b[1;31m---------------------------------------------------------------------------\u001b[0m",
      "\u001b[1;31mGraphicsError\u001b[0m                             Traceback (most recent call last)",
      "Input \u001b[1;32mIn [4]\u001b[0m, in \u001b[0;36m<cell line: 129>\u001b[1;34m()\u001b[0m\n\u001b[0;32m    131\u001b[0m theCalc \u001b[38;5;241m=\u001b[39m Calculator()\n\u001b[0;32m    132\u001b[0m \u001b[38;5;66;03m#Now call the calculator's run method\u001b[39;00m\n\u001b[1;32m--> 133\u001b[0m \u001b[43mtheCalc\u001b[49m\u001b[38;5;241;43m.\u001b[39;49m\u001b[43mrun\u001b[49m\u001b[43m(\u001b[49m\u001b[43m)\u001b[49m\n",
      "Input \u001b[1;32mIn [4]\u001b[0m, in \u001b[0;36mCalculator.run\u001b[1;34m(self)\u001b[0m\n\u001b[0;32m     76\u001b[0m \u001b[38;5;28;01mdef\u001b[39;00m \u001b[38;5;21mrun\u001b[39m(\u001b[38;5;28mself\u001b[39m):\n\u001b[0;32m     77\u001b[0m     \u001b[38;5;66;03m# Infinate event loop to process button clicks.\u001b[39;00m\n\u001b[0;32m     78\u001b[0m     \u001b[38;5;28;01mwhile\u001b[39;00m \u001b[38;5;28;01mTrue\u001b[39;00m:\n\u001b[1;32m---> 79\u001b[0m         key \u001b[38;5;241m=\u001b[39m \u001b[38;5;28;43mself\u001b[39;49m\u001b[38;5;241;43m.\u001b[39;49m\u001b[43mgetButton\u001b[49m\u001b[43m(\u001b[49m\u001b[43m)\u001b[49m\n\u001b[0;32m     80\u001b[0m         \u001b[38;5;28mself\u001b[39m\u001b[38;5;241m.\u001b[39mprocessButton(key)\n",
      "Input \u001b[1;32mIn [4]\u001b[0m, in \u001b[0;36mCalculator.getButton\u001b[1;34m(self)\u001b[0m\n\u001b[0;32m     49\u001b[0m \u001b[38;5;28;01mdef\u001b[39;00m \u001b[38;5;21mgetButton\u001b[39m(\u001b[38;5;28mself\u001b[39m):\n\u001b[0;32m     50\u001b[0m     \u001b[38;5;66;03m# waits for a button to be clicked and returns the label of\u001b[39;00m\n\u001b[0;32m     51\u001b[0m     \u001b[38;5;66;03m# the button that was clicked\u001b[39;00m\n\u001b[0;32m     52\u001b[0m     \u001b[38;5;28;01mwhile\u001b[39;00m \u001b[38;5;28;01mTrue\u001b[39;00m:\n\u001b[1;32m---> 53\u001b[0m         p \u001b[38;5;241m=\u001b[39m \u001b[38;5;28;43mself\u001b[39;49m\u001b[38;5;241;43m.\u001b[39;49m\u001b[43mwin\u001b[49m\u001b[38;5;241;43m.\u001b[39;49m\u001b[43mgetMouse\u001b[49m\u001b[43m(\u001b[49m\u001b[43m)\u001b[49m\n\u001b[0;32m     54\u001b[0m         \u001b[38;5;28;01mfor\u001b[39;00m b \u001b[38;5;129;01min\u001b[39;00m \u001b[38;5;28mself\u001b[39m\u001b[38;5;241m.\u001b[39mbuttons:\n\u001b[0;32m     55\u001b[0m             \u001b[38;5;28;01mif\u001b[39;00m b\u001b[38;5;241m.\u001b[39mclicked(p):\n",
      "File \u001b[1;32m~\\Desktop\\python\\graphics\\__init__.py:316\u001b[0m, in \u001b[0;36mGraphWin.getMouse\u001b[1;34m(self)\u001b[0m\n\u001b[0;32m    314\u001b[0m \u001b[38;5;28;01mwhile\u001b[39;00m \u001b[38;5;28mself\u001b[39m\u001b[38;5;241m.\u001b[39mmouseX \u001b[38;5;241m==\u001b[39m \u001b[38;5;28;01mNone\u001b[39;00m \u001b[38;5;129;01mor\u001b[39;00m \u001b[38;5;28mself\u001b[39m\u001b[38;5;241m.\u001b[39mmouseY \u001b[38;5;241m==\u001b[39m \u001b[38;5;28;01mNone\u001b[39;00m:\n\u001b[0;32m    315\u001b[0m     \u001b[38;5;28mself\u001b[39m\u001b[38;5;241m.\u001b[39mupdate()\n\u001b[1;32m--> 316\u001b[0m     \u001b[38;5;28;01mif\u001b[39;00m \u001b[38;5;28mself\u001b[39m\u001b[38;5;241m.\u001b[39misClosed(): \u001b[38;5;28;01mraise\u001b[39;00m GraphicsError(\u001b[38;5;124m\"\u001b[39m\u001b[38;5;124mgetMouse in closed window\u001b[39m\u001b[38;5;124m\"\u001b[39m)\n\u001b[0;32m    317\u001b[0m     time\u001b[38;5;241m.\u001b[39msleep(\u001b[38;5;241m.1\u001b[39m) \u001b[38;5;66;03m# give up thread\u001b[39;00m\n\u001b[0;32m    318\u001b[0m x,y \u001b[38;5;241m=\u001b[39m \u001b[38;5;28mself\u001b[39m\u001b[38;5;241m.\u001b[39mtoWorld(\u001b[38;5;28mself\u001b[39m\u001b[38;5;241m.\u001b[39mmouseX, \u001b[38;5;28mself\u001b[39m\u001b[38;5;241m.\u001b[39mmouseY)\n",
      "\u001b[1;31mGraphicsError\u001b[0m: getMouse in closed window"
     ]
    }
   ],
   "source": [
    "# calc.pyw -- A four function calculator using Python arithmetic.\n",
    "# Illustrates use of objects and lists to build a simple GUI\n",
    "\n",
    "from graphics import *\n",
    "\n",
    "\n",
    "class Calculator:\n",
    "    # This class implements a simple calculator GUI\n",
    "    \n",
    "    def __init__(self):\n",
    "        #create the window for the calculator \n",
    "        win = GraphWin(\"calculator\")\n",
    "        win.setCoords(0,0,6,7)\n",
    "        win.setBackground(\"slategray\")\n",
    "        self.win = win\n",
    "        #Now create the widgets\n",
    "        self.__createButtons()\n",
    "        self.__createDisplay()\n",
    "        \n",
    "    def __createButtons(self):\n",
    "        # create list of buttons\n",
    "        #start with all the standard sized buttons\n",
    "        #bSpecs gives center coords and label of buttons\n",
    "        bSpecs = [(2,1,'0'), (3,1,'.'),\n",
    "                 (1,2,'1'),(2,2,'2'), (3,2,'3'),(4,2,'+'),(5,2,'-'),\n",
    "                 (1,3,'4'),(2,3,'5'),(3,3,'6'),(4,3,'*'),(5,3,'/'),\n",
    "                 (1,4,'7'),(2,4,'8'),(3,4,'9'),(4,4,'<-'),(5,4,'C')]\n",
    "        self.buttons = []\n",
    "        \n",
    "        for (cx,cy,label) in bSpecs:\n",
    "            self.buttons.append(Button(self.win,Point(cx,cy),.75,.75,label))\n",
    "        # create the larger = button\n",
    "        self.buttons.append(Button(self.win, Point(4.5,1),1.75,0.75, \"=\"))\n",
    "        #activate all buttons\n",
    "        for b in self.buttons:\n",
    "            b.activate()\n",
    "        \n",
    "    def __createDisplay(self):\n",
    "        bg = Rectangle(Point(0.5,5.5),Point(5.5,6.5))\n",
    "        bg.setFill('white')\n",
    "        bg.draw(self.win)\n",
    "        text = Text(Point(3,6),\"\")\n",
    "        text.draw(self.win)\n",
    "        text.setFace(\"courier\")\n",
    "        #text.setFace(\"bold\")\n",
    "        text.setSize(16)\n",
    "        self.display = text\n",
    "        \n",
    "    def getButton(self):\n",
    "        # waits for a button to be clicked and returns the label of\n",
    "        # the button that was clicked\n",
    "        while True:\n",
    "            p = self.win.getMouse()\n",
    "            for b in self.buttons:\n",
    "                if b.clicked(p):\n",
    "                    return b.getLabel()\n",
    "    def processButton(self,key):\n",
    "        # update the display of the calculator for press of this key\n",
    "        text = self.display.getText()\n",
    "        if key == 'C':\n",
    "            self.display.setText(\"\")\n",
    "        elif key == '<-':\n",
    "            #Backspace, slice off the last character.\n",
    "            self.display.setText(text[:-1])\n",
    "        elif key == '=':\n",
    "            #Evaluate the expression and display the result\n",
    "            #the try ... except mechanism \"catches\" errors in the formula being evaluated\n",
    "            try:\n",
    "                result = eval(text)\n",
    "            except:\n",
    "                result = 'ERROR'\n",
    "            self.display.setText(str(result))\n",
    "        else:\n",
    "            #Normal key press, append it to the end of the display\n",
    "            self.display.setText(text+key)\n",
    "    def run(self):\n",
    "        # Infinate event loop to process button clicks.\n",
    "        while True:\n",
    "            key = self.getButton()\n",
    "            self.processButton(key)\n",
    "            \n",
    "            \n",
    "class Button:\n",
    "    \"\"\"A button is a labeled rectangle in a window.\n",
    "    it is activated or deactivated with the activate()\n",
    "    and deactivate() methods. The clicked(p) method \n",
    "    returns true if the button is active and p is inside it.\"\"\"\n",
    "    \n",
    "    def __init__(self,win,center,width,height,label):\n",
    "        \"\"\"Creates a rectangular button, eg:\n",
    "        qp= Button(myWin, centerPoint, width,height, 'Quit')\"\"\"\n",
    "        \n",
    "        w,h=width/2, height/2\n",
    "        x,y=center.getX(), center.getY()\n",
    "        self.xmax,self.xmin=x+w,x-w\n",
    "        self.ymax,self.ymin=y+h,y-h\n",
    "        p1=Point(self.xmin,self.ymin)\n",
    "        p2=Point(self.xmax,self.ymax)\n",
    "        self.rect=Rectangle(p1,p2)\n",
    "        self.rect.setFill('lightgray')\n",
    "        self.rect.draw(win)\n",
    "        self.label=Text(center,label)\n",
    "        self.label.draw(win)\n",
    "        self.deactivate()\n",
    "        \n",
    "    def clicked(self,p):\n",
    "        \"Returns true if button active and p is inside\"\n",
    "        return(self.active and\n",
    "              self.xmin <= p.getX() <= self.xmax and\n",
    "              self.ymin <= p.getY() <= self.ymax)\n",
    "    def getLabel(self):\n",
    "        \"Returns the label string of this button.\"\n",
    "        return self.label.getText()\n",
    "    \n",
    "    def activate(self):\n",
    "        \"Sets this button to 'activate'.\"\n",
    "        self.label.setFill(\"green\")\n",
    "        self.rect.setWidth(2)\n",
    "        self.active=True\n",
    "    \n",
    "    def deactivate(self):\n",
    "        \"Sets this button to 'inactive'.\"\n",
    "        self.label.setFill(\"darkgrey\")\n",
    "        self.rect.setWidth(1)\n",
    "        self.active=False\n",
    "\n",
    "    \n",
    "#THis runs the programme\n",
    "if __name__ == '__main__':\n",
    "    #First create a calculator object\n",
    "    theCalc = Calculator()\n",
    "    #Now call the calculator's run method\n",
    "    theCalc.run()\n",
    "        \n",
    "            \n",
    "            \n",
    "\n"
   ]
  },
  {
   "cell_type": "code",
   "execution_count": 5,
   "id": "7ddd5989",
   "metadata": {},
   "outputs": [
    {
     "ename": "GraphicsError",
     "evalue": "checkKey in closed window",
     "output_type": "error",
     "traceback": [
      "\u001b[1;31m---------------------------------------------------------------------------\u001b[0m",
      "\u001b[1;31mGraphicsError\u001b[0m                             Traceback (most recent call last)",
      "Input \u001b[1;32mIn [5]\u001b[0m, in \u001b[0;36m<cell line: 288>\u001b[1;34m()\u001b[0m\n\u001b[0;32m    286\u001b[0m         \u001b[38;5;28mself\u001b[39m\u001b[38;5;241m.\u001b[39mshots \u001b[38;5;241m=\u001b[39m alive\n\u001b[0;32m    288\u001b[0m \u001b[38;5;28;01mif\u001b[39;00m \u001b[38;5;18m__name__\u001b[39m \u001b[38;5;241m==\u001b[39m \u001b[38;5;124m\"\u001b[39m\u001b[38;5;124m__main__\u001b[39m\u001b[38;5;124m\"\u001b[39m:\n\u001b[1;32m--> 289\u001b[0m     \u001b[43mProjectileApp\u001b[49m\u001b[43m(\u001b[49m\u001b[43m)\u001b[49m\u001b[38;5;241;43m.\u001b[39;49m\u001b[43mrun\u001b[49m\u001b[43m(\u001b[49m\u001b[43m)\u001b[49m\n",
      "Input \u001b[1;32mIn [5]\u001b[0m, in \u001b[0;36mProjectileApp.run\u001b[1;34m(self)\u001b[0m\n\u001b[0;32m    258\u001b[0m \u001b[38;5;28;01mwhile\u001b[39;00m \u001b[38;5;28;01mTrue\u001b[39;00m:\n\u001b[0;32m    259\u001b[0m     \u001b[38;5;28mself\u001b[39m\u001b[38;5;241m.\u001b[39mupdateShots(\u001b[38;5;241m1\u001b[39m\u001b[38;5;241m/\u001b[39m\u001b[38;5;241m30\u001b[39m)\n\u001b[1;32m--> 261\u001b[0m     key \u001b[38;5;241m=\u001b[39m \u001b[38;5;28;43mself\u001b[39;49m\u001b[38;5;241;43m.\u001b[39;49m\u001b[43mwin\u001b[49m\u001b[38;5;241;43m.\u001b[39;49m\u001b[43mcheckKey\u001b[49m\u001b[43m(\u001b[49m\u001b[43m)\u001b[49m\n\u001b[0;32m    262\u001b[0m     \u001b[38;5;28;01mif\u001b[39;00m key \u001b[38;5;129;01min\u001b[39;00m [\u001b[38;5;124m\"\u001b[39m\u001b[38;5;124mq\u001b[39m\u001b[38;5;124m\"\u001b[39m,\u001b[38;5;124m\"\u001b[39m\u001b[38;5;124mQ\u001b[39m\u001b[38;5;124m\"\u001b[39m]:\n\u001b[0;32m    263\u001b[0m         \u001b[38;5;28;01mbreak\u001b[39;00m\n",
      "File \u001b[1;32m~\\Desktop\\python\\graphics\\__init__.py:352\u001b[0m, in \u001b[0;36mGraphWin.checkKey\u001b[1;34m(self)\u001b[0m\n\u001b[0;32m    350\u001b[0m \u001b[38;5;124;03m\"\"\"Return last key pressed or None if no key pressed since last call\"\"\"\u001b[39;00m\n\u001b[0;32m    351\u001b[0m \u001b[38;5;28;01mif\u001b[39;00m \u001b[38;5;28mself\u001b[39m\u001b[38;5;241m.\u001b[39misClosed():\n\u001b[1;32m--> 352\u001b[0m     \u001b[38;5;28;01mraise\u001b[39;00m GraphicsError(\u001b[38;5;124m\"\u001b[39m\u001b[38;5;124mcheckKey in closed window\u001b[39m\u001b[38;5;124m\"\u001b[39m)\n\u001b[0;32m    353\u001b[0m \u001b[38;5;28mself\u001b[39m\u001b[38;5;241m.\u001b[39mupdate()\n\u001b[0;32m    354\u001b[0m key \u001b[38;5;241m=\u001b[39m \u001b[38;5;28mself\u001b[39m\u001b[38;5;241m.\u001b[39mlastKey\n",
      "\u001b[1;31mGraphicsError\u001b[0m: checkKey in closed window"
     ]
    }
   ],
   "source": [
    "import math\n",
    "from graphics import *\n",
    "from math import cos, sin, sqrt,radians,degrees \n",
    "def main():\n",
    "    #create animation window\n",
    "    win=GraphWin(\"Projectile Animation\",640,480,autoflush=False)\n",
    "    win.setCoords(-10,-10,210,155)\n",
    "    \n",
    "    #draw baseline\n",
    "    Line(Point(-10,0),Point(210,0)).draw(win)\n",
    "    \n",
    "    #draw labeled ticks every 50 meters\n",
    "    for x in range(0,210,50):\n",
    "        Text(Point(x,-5),str(x)).draw(win)\n",
    "        Line(Point(x,0),Point(x,2)).draw(win)\n",
    "    #event loop, each time through fires a single shot\n",
    "    angle,vel,height=45.0,40.0,2\n",
    "    while True:\n",
    "        #interact with the user\n",
    "        inputwin = InputDialog(angle,vel,height)\n",
    "        choice = inputwin.interact()\n",
    "        inputwin.close()\n",
    "        \n",
    "        if choice == \"Quit\":\n",
    "            break\n",
    "            \n",
    "        #create a shot and track until it hits ground or leaves window\n",
    "        angle,vel,height=inputwin.getValues()\n",
    "        shot = ShotTracker(win,angle,vel,height)\n",
    "        while 0 <=shot.getY() and -10 < shot.getX() <=210:\n",
    "            shot.update(1/50)\n",
    "            update(50)\n",
    "        \n",
    "    win.close()\n",
    "        \n",
    "        \n",
    "class ShotTracker:        \n",
    "    def __init__(self,win,angle,velocity,height):\n",
    "        \"\"\"win is the GraphWin to display the shot. angle, velocity,\n",
    "        and height are initial projectile parameters.\n",
    "        \"\"\"\n",
    "        self.proj=Projectile(angle,velocity,height)\n",
    "        self.marker=Circle(Point(0,height),3)\n",
    "        self.marker.setFill(\"red\")\n",
    "        self.marker.setOutline(\"red\")\n",
    "        self.marker.draw(win)\n",
    "    \n",
    "    def update(self,dt):\n",
    "        \"\"\"Move the shot dt seconds farther along its flight\"\"\"\n",
    "\n",
    "        #update the projectile\n",
    "        self.proj.update(dt)\n",
    "    \n",
    "        #move the circle to the new projectile location\n",
    "        center = self.marker.getCenter()\n",
    "        dx=self.proj.getX()-center.getX()\n",
    "        dy=self.proj.getY()-center.getY()\n",
    "        self.marker.move(dx,dy)\n",
    "    \n",
    "    \n",
    "    def getX(self):\n",
    "        \"\"\"return the current y coordinate of the shots center\"\"\"\n",
    "        return self.proj.getX()\n",
    "    def getY(self):\n",
    "        \"\"\"return the current y coordinate of the shots center\"\"\"\n",
    "        return self.proj.getY()\n",
    "\n",
    "    def undraw(self):\n",
    "        \"\"\"undraw the shot\"\"\"\n",
    "        self.marker.undraw()\n",
    "    \n",
    "class InputDialog:\n",
    "    \"\"\"A custom window for getting simulation values (angle, velocity, \n",
    "     and height) from the user.\"\"\"\n",
    "    def __init__(self,angle,vel,height):\n",
    "        \"\"\"Build and display the input window\"\"\"\n",
    "            \n",
    "        self.win=win=GraphWin(\"Intial Values\",200,300)\n",
    "        win.setCoords(0,4.5,4,.5)\n",
    "            \n",
    "        Text(Point(1,1),\"Angle\").draw(win)\n",
    "        self.angle=Entry(Point(3,1),5).draw(win)\n",
    "        self.angle.setText(str(angle))\n",
    "            \n",
    "        Text(Point(1,2),\"Velocity\").draw(win)\n",
    "        self.vel=Entry(Point(3,2),5).draw(win)\n",
    "        self.vel.setText(str(vel))\n",
    "            \n",
    "        Text(Point(1,3),\"Height\").draw(win)\n",
    "        self.height = Entry(Point(3,3),5).draw(win)\n",
    "        self.height.setText(str(height))\n",
    "            \n",
    "        self.fire=Button(win,Point(1,4),1.25,.5,\"Fire!\")\n",
    "        self.fire.activate()\n",
    "            \n",
    "        self.quit=Button(win,Point(3,4),1.25,.5,\"Quit\")\n",
    "        self.quit.activate()\n",
    "            \n",
    "    def interact(self):\n",
    "        \"\"\"wait for user to click Quit or fire button\n",
    "        Returns a string indicating which button wass clicked\n",
    "        \"\"\"\n",
    "                \n",
    "        while True:\n",
    "            pt=self.win.getMouse()\n",
    "            if self.quit.clicked(pt):\n",
    "                return \"Quit\"\n",
    "            if self.fire.clicked(pt):\n",
    "                return \"Fire!\"\n",
    "                    \n",
    "                    \n",
    "                    \n",
    "    def getValues(self):\n",
    "        \"\"\"return input values\"\"\"\n",
    "        a=float(self.angle.getText())\n",
    "        v=float(self.vel.getText())\n",
    "        h=float(self.height.getText())\n",
    "        return a,v,h\n",
    "    def close(self):\n",
    "        \"\"\"close the input window\"\"\"\n",
    "        self.win.close()\n",
    "                \n",
    "   \n",
    "        \n",
    "class Button:\n",
    "    \"\"\"A button is a labeled rectangle in a window.\n",
    "    it is activated or deactivated with the activate()\n",
    "    and deactivate() methods. The clicked(p) method \n",
    "    returns true if the button is active and p is inside it.\"\"\"\n",
    "    \n",
    "    def __init__(self,win,center,width,height,label):\n",
    "        \"\"\"Creates a rectangular button, eg:\n",
    "        qp= Button(myWin, centerPoint, width,height, 'Quit')\"\"\"\n",
    "        \n",
    "        w,h=width/2, height/2\n",
    "        x,y=center.getX(), center.getY()\n",
    "        self.xmax,self.xmin=x+w,x-w\n",
    "        self.ymax,self.ymin=y+h,y-h\n",
    "        p1=Point(self.xmin,self.ymin)\n",
    "        p2=Point(self.xmax,self.ymax)\n",
    "        self.rect=Rectangle(p1,p2)\n",
    "        self.rect.setFill('lightgray')\n",
    "        self.rect.draw(win)\n",
    "        self.label=Text(center,label)\n",
    "        self.label.draw(win)\n",
    "        self.deactivate()\n",
    "        \n",
    "    def clicked(self,p):\n",
    "        \"Returns true if button active and p is inside\"\n",
    "        return(self.active and\n",
    "              self.xmin <= p.getX() <= self.xmax and\n",
    "              self.ymin <= p.getY() <= self.ymax)\n",
    "    def getLabel(self):\n",
    "        \"Returns the label string of this button.\"\n",
    "        return self.label.getText()\n",
    "    \n",
    "    def activate(self):\n",
    "        \"Sets this button to 'activate'.\"\n",
    "        self.label.setFill(\"green\")\n",
    "        self.rect.setWidth(2)\n",
    "        self.active=True\n",
    "    \n",
    "    def deactivate(self):\n",
    "        \"Sets this button to 'inactive'.\"\n",
    "        self.label.setFill(\"darkgrey\")\n",
    "        self.rect.setWidth(1)\n",
    "        self.active=False\n",
    "        \n",
    "class Projectile:\n",
    "    \"\"\"Simulates the flight of simple projectiles near the earth's \n",
    "    surface, ignoring wind resistance. Tracking is done in two\n",
    "    dimenssions, height(y) and distance(x).\"\"\"\n",
    "    \n",
    "    def __init__(self,angle,velocity,height):\n",
    "        \"\"\"Create a projectile with given launch angle, initial\n",
    "        velocity and height.\"\"\"\n",
    "        \n",
    "        self.xpos=0\n",
    "        self.ypos=height\n",
    "        theta=math.radians(angle)\n",
    "        self.xvel=velocity*math.cos(theta)\n",
    "        self.yvel=velocity*math.sin(theta)\n",
    "    def update(self,time):\n",
    "        \"\"\"update the state of this projectile to move it time seconds\n",
    "        farther into its flight\"\"\"\n",
    "        self.xpos=self.xpos+time*self.xvel\n",
    "        yvel1=self.yvel-9.8*time\n",
    "        self.ypos=self.ypos+time*(self.yvel+yvel1)/2\n",
    "        self.yvel=yvel1\n",
    "    def getY(self):\n",
    "        \"Return the y position (height) of this projectile.\"\n",
    "        return self.ypos\n",
    "    def getX(self):\n",
    "        \"Return the x position (distance) of this projectile.\"\n",
    "        return self.xpos\n",
    "    \n",
    "    \n",
    "class Launcher:\n",
    "    def __init__(self,win):\n",
    "        #draw the base shot of the launcher\n",
    "        base = Circle(Point(0,0),3)\n",
    "        base.setFill(\"red\")\n",
    "        base.setOutline(\"red\")\n",
    "        base.draw(win)\n",
    "        #save the window and create initial angle and velocity\n",
    "        self.win = win\n",
    "        self.angle = radians(45)\n",
    "        self.vel = 40\n",
    "        \n",
    "        #create initial \"dummu\" arrow (needed by redraw)\n",
    "        self.arrow =Line(Point(0,0),Point(0,0)).draw(win)\n",
    "        #replace it with the correct arrow\n",
    "        self.redraw()\n",
    "        \n",
    "    def adjAngle(self,amt):\n",
    "        \"\"\"Change launch angle by amt degrees\"\"\"\n",
    "        \n",
    "        self.angle = self.angle + radians(amt)\n",
    "        self.redraw()\n",
    "        \n",
    "    def adjVel(self,amt):\n",
    "        \"\"\"change launch velocity by amt\"\"\"\n",
    "        \n",
    "        self.vel = self.vel + amt\n",
    "        self.redraw()\n",
    "        \n",
    "    def redraw(self):\n",
    "        \"\"\"redraw the arrow to show current angle and velocity\"\"\"\n",
    "        \n",
    "        self.arrow.undraw()\n",
    "        pt2=Point(self.vel*cos(self.angle),\n",
    "                 self.vel*sin(self.angle))\n",
    "        self.arrow = Line(Point(0,0),pt2).draw(self.win)\n",
    "        self.arrow.setArrow(\"last\")\n",
    "        self.arrow.setWidth(3)\n",
    "        \n",
    "        \n",
    "    def fire(self):\n",
    "        return ShotTracker(self.win,  degrees(self.angle) ,self.vel,0)\n",
    "    \n",
    "class ProjectileApp:\n",
    "    def __init__(self):\n",
    "        #create graphics window with a scale line at the bottom\n",
    "        self.win = GraphWin(\"Projectile Animation\",640,480)\n",
    "        self.win.setCoords(-10,-10,210,155)\n",
    "        Line(Point(-10,0),Point(210,0)).draw(self.win)\n",
    "        for x in range(0,210,50):\n",
    "            Text(Point(x,-7),str(x)).draw(self.win)\n",
    "            Line(Point(x,0),Point(x,2)).draw(self.win)\n",
    "            \n",
    "        #add the launcher to the window\n",
    "        self.launcher = Launcher(self.win)\n",
    "        \n",
    "        #start with an empty list of live shots\n",
    "        self.shots = []\n",
    "    def run(self):\n",
    "        # main event/animation loop\n",
    "        while True:\n",
    "            self.updateShots(1/30)\n",
    "        \n",
    "            key = self.win.checkKey()\n",
    "            if key in [\"q\",\"Q\"]:\n",
    "                break\n",
    "            if key == \"Up\":\n",
    "                self.launcher.adjAngle(5)\n",
    "            elif key == \"down\":\n",
    "                self.launcher.adjAngle(-5)\n",
    "            elif key ==\"Right\":\n",
    "                self.launcher.adjVel(-5)\n",
    "            elif key == \"Left\":\n",
    "                self.launcher.adjVel(5)\n",
    "            elif key in [\"f\",\"F\"]:\n",
    "                self.shots.append(self.launcher.fire())\n",
    "            update(30)\n",
    "        win.close()\n",
    "    \n",
    "    \n",
    "    def updateShots(self,dt):\n",
    "        alive = []\n",
    "        for shot in self.shots:\n",
    "            shot.update(dt)\n",
    "            if shot.getY() >= 0 and -10<shot.getX() <210:\n",
    "                alive.append(shot)\n",
    "            else:\n",
    "                shot.undraw()\n",
    "        self.shots = alive\n",
    "        \n",
    "if __name__ == \"__main__\":\n",
    "    ProjectileApp().run()\n",
    "            "
   ]
  },
  {
   "cell_type": "markdown",
   "id": "ab52e44d",
   "metadata": {},
   "source": [
    "# Dictionary Basics"
   ]
  },
  {
   "cell_type": "code",
   "execution_count": 2,
   "id": "36e7135e",
   "metadata": {},
   "outputs": [],
   "source": [
    "passwd = {\"guido\":\"superprogrammer\",\"turning\":\"genious\",\"bill\":\"monopoly\"}"
   ]
  },
  {
   "cell_type": "code",
   "execution_count": 7,
   "id": "d97c6f04",
   "metadata": {},
   "outputs": [
    {
     "data": {
      "text/plain": [
       "'superprogrammer'"
      ]
     },
     "execution_count": 7,
     "metadata": {},
     "output_type": "execute_result"
    }
   ],
   "source": [
    "passwd[\"guido\"]"
   ]
  },
  {
   "cell_type": "code",
   "execution_count": 8,
   "id": "342e62ca",
   "metadata": {},
   "outputs": [
    {
     "data": {
      "text/plain": [
       "'monopoly'"
      ]
     },
     "execution_count": 8,
     "metadata": {},
     "output_type": "execute_result"
    }
   ],
   "source": [
    "passwd[\"bill\"]"
   ]
  },
  {
   "cell_type": "code",
   "execution_count": 9,
   "id": "7609e09b",
   "metadata": {},
   "outputs": [],
   "source": [
    "passwd[\"bill\"]=\"bluescreen\""
   ]
  },
  {
   "cell_type": "code",
   "execution_count": 1,
   "id": "cab25125",
   "metadata": {},
   "outputs": [
    {
     "ename": "NameError",
     "evalue": "name 'passwd' is not defined",
     "output_type": "error",
     "traceback": [
      "\u001b[1;31m---------------------------------------------------------------------------\u001b[0m",
      "\u001b[1;31mNameError\u001b[0m                                 Traceback (most recent call last)",
      "Input \u001b[1;32mIn [1]\u001b[0m, in \u001b[0;36m<cell line: 1>\u001b[1;34m()\u001b[0m\n\u001b[1;32m----> 1\u001b[0m \u001b[43mpasswd\u001b[49m\n",
      "\u001b[1;31mNameError\u001b[0m: name 'passwd' is not defined"
     ]
    }
   ],
   "source": [
    "passwd"
   ]
  },
  {
   "cell_type": "code",
   "execution_count": 11,
   "id": "3c447db7",
   "metadata": {},
   "outputs": [],
   "source": [
    "passwd['newuser']='ImAnewbie'"
   ]
  },
  {
   "cell_type": "code",
   "execution_count": 12,
   "id": "5cd5ba93",
   "metadata": {},
   "outputs": [
    {
     "data": {
      "text/plain": [
       "{'guido': 'superprogrammer',\n",
       " 'turning': 'genious',\n",
       " 'bill': 'bluescreen',\n",
       " 'newuser': 'ImAnewbie'}"
      ]
     },
     "execution_count": 12,
     "metadata": {},
     "output_type": "execute_result"
    }
   ],
   "source": [
    "passwd"
   ]
  },
  {
   "cell_type": "code",
   "execution_count": 13,
   "id": "de505f3f",
   "metadata": {},
   "outputs": [
    {
     "ename": "FileNotFoundError",
     "evalue": "[Errno 2] No such file or directory: 'passwords'",
     "output_type": "error",
     "traceback": [
      "\u001b[1;31m---------------------------------------------------------------------------\u001b[0m",
      "\u001b[1;31mFileNotFoundError\u001b[0m                         Traceback (most recent call last)",
      "Input \u001b[1;32mIn [13]\u001b[0m, in \u001b[0;36m<cell line: 2>\u001b[1;34m()\u001b[0m\n\u001b[0;32m      1\u001b[0m passwd \u001b[38;5;241m=\u001b[39m {}\n\u001b[1;32m----> 2\u001b[0m \u001b[38;5;28;01mfor\u001b[39;00m line \u001b[38;5;129;01min\u001b[39;00m \u001b[38;5;28;43mopen\u001b[39;49m\u001b[43m(\u001b[49m\u001b[38;5;124;43m'\u001b[39;49m\u001b[38;5;124;43mpasswords\u001b[39;49m\u001b[38;5;124;43m'\u001b[39;49m\u001b[43m,\u001b[49m\u001b[38;5;124;43m'\u001b[39;49m\u001b[38;5;124;43mr\u001b[39;49m\u001b[38;5;124;43m'\u001b[39;49m\u001b[43m)\u001b[49m:\n\u001b[0;32m      3\u001b[0m     user, pass1 \u001b[38;5;241m=\u001b[39m line\u001b[38;5;241m.\u001b[39msplit()\n\u001b[0;32m      4\u001b[0m     passwd[user] \u001b[38;5;241m=\u001b[39m pass1\n",
      "\u001b[1;31mFileNotFoundError\u001b[0m: [Errno 2] No such file or directory: 'passwords'"
     ]
    }
   ],
   "source": [
    "passwd = {}\n",
    "for line in open('passwords','r'):\n",
    "    user, pass1 = line.split()\n",
    "    passwd[user] = pass1"
   ]
  },
  {
   "cell_type": "code",
   "execution_count": 3,
   "id": "e0a26a2b",
   "metadata": {},
   "outputs": [
    {
     "data": {
      "text/plain": [
       "{'guido': 'superprogrammer', 'turning': 'genious', 'bill': 'monopoly'}"
      ]
     },
     "execution_count": 3,
     "metadata": {},
     "output_type": "execute_result"
    }
   ],
   "source": [
    "passwd"
   ]
  },
  {
   "cell_type": "code",
   "execution_count": 5,
   "id": "b82d49c0",
   "metadata": {},
   "outputs": [
    {
     "data": {
      "text/plain": [
       "True"
      ]
     },
     "execution_count": 5,
     "metadata": {},
     "output_type": "execute_result"
    }
   ],
   "source": [
    "'guido' in passwd"
   ]
  },
  {
   "cell_type": "code",
   "execution_count": 6,
   "id": "a53f7db5",
   "metadata": {},
   "outputs": [
    {
     "data": {
      "text/plain": [
       "dict_keys(['guido', 'turning', 'bill'])"
      ]
     },
     "execution_count": 6,
     "metadata": {},
     "output_type": "execute_result"
    }
   ],
   "source": [
    "passwd.keys()"
   ]
  },
  {
   "cell_type": "code",
   "execution_count": 7,
   "id": "94905daa",
   "metadata": {},
   "outputs": [
    {
     "data": {
      "text/plain": [
       "dict_values(['superprogrammer', 'genious', 'monopoly'])"
      ]
     },
     "execution_count": 7,
     "metadata": {},
     "output_type": "execute_result"
    }
   ],
   "source": [
    "passwd.values()"
   ]
  },
  {
   "cell_type": "code",
   "execution_count": 8,
   "id": "36b77000",
   "metadata": {},
   "outputs": [
    {
     "data": {
      "text/plain": [
       "dict_items([('guido', 'superprogrammer'), ('turning', 'genious'), ('bill', 'monopoly')])"
      ]
     },
     "execution_count": 8,
     "metadata": {},
     "output_type": "execute_result"
    }
   ],
   "source": [
    "passwd.items()"
   ]
  },
  {
   "cell_type": "code",
   "execution_count": 9,
   "id": "e04cc2e2",
   "metadata": {},
   "outputs": [
    {
     "data": {
      "text/plain": [
       "'superprogrammer'"
      ]
     },
     "execution_count": 9,
     "metadata": {},
     "output_type": "execute_result"
    }
   ],
   "source": [
    "passwd.get('guido')"
   ]
  },
  {
   "cell_type": "code",
   "execution_count": 11,
   "id": "e019cf11",
   "metadata": {},
   "outputs": [
    {
     "data": {
      "text/plain": [
       "'default'"
      ]
     },
     "execution_count": 11,
     "metadata": {},
     "output_type": "execute_result"
    }
   ],
   "source": [
    "passwd.get('hi','default')"
   ]
  },
  {
   "cell_type": "code",
   "execution_count": 12,
   "id": "12658b9c",
   "metadata": {},
   "outputs": [
    {
     "data": {
      "text/plain": [
       "'superprogrammer'"
      ]
     },
     "execution_count": 12,
     "metadata": {},
     "output_type": "execute_result"
    }
   ],
   "source": [
    "passwd.get('guido','default')"
   ]
  },
  {
   "cell_type": "code",
   "execution_count": 13,
   "id": "958d9bc8",
   "metadata": {},
   "outputs": [
    {
     "data": {
      "text/plain": [
       "['guido', 'turning', 'bill']"
      ]
     },
     "execution_count": 13,
     "metadata": {},
     "output_type": "execute_result"
    }
   ],
   "source": [
    "list(passwd.keys())"
   ]
  },
  {
   "cell_type": "code",
   "execution_count": 14,
   "id": "5e81d0dd",
   "metadata": {},
   "outputs": [
    {
     "data": {
      "text/plain": [
       "['superprogrammer', 'genious', 'monopoly']"
      ]
     },
     "execution_count": 14,
     "metadata": {},
     "output_type": "execute_result"
    }
   ],
   "source": [
    "list(passwd.values())"
   ]
  },
  {
   "cell_type": "code",
   "execution_count": 15,
   "id": "3a88bb9f",
   "metadata": {},
   "outputs": [
    {
     "name": "stdout",
     "output_type": "stream",
     "text": [
      "File to analyse: Happybirthday.txt\n",
      "birthday 12\n",
      "dear 3\n",
      "elmer 1\n",
      "fred 1\n",
      "happy 12\n",
      "lucy 1\n",
      "to 9\n",
      "you 9\n"
     ]
    }
   ],
   "source": [
    "fname=input(\"File to analyse: \")\n",
    "\n",
    "#read file as one long string\n",
    "text = open(fname,\"r\").read()\n",
    "\n",
    "#convert all letters to lower case\n",
    "text = text.lower()\n",
    "\n",
    "# replace each punctuation character with a space\n",
    "for ch in '!\"#$%&()*+,-./:;<=.?@[\\\\]^_`{|}~':\n",
    "    text = text.replace(ch, \" \")\n",
    "\n",
    "#split string at white space to form a list of words\n",
    "words = text.split()\n",
    "\n",
    "counts = {}\n",
    "for w in words:\n",
    "    counts[w]=counts.get(w,0) +1\n",
    "\n",
    "    \n",
    "#get list of words that appear in document\n",
    "uniqueWords = list(counts.keys())\n",
    "\n",
    "#put list of words in alphabetical order\n",
    "uniqueWords.sort()\n",
    "\n",
    "#print words and associated counts\n",
    "for w in uniqueWords:\n",
    "    print(w,counts[w])\n",
    "    "
   ]
  },
  {
   "cell_type": "code",
   "execution_count": 16,
   "id": "b6d1f6d7",
   "metadata": {},
   "outputs": [],
   "source": [
    "items = list(counts.items())"
   ]
  },
  {
   "cell_type": "code",
   "execution_count": 17,
   "id": "26288289",
   "metadata": {},
   "outputs": [
    {
     "data": {
      "text/plain": [
       "[('happy', 12),\n",
       " ('birthday', 12),\n",
       " ('to', 9),\n",
       " ('you', 9),\n",
       " ('dear', 3),\n",
       " ('fred', 1),\n",
       " ('lucy', 1),\n",
       " ('elmer', 1)]"
      ]
     },
     "execution_count": 17,
     "metadata": {},
     "output_type": "execute_result"
    }
   ],
   "source": [
    "items"
   ]
  },
  {
   "cell_type": "code",
   "execution_count": 19,
   "id": "569855bd",
   "metadata": {},
   "outputs": [],
   "source": [
    "def byFreq(pair):\n",
    "    return pair[1]\n",
    "\n",
    "items.sort(key = byFreq, reverse = True)"
   ]
  },
  {
   "cell_type": "code",
   "execution_count": 20,
   "id": "0900a1d3",
   "metadata": {},
   "outputs": [
    {
     "name": "stdout",
     "output_type": "stream",
     "text": [
      "happy             12\n",
      "birthday          12\n",
      "to                 9\n",
      "you                9\n",
      "dear               3\n",
      "fred               1\n",
      "lucy               1\n",
      "elmer              1\n"
     ]
    }
   ],
   "source": [
    "for i in range(8):\n",
    "    word,count = items[i]\n",
    "    print(\"{0:<15}{1:>5}\".format(word,count))"
   ]
  },
  {
   "cell_type": "code",
   "execution_count": 21,
   "id": "a50632ef",
   "metadata": {},
   "outputs": [
    {
     "name": "stdout",
     "output_type": "stream",
     "text": [
      "This programme analyzes word frequency in a file\n",
      "and prints a report on the n most frequent words.\n",
      "\n",
      "File to analyze: Happybirthday.txt\n",
      "Output analysis of how many words? 8\n",
      "birthday          12\n",
      "happy             12\n",
      "to                 9\n",
      "you                9\n",
      "dear               3\n",
      "elmer              1\n",
      "fred               1\n",
      "lucy               1\n"
     ]
    }
   ],
   "source": [
    "def main():\n",
    "    print(\"This programme analyzes word frequency in a file\")\n",
    "    print(\"and prints a report on the n most frequent words.\\n\")\n",
    "    \n",
    "    #get the sequence of words from the file\n",
    "    fname = input(\"File to analyze: \")\n",
    "    text = open(fname,\"r\").read()\n",
    "    text = text.lower()\n",
    "    for ch in '!\"#$%&()*+,-./:;<=.?@[\\\\]^_`{|}~':\n",
    "        text = text.replace(ch, ' ')\n",
    "    words = text.split()\n",
    "    \n",
    "    #construct a dictionary of word counts\n",
    "    counts = {}\n",
    "    for w in words:\n",
    "        counts[w] = counts.get(w,0)+1\n",
    "    \n",
    "    # output analysis of n most frequent words\n",
    "    n = eval(input(\"Output analysis of how many words? \"))\n",
    "    items = list(counts.items())\n",
    "    items.sort()\n",
    "    items.sort(key = byFreq, reverse =True)\n",
    "    for i in range(n):\n",
    "        word, count =items[i]\n",
    "        print(\"{0:<15}{1:>5}\".format(word,count))\n",
    "        \n",
    "    \n",
    "if __name__ == '__main__':\n",
    "    main()"
   ]
  },
  {
   "cell_type": "code",
   "execution_count": null,
   "id": "8aa01f79",
   "metadata": {},
   "outputs": [],
   "source": []
  }
 ],
 "metadata": {
  "kernelspec": {
   "display_name": "Python 3 (ipykernel)",
   "language": "python",
   "name": "python3"
  },
  "language_info": {
   "codemirror_mode": {
    "name": "ipython",
    "version": 3
   },
   "file_extension": ".py",
   "mimetype": "text/x-python",
   "name": "python",
   "nbconvert_exporter": "python",
   "pygments_lexer": "ipython3",
   "version": "3.9.12"
  }
 },
 "nbformat": 4,
 "nbformat_minor": 5
}
