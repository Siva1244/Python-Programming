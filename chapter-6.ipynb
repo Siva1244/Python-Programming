{
 "cells": [
  {
   "cell_type": "code",
   "execution_count": 7,
   "id": "21be7e6e",
   "metadata": {},
   "outputs": [],
   "source": [
    "from graphics import *\n",
    "def main():\n",
    "    print(\"This programme plots the growth of a 10 year investment.\")\n",
    "    principal = float(input(\"Enter the intial principal:\"))\n",
    "    apr=float(input(\"Enter the annualized interste rate :\"))\n",
    "    win=GraphWin(\"Investment Growth Chart\",320,240)\n",
    "    win.setBackground(\"white\")\n",
    "    win.setCoords(-1.75,-200,11.5,10400)\n",
    "    Text(Point(-1,0),'0.0K').draw(win)\n",
    "    Text(Point(-1,2500),\"2.5k\").draw(win)\n",
    "    Text(Point(-1,5000),\"5.0k\").draw(win)\n",
    "    Text(Point(-1,7500),\"7.5k\").draw(win)\n",
    "    Text(Point(-1,10000),\"10.0k\").draw(win)\n",
    "    bar=Rectangle(Point(0,0),Point(1,principal))\n",
    "    bar.setFill(\"green\")\n",
    "    bar.setWidth(2)\n",
    "    bar.draw(win)\n",
    "    \n",
    "    for year in range(1,11):\n",
    "        principal =principal*(1+apr)\n",
    "        bar=Rectangle(Point(year,0),Point(year+1,principal))\n",
    "        bar.setFill(\"green\")\n",
    "        bar.setWidth(2)\n",
    "        bar.draw(win)\n",
    "    input(\"Press Enter to quit.\")\n",
    "    win.close()\n",
    "        "
   ]
  },
  {
   "cell_type": "code",
   "execution_count": null,
   "id": "cc2cb76c",
   "metadata": {},
   "outputs": [
    {
     "name": "stdout",
     "output_type": "stream",
     "text": [
      "This programme plots the growth of a 10 year investment.\n",
      "Enter the intial principal:2000\n",
      "Enter the annualized interste rate :0.1\n",
      "Press Enter to quit.\n"
     ]
    }
   ],
   "source": [
    "main()"
   ]
  },
  {
   "cell_type": "code",
   "execution_count": 1,
   "id": "9cae8b41",
   "metadata": {},
   "outputs": [],
   "source": [
    "def main():\n",
    "    print(\"Happy birthday to you!\")\n",
    "    print(\"Happy birthday to you!\")\n",
    "    print(\"Happy birthday, dear friend\")\n",
    "    print(\"Happy birthday to you!\")"
   ]
  },
  {
   "cell_type": "code",
   "execution_count": 2,
   "id": "13b220a0",
   "metadata": {},
   "outputs": [
    {
     "name": "stdout",
     "output_type": "stream",
     "text": [
      "Happy birthday to you!\n",
      "Happy birthday to you!\n",
      "Happy birthday, dear friend\n",
      "Happy birthday to you!\n"
     ]
    }
   ],
   "source": [
    "main()"
   ]
  },
  {
   "cell_type": "code",
   "execution_count": 3,
   "id": "bbeefa18",
   "metadata": {},
   "outputs": [],
   "source": [
    "def happy():\n",
    "    print(\"Happy birthday to you!\")"
   ]
  },
  {
   "cell_type": "code",
   "execution_count": 4,
   "id": "2c3b851c",
   "metadata": {},
   "outputs": [
    {
     "name": "stdout",
     "output_type": "stream",
     "text": [
      "Happy birthday to you!\n"
     ]
    }
   ],
   "source": [
    "happy()"
   ]
  },
  {
   "cell_type": "code",
   "execution_count": 5,
   "id": "83b82ae2",
   "metadata": {},
   "outputs": [],
   "source": [
    "def sinfrd():\n",
    "    happy()\n",
    "    happy()\n",
    "    print(\"Happy birthday, dear friend.\")\n",
    "    happy()"
   ]
  },
  {
   "cell_type": "code",
   "execution_count": 6,
   "id": "61827a22",
   "metadata": {},
   "outputs": [
    {
     "name": "stdout",
     "output_type": "stream",
     "text": [
      "Happy birthday to you!\n",
      "Happy birthday to you!\n",
      "Happy birthday, dear friend.\n",
      "Happy birthday to you!\n"
     ]
    }
   ],
   "source": [
    "sinfrd()"
   ]
  },
  {
   "cell_type": "code",
   "execution_count": 7,
   "id": "935b102e",
   "metadata": {},
   "outputs": [],
   "source": [
    "def singlucy():\n",
    "    happy()\n",
    "    happy()\n",
    "    print(\"Happy birthday, dear lucy.\")\n",
    "    happy()"
   ]
  },
  {
   "cell_type": "code",
   "execution_count": 8,
   "id": "487525b9",
   "metadata": {},
   "outputs": [
    {
     "name": "stdout",
     "output_type": "stream",
     "text": [
      "Happy birthday to you!\n",
      "Happy birthday to you!\n",
      "Happy birthday, dear lucy.\n",
      "Happy birthday to you!\n"
     ]
    }
   ],
   "source": [
    "singlucy()"
   ]
  },
  {
   "cell_type": "code",
   "execution_count": 11,
   "id": "c723b246",
   "metadata": {},
   "outputs": [],
   "source": [
    "def main():\n",
    "    sinfrd()\n",
    "    print()\n",
    "    singlucy()"
   ]
  },
  {
   "cell_type": "code",
   "execution_count": 12,
   "id": "7f68869f",
   "metadata": {},
   "outputs": [
    {
     "name": "stdout",
     "output_type": "stream",
     "text": [
      "Happy birthday to you!\n",
      "Happy birthday to you!\n",
      "Happy birthday, dear friend.\n",
      "Happy birthday to you!\n",
      "\n",
      "Happy birthday to you!\n",
      "Happy birthday to you!\n",
      "Happy birthday, dear lucy.\n",
      "Happy birthday to you!\n"
     ]
    }
   ],
   "source": [
    "main()"
   ]
  },
  {
   "cell_type": "code",
   "execution_count": 14,
   "id": "060b496a",
   "metadata": {},
   "outputs": [],
   "source": [
    "def sing(person):\n",
    "    happy()\n",
    "    happy()\n",
    "    print(\"Happy birthday, dear {0}.\".format(person))\n",
    "    happy()"
   ]
  },
  {
   "cell_type": "code",
   "execution_count": 16,
   "id": "121fbf41",
   "metadata": {},
   "outputs": [
    {
     "name": "stdout",
     "output_type": "stream",
     "text": [
      "Happy birthday to you!\n",
      "Happy birthday to you!\n",
      "Happy birthday, dear siva.\n",
      "Happy birthday to you!\n"
     ]
    }
   ],
   "source": [
    "sing('siva')"
   ]
  },
  {
   "cell_type": "code",
   "execution_count": 17,
   "id": "799ada48",
   "metadata": {},
   "outputs": [],
   "source": [
    "def main():\n",
    "    sing(\"fred\")\n",
    "    print()\n",
    "    sing(\"lucy\")\n",
    "    print()\n",
    "    sing(\"elmer\")"
   ]
  },
  {
   "cell_type": "code",
   "execution_count": 18,
   "id": "e5af3f36",
   "metadata": {},
   "outputs": [
    {
     "name": "stdout",
     "output_type": "stream",
     "text": [
      "Happy birthday to you!\n",
      "Happy birthday to you!\n",
      "Happy birthday, dear fred.\n",
      "Happy birthday to you!\n",
      "\n",
      "Happy birthday to you!\n",
      "Happy birthday to you!\n",
      "Happy birthday, dear lucy.\n",
      "Happy birthday to you!\n",
      "\n",
      "Happy birthday to you!\n",
      "Happy birthday to you!\n",
      "Happy birthday, dear elmer.\n",
      "Happy birthday to you!\n"
     ]
    }
   ],
   "source": [
    "main()"
   ]
  },
  {
   "cell_type": "code",
   "execution_count": null,
   "id": "322316b6",
   "metadata": {},
   "outputs": [],
   "source": [
    "bar=Rectangle(Point(0,0),Point(1,principal))\n",
    "bar.setFill(\"green\")\n",
    "bar.setWidth(2)\n",
    "bar.draw(win)\n",
    "\n",
    "bar=Rectangle(Point(year,0),Point(year+1,principal))\n",
    "bar.setFill(\"green\")\n",
    "bar.setWidth(2)\n",
    "bar.draw(win)"
   ]
  },
  {
   "cell_type": "code",
   "execution_count": 2,
   "id": "946c88e0",
   "metadata": {},
   "outputs": [],
   "source": [
    "def drawBar(window,year,height):\n",
    "    bar=Rectangle(Point(year,0),Point(year+1,height))\n",
    "    bar.setFill(\"green\")\n",
    "    bar.setWidth(2)\n",
    "    bar.draw(window)\n",
    "    "
   ]
  },
  {
   "cell_type": "code",
   "execution_count": 23,
   "id": "a25f95ec",
   "metadata": {},
   "outputs": [],
   "source": [
    "from graphics import *\n",
    "win=GraphWin(\"Hi\",320,240)\n",
    "win.setCoords(-1.75,-200,11.5,10400)\n",
    "drawBar(win,0,2000)"
   ]
  },
  {
   "cell_type": "code",
   "execution_count": 7,
   "id": "3c920088",
   "metadata": {},
   "outputs": [],
   "source": [
    "from graphics import *\n",
    "def main():\n",
    "    print(\"This programme plots the growth of a 10 year investment.\")\n",
    "    \n",
    "    principal = float(input(\"Enter the intial principal:\"))\n",
    "    apr=float(input(\"Enter the annualized interste rate :\"))\n",
    "    \n",
    "    win=GraphWin(\"Investment Growth Chart\",320,240)\n",
    "    win.setBackground(\"white\")\n",
    "    win.setCoords(-1.75,-200,11.5,10400)\n",
    "    \n",
    "    text(win,-1,0,'0.0k')\n",
    "    text(win,-1,2500,'2.5k')\n",
    "    text(win,-1,5000,'5.0k')\n",
    "    text(win,-1,7500,'7.5k')\n",
    "    text(win,-1,10000,'10.0k')\n",
    "    \n",
    "    drawBar(win,0,principal)\n",
    "    \n",
    "    \n",
    "    for year in range(1,11):\n",
    "        principal =principal*(1+apr)\n",
    "        drawBar(win,year,principal)\n",
    "    input(\"Press Enter to quit.\")\n",
    "    win.close()\n",
    "\n",
    "def drawBar(window,year,height):\n",
    "    bar=Rectangle(Point(year,0),Point(year+1,height))\n",
    "    bar.setFill(\"green\")\n",
    "    bar.setWidth(2)\n",
    "    bar.draw(window)\n",
    "\n",
    "def text(window,x,y,tex):\n",
    "    Text(Point(x,y),tex).draw(window)"
   ]
  },
  {
   "cell_type": "code",
   "execution_count": 9,
   "id": "615e8fc2",
   "metadata": {},
   "outputs": [
    {
     "name": "stdout",
     "output_type": "stream",
     "text": [
      "This programme plots the growth of a 10 year investment.\n",
      "Enter the intial principal:2000\n",
      "Enter the annualized interste rate :0.1\n",
      "Press Enter to quit.\n"
     ]
    }
   ],
   "source": [
    "main()"
   ]
  },
  {
   "cell_type": "code",
   "execution_count": 1,
   "id": "93a153c8",
   "metadata": {},
   "outputs": [],
   "source": [
    "def square(x):\n",
    "    return x**2"
   ]
  },
  {
   "cell_type": "code",
   "execution_count": 2,
   "id": "ca54165d",
   "metadata": {},
   "outputs": [
    {
     "data": {
      "text/plain": [
       "4"
      ]
     },
     "execution_count": 2,
     "metadata": {},
     "output_type": "execute_result"
    }
   ],
   "source": [
    "square(2)"
   ]
  },
  {
   "cell_type": "code",
   "execution_count": 3,
   "id": "314dc3d6",
   "metadata": {},
   "outputs": [],
   "source": [
    "b=square(2)"
   ]
  },
  {
   "cell_type": "code",
   "execution_count": 4,
   "id": "43b8f815",
   "metadata": {},
   "outputs": [
    {
     "data": {
      "text/plain": [
       "4"
      ]
     },
     "execution_count": 4,
     "metadata": {},
     "output_type": "execute_result"
    }
   ],
   "source": [
    "b"
   ]
  },
  {
   "cell_type": "code",
   "execution_count": 5,
   "id": "fe9d2195",
   "metadata": {},
   "outputs": [
    {
     "name": "stdout",
     "output_type": "stream",
     "text": [
      "25\n"
     ]
    }
   ],
   "source": [
    "print(square(3)+square(4))"
   ]
  },
  {
   "cell_type": "code",
   "execution_count": 6,
   "id": "fc04990d",
   "metadata": {},
   "outputs": [],
   "source": [
    "def distance(p1,p2):\n",
    "    dist=math.sqrt(square(p2.getX()-p1.getX()) + square(p2.getY()-p1.getY()))\n",
    "    return dist"
   ]
  },
  {
   "cell_type": "code",
   "execution_count": 9,
   "id": "d3a06828",
   "metadata": {},
   "outputs": [],
   "source": [
    "import math\n",
    "from graphics import *\n",
    "def square(x):\n",
    "    return x**2\n",
    "    \n",
    "def distance(p1,p2):\n",
    "    dist=math.sqrt(square (p2.getX()-p1.getX()) + square(p2.getY()-p1.getY()) )\n",
    "    return dist\n",
    "\n",
    "def main():\n",
    "    win=GraphWin(\"draw a triangle\")\n",
    "    win.setCoords(0.0,0.0,10.0,10.0)\n",
    "    message = Text(Point(5,0.5),\"Click on three points\")\n",
    "    message.draw(win)\n",
    "    \n",
    "    p1=win.getMouse()\n",
    "    p1.draw(win)\n",
    "    p2=win.getMouse()\n",
    "    p2.draw(win)\n",
    "    p3=win.getMouse()\n",
    "    p3.draw(win)\n",
    "    \n",
    "    triangle=Polygon(p1,p2,p3)\n",
    "    triangle.setFill(\"peachpuff\")\n",
    "    triangle.setOutline(\"cyan\")\n",
    "    triangle.draw(win)\n",
    "    \n",
    "    perim=distance(p1,p2)+distance(p2,p3)+distance(p3,p1)\n",
    "    message.setText(\"The perimeter is : {0:0.2f}\".format(perim))\n",
    "    \n",
    "    win.getMouse()\n",
    "    win.close()"
   ]
  },
  {
   "cell_type": "code",
   "execution_count": 10,
   "id": "d6ebbaca",
   "metadata": {},
   "outputs": [],
   "source": [
    "main()"
   ]
  },
  {
   "cell_type": "code",
   "execution_count": 15,
   "id": "a268915e",
   "metadata": {},
   "outputs": [],
   "source": [
    "def happy():\n",
    "    return \"Happy birthday to you!\\n\"\n",
    "\n",
    "def verseFor(person):\n",
    "    lyrics=happy()*2+\"Happy birthday, dear \"+ person + \".\\n\" + happy()\n",
    "    return lyrics\n",
    "def main():\n",
    "    for person in [\"Fred\",\"Lucy\",\"Elmer\"]:\n",
    "        print(verseFor(person))\n"
   ]
  },
  {
   "cell_type": "code",
   "execution_count": 12,
   "id": "8e51f3e2",
   "metadata": {},
   "outputs": [
    {
     "name": "stdout",
     "output_type": "stream",
     "text": [
      "Happy birthday to you!\n",
      "Happy birthday to you!\n",
      "Happy birthday, dear Fred.\n",
      "Happy birthday to you!\n",
      "\n",
      "Happy birthday to you!\n",
      "Happy birthday to you!\n",
      "Happy birthday, dear Lucy.\n",
      "Happy birthday to you!\n",
      "\n",
      "Happy birthday to you!\n",
      "Happy birthday to you!\n",
      "Happy birthday, dear Elmer.\n",
      "Happy birthday to you!\n",
      "\n"
     ]
    }
   ],
   "source": [
    "main()"
   ]
  },
  {
   "cell_type": "code",
   "execution_count": 17,
   "id": "3452bd78",
   "metadata": {},
   "outputs": [],
   "source": [
    "def main():\n",
    "    outf=open(\"Happybirthday.txt\",\"w\")\n",
    "    for person in [\"Fred\",\"Lucy\",\"Elmer\"]:\n",
    "        print(verseFor(person),file=outf)\n",
    "    outf.close()\n",
    "        "
   ]
  },
  {
   "cell_type": "code",
   "execution_count": 18,
   "id": "cf70bd2c",
   "metadata": {},
   "outputs": [],
   "source": [
    "main()"
   ]
  },
  {
   "cell_type": "code",
   "execution_count": 19,
   "id": "6ba1a289",
   "metadata": {},
   "outputs": [],
   "source": [
    "def sumdiff(x,y):\n",
    "    sum=x+y\n",
    "    diff=x-y\n",
    "    return sum,diff"
   ]
  },
  {
   "cell_type": "code",
   "execution_count": 20,
   "id": "47235440",
   "metadata": {},
   "outputs": [
    {
     "data": {
      "text/plain": [
       "(7, -1)"
      ]
     },
     "execution_count": 20,
     "metadata": {},
     "output_type": "execute_result"
    }
   ],
   "source": [
    "sumdiff(3,4)"
   ]
  },
  {
   "cell_type": "code",
   "execution_count": 21,
   "id": "b5c12eeb",
   "metadata": {},
   "outputs": [],
   "source": [
    "a,s=sumdiff(3,4)"
   ]
  },
  {
   "cell_type": "code",
   "execution_count": 22,
   "id": "c4c620bf",
   "metadata": {},
   "outputs": [
    {
     "data": {
      "text/plain": [
       "7"
      ]
     },
     "execution_count": 22,
     "metadata": {},
     "output_type": "execute_result"
    }
   ],
   "source": [
    "a"
   ]
  },
  {
   "cell_type": "code",
   "execution_count": 23,
   "id": "11f0b7e0",
   "metadata": {},
   "outputs": [
    {
     "data": {
      "text/plain": [
       "-1"
      ]
     },
     "execution_count": 23,
     "metadata": {},
     "output_type": "execute_result"
    }
   ],
   "source": [
    "s"
   ]
  },
  {
   "cell_type": "code",
   "execution_count": 28,
   "id": "81166e55",
   "metadata": {},
   "outputs": [],
   "source": [
    "def addinterest(balance,rate):\n",
    "    newbalance=balance*(1+rate)\n",
    "    balance=newbalance\n",
    "\n",
    "def test():\n",
    "    amount=1000\n",
    "    rate=0.05\n",
    "    addinterest(amount,rate)\n",
    "    print(amount)"
   ]
  },
  {
   "cell_type": "code",
   "execution_count": 29,
   "id": "22cdb4b9",
   "metadata": {},
   "outputs": [
    {
     "name": "stdout",
     "output_type": "stream",
     "text": [
      "1000\n"
     ]
    }
   ],
   "source": [
    "test()"
   ]
  },
  {
   "cell_type": "code",
   "execution_count": 30,
   "id": "488e06a6",
   "metadata": {},
   "outputs": [],
   "source": [
    "def addinterest(balance,rate):\n",
    "    newbalance=balance*(1+rate)\n",
    "    return newbalance\n",
    "\n",
    "def test():\n",
    "    amount=1000\n",
    "    rate=0.05\n",
    "    amount=addinterest(amount,rate)\n",
    "    print(amount)"
   ]
  },
  {
   "cell_type": "code",
   "execution_count": 31,
   "id": "8f992c4d",
   "metadata": {},
   "outputs": [
    {
     "name": "stdout",
     "output_type": "stream",
     "text": [
      "1050.0\n"
     ]
    }
   ],
   "source": [
    "test()"
   ]
  },
  {
   "cell_type": "code",
   "execution_count": 32,
   "id": "f065f5c8",
   "metadata": {},
   "outputs": [],
   "source": [
    "def addinter(balance,rate):\n",
    "    for i in range(len(balance)):\n",
    "        balance[i]=balance[i]*(1+rate)\n",
    "        \n",
    "def test():\n",
    "    amounts=[1000,2200,800,360]\n",
    "    rate=0.05\n",
    "    addinter(amounts,rate)\n",
    "    print(amounts)"
   ]
  },
  {
   "cell_type": "code",
   "execution_count": 33,
   "id": "f3fccee2",
   "metadata": {},
   "outputs": [
    {
     "name": "stdout",
     "output_type": "stream",
     "text": [
      "[1050.0, 2310.0, 840.0, 378.0]\n"
     ]
    }
   ],
   "source": [
    "test()"
   ]
  },
  {
   "cell_type": "code",
   "execution_count": 34,
   "id": "e3f2b422",
   "metadata": {},
   "outputs": [],
   "source": [
    "from graphics import *\n",
    "def main():\n",
    "    print(\"This programme plots the growth of a 10 year investment.\")\n",
    "    \n",
    "    principal = float(input(\"Enter the intial principal:\"))\n",
    "    apr=float(input(\"Enter the annualized interste rate :\"))\n",
    "    \n",
    "    win=createwin()\n",
    "    \n",
    "    drawBar(win,0,principal)\n",
    "    \n",
    "    \n",
    "    for year in range(1,11):\n",
    "        principal =principal*(1+apr)\n",
    "        drawBar(win,year,principal)\n",
    "    input(\"Press Enter to quit.\")\n",
    "    win.close()\n",
    "\n",
    "def drawBar(window,year,height):\n",
    "    bar=Rectangle(Point(year,0),Point(year+1,height))\n",
    "    bar.setFill(\"green\")\n",
    "    bar.setWidth(2)\n",
    "    bar.draw(window)\n",
    "\n",
    "def createwin():\n",
    "    win=GraphWin(\"Investment Growth Chart\",320,240)\n",
    "    win.setBackground(\"white\")\n",
    "    win.setCoords(-1.75,-200,11.5,10400)\n",
    "    \n",
    "    Text(Point(-1,0),'0.0K').draw(win)\n",
    "    Text(Point(-1,2500),\"2.5k\").draw(win)\n",
    "    Text(Point(-1,5000),\"5.0k\").draw(win)\n",
    "    Text(Point(-1,7500),\"7.5k\").draw(win)\n",
    "    Text(Point(-1,10000),\"10.0k\").draw(win)\n",
    "    return win"
   ]
  },
  {
   "cell_type": "code",
   "execution_count": 35,
   "id": "d87d2f8b",
   "metadata": {},
   "outputs": [
    {
     "name": "stdout",
     "output_type": "stream",
     "text": [
      "This programme plots the growth of a 10 year investment.\n",
      "Enter the intial principal:2000\n",
      "Enter the annualized interste rate :0.1\n",
      "Press Enter to quit.\n"
     ]
    }
   ],
   "source": [
    "main()"
   ]
  },
  {
   "cell_type": "code",
   "execution_count": 5,
   "id": "cff75ae2",
   "metadata": {},
   "outputs": [
    {
     "ename": "NameError",
     "evalue": "name 's' is not defined",
     "output_type": "error",
     "traceback": [
      "\u001b[1;31m---------------------------------------------------------------------------\u001b[0m",
      "\u001b[1;31mNameError\u001b[0m                                 Traceback (most recent call last)",
      "Input \u001b[1;32mIn [5]\u001b[0m, in \u001b[0;36m<cell line: 2>\u001b[1;34m()\u001b[0m\n\u001b[0;32m      1\u001b[0m a\u001b[38;5;241m=\u001b[39m\u001b[38;5;124m\"\u001b[39m\u001b[38;5;124mSaiSiva \u001b[39m\u001b[38;5;124m\"\u001b[39m\n\u001b[1;32m----> 2\u001b[0m \u001b[43ms\u001b[49m\u001b[38;5;241m.\u001b[39mfind(a)\n",
      "\u001b[1;31mNameError\u001b[0m: name 's' is not defined"
     ]
    }
   ],
   "source": [
    "a=\"SaiSiva \"\n",
    "'s'.find(a)"
   ]
  },
  {
   "cell_type": "code",
   "execution_count": 1,
   "id": "500ccad5",
   "metadata": {},
   "outputs": [],
   "source": [
    "#programming excercise_Question-3\n",
    "import math\n",
    "def sphereArea(radius):\n",
    "    area=4*math.pi*(radius**2)\n",
    "    return area\n",
    "\n",
    "def sphereVolume(radius):\n",
    "    volume=(4/3)*math.pi*(radius**3)\n",
    "    return volume"
   ]
  },
  {
   "cell_type": "code",
   "execution_count": 2,
   "id": "7ba22ffd",
   "metadata": {},
   "outputs": [
    {
     "data": {
      "text/plain": [
       "113.09733552923255"
      ]
     },
     "execution_count": 2,
     "metadata": {},
     "output_type": "execute_result"
    }
   ],
   "source": [
    "sphereArea(3)"
   ]
  },
  {
   "cell_type": "code",
   "execution_count": 3,
   "id": "900b8f46",
   "metadata": {},
   "outputs": [
    {
     "data": {
      "text/plain": [
       "113.09733552923254"
      ]
     },
     "execution_count": 3,
     "metadata": {},
     "output_type": "execute_result"
    }
   ],
   "source": [
    "sphereVolume(3)"
   ]
  },
  {
   "cell_type": "code",
   "execution_count": 8,
   "id": "534532cf",
   "metadata": {},
   "outputs": [],
   "source": [
    "#Programming assignment_Question-4\n",
    "def sumN(n):\n",
    "    sums=0\n",
    "    for i in range(n+1):\n",
    "        sums=sums+i\n",
    "    return sums\n",
    "    \n",
    "def sumNcubes(n):\n",
    "    sums=0\n",
    "    for i in range(n+1):\n",
    "        sums=sums+(i**3)\n",
    "    return sums\n",
    "\n",
    "def main(n):\n",
    "    print(\"Sum of {0} natural numbers is {1}\".format(n,sumN(n)))\n",
    "    print(\"Sum of cubes of {0} natural numbers is {1}\".format(n,sumNcubes(n)))"
   ]
  },
  {
   "cell_type": "code",
   "execution_count": 9,
   "id": "5ad00828",
   "metadata": {},
   "outputs": [
    {
     "name": "stdout",
     "output_type": "stream",
     "text": [
      "Sum of 5 natural numbers is 15\n",
      "Sum of cubes of 5 natural numbers is 225\n"
     ]
    }
   ],
   "source": [
    "main(5)"
   ]
  },
  {
   "cell_type": "code",
   "execution_count": 1,
   "id": "cbd35896",
   "metadata": {},
   "outputs": [],
   "source": [
    "#programming assignment_question-6\n",
    "import math\n",
    "from graphics import *\n",
    "def triarea(a,b,c):\n",
    "    s=(a+b+c)/2\n",
    "    area=math.sqrt(s*(s-a)*(s-b)*(s-c))\n",
    "    return area\n",
    "\n",
    "def lengthl(p1,p2):\n",
    "    x1=p1.getX()\n",
    "    y1=p1.getY()\n",
    "    x2=p2.getX()\n",
    "    y2=p2.getY()\n",
    "    l=math.sqrt(((x2-x1)**2)+((y2-y1)**2))\n",
    "    return l\n",
    "\n",
    "def main():\n",
    "    win=GraphWin(\"triangle\",300,300)\n",
    "    win.setCoords(0.0,0.0,10,10)\n",
    "    w=Text(Point(5,9),\"Click three points\")\n",
    "    w.draw(win)\n",
    "    p1=win.getMouse()\n",
    "    p1.draw(win)\n",
    "    p2=win.getMouse()\n",
    "    p2.draw(win)\n",
    "    p3=win.getMouse()\n",
    "    p3.draw(win)\n",
    "    \n",
    "    q=Polygon(p1,p2,p3)\n",
    "    q.setFill(\"green\")\n",
    "    q.draw(win)\n",
    "    \n",
    "    a=lengthl(p1,p2)\n",
    "    b=lengthl(p1,p3)\n",
    "    c=lengthl(p2,p3)\n",
    "    \n",
    "    area=triarea(a,b,c)\n",
    "    \n",
    "    Text(Point(3,1),\"Area of triangle is\").draw(win)\n",
    "    Text(Point(8,1),round(area,3)).draw(win)\n",
    "    w.setText(\"click to close\")\n",
    "    win.getMouse()\n",
    "    win.close()\n",
    "    \n",
    "    "
   ]
  },
  {
   "cell_type": "code",
   "execution_count": 2,
   "id": "c4488a56",
   "metadata": {},
   "outputs": [],
   "source": [
    "main()"
   ]
  },
  {
   "cell_type": "code",
   "execution_count": 2,
   "id": "4338060b",
   "metadata": {},
   "outputs": [
    {
     "data": {
      "text/plain": [
       "4.242640687119285"
      ]
     },
     "execution_count": 2,
     "metadata": {},
     "output_type": "execute_result"
    }
   ],
   "source": [
    "lengthl(Point(1,2),Point(4,5))"
   ]
  },
  {
   "cell_type": "code",
   "execution_count": 3,
   "id": "d04c4be5",
   "metadata": {},
   "outputs": [],
   "source": [
    "def fib(n):\n",
    "    a=0\n",
    "    b=1\n",
    "    c=2\n",
    "    k=[0,1]\n",
    "    for i in range(c,n):\n",
    "        d=a+b\n",
    "        k=k+[d]\n",
    "        a=b\n",
    "        b=d\n",
    "    print(k[n-1])"
   ]
  },
  {
   "cell_type": "code",
   "execution_count": 7,
   "id": "959c1202",
   "metadata": {},
   "outputs": [
    {
     "name": "stdout",
     "output_type": "stream",
     "text": [
      "5\n"
     ]
    }
   ],
   "source": [
    "fib(6)"
   ]
  },
  {
   "cell_type": "code",
   "execution_count": 24,
   "id": "f46694a9",
   "metadata": {},
   "outputs": [],
   "source": [
    "def squareeach(a):\n",
    "    for i in range(len(a)):\n",
    "        a[i]=a[i]**2\n",
    "    return a"
   ]
  },
  {
   "cell_type": "code",
   "execution_count": 11,
   "id": "46c0132b",
   "metadata": {},
   "outputs": [
    {
     "data": {
      "text/plain": [
       "[1, 4, 9, 16, 25]"
      ]
     },
     "execution_count": 11,
     "metadata": {},
     "output_type": "execute_result"
    }
   ],
   "source": [
    "squareeach([1,2,3,4,5])"
   ]
  },
  {
   "cell_type": "code",
   "execution_count": 25,
   "id": "a85471a9",
   "metadata": {},
   "outputs": [],
   "source": [
    "def sumeach(a):\n",
    "    su=0\n",
    "    for i in range(len(a)):\n",
    "        su=su+a[i]\n",
    "    return su"
   ]
  },
  {
   "cell_type": "code",
   "execution_count": 13,
   "id": "b6e603c8",
   "metadata": {},
   "outputs": [
    {
     "data": {
      "text/plain": [
       "15"
      ]
     },
     "execution_count": 13,
     "metadata": {},
     "output_type": "execute_result"
    }
   ],
   "source": [
    "sumeach([1,2,3,4,5])"
   ]
  },
  {
   "cell_type": "code",
   "execution_count": 26,
   "id": "62d873f8",
   "metadata": {},
   "outputs": [],
   "source": [
    "def tonum(a):\n",
    "    for i in range(len(a)):\n",
    "        a[i]=float(a[i])\n",
    "    return a"
   ]
  },
  {
   "cell_type": "code",
   "execution_count": 15,
   "id": "e5c63d31",
   "metadata": {},
   "outputs": [
    {
     "data": {
      "text/plain": [
       "[65, 66, 67]"
      ]
     },
     "execution_count": 15,
     "metadata": {},
     "output_type": "execute_result"
    }
   ],
   "source": [
    "tonum([\"A\",\"B\",\"C\"])"
   ]
  },
  {
   "cell_type": "code",
   "execution_count": 31,
   "id": "4ccfd35a",
   "metadata": {},
   "outputs": [
    {
     "name": "stdout",
     "output_type": "stream",
     "text": [
      "Enter file name(sai.txt) :num.txt\n",
      "['1', '2', '3', '4', '5', '6', '7', '8\\n']\n",
      "[1.0, 2.0, 3.0, 4.0, 5.0, 6.0, 7.0, 8.0]\n",
      "[1.0, 4.0, 9.0, 16.0, 25.0, 36.0, 49.0, 64.0]\n",
      "['9', '10', '11', '12', '13']\n",
      "[9.0, 10.0, 11.0, 12.0, 13.0]\n",
      "[81.0, 100.0, 121.0, 144.0, 169.0]\n",
      "819.0\n"
     ]
    }
   ],
   "source": [
    "a=input(\"Enter file name(sai.txt) :\")\n",
    "infile=open(a,\"r\")\n",
    "inp=infile.readlines()\n",
    "sume=0\n",
    "for i in inp:\n",
    "    k=i.split(\",\")\n",
    "    s=tonum(k)\n",
    "    e=squareeach(s)\n",
    "    sume=sume+sumeach(e)\n",
    "print(sume)  "
   ]
  },
  {
   "cell_type": "code",
   "execution_count": null,
   "id": "b5c19aee",
   "metadata": {},
   "outputs": [],
   "source": []
  }
 ],
 "metadata": {
  "kernelspec": {
   "display_name": "Python 3 (ipykernel)",
   "language": "python",
   "name": "python3"
  },
  "language_info": {
   "codemirror_mode": {
    "name": "ipython",
    "version": 3
   },
   "file_extension": ".py",
   "mimetype": "text/x-python",
   "name": "python",
   "nbconvert_exporter": "python",
   "pygments_lexer": "ipython3",
   "version": "3.9.12"
  }
 },
 "nbformat": 4,
 "nbformat_minor": 5
}
