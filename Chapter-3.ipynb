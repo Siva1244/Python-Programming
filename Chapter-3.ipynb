{
 "cells": [
  {
   "cell_type": "code",
   "execution_count": 1,
   "id": "b846944c",
   "metadata": {},
   "outputs": [
    {
     "data": {
      "text/plain": [
       "int"
      ]
     },
     "execution_count": 1,
     "metadata": {},
     "output_type": "execute_result"
    }
   ],
   "source": [
    "type(3)\n"
   ]
  },
  {
   "cell_type": "code",
   "execution_count": 2,
   "id": "20de16dc",
   "metadata": {},
   "outputs": [
    {
     "data": {
      "text/plain": [
       "float"
      ]
     },
     "execution_count": 2,
     "metadata": {},
     "output_type": "execute_result"
    }
   ],
   "source": [
    "type(3.0)"
   ]
  },
  {
   "cell_type": "code",
   "execution_count": 3,
   "id": "690dfd8d",
   "metadata": {},
   "outputs": [
    {
     "data": {
      "text/plain": [
       "int"
      ]
     },
     "execution_count": 3,
     "metadata": {},
     "output_type": "execute_result"
    }
   ],
   "source": [
    "type(-23)\n"
   ]
  },
  {
   "cell_type": "code",
   "execution_count": 4,
   "id": "537068ed",
   "metadata": {},
   "outputs": [
    {
     "data": {
      "text/plain": [
       "float"
      ]
     },
     "execution_count": 4,
     "metadata": {},
     "output_type": "execute_result"
    }
   ],
   "source": [
    "type(-23.9)"
   ]
  },
  {
   "cell_type": "markdown",
   "id": "e6544520",
   "metadata": {},
   "source": [
    "      +   addition\n",
    "      -   subtraction\n",
    "     *     Multiplication\n",
    "     /     division\n",
    "      **    power\n",
    "     abs() absolute value\n",
    "     //    integer division\n",
    "     %     Remainder"
   ]
  },
  {
   "cell_type": "code",
   "execution_count": 8,
   "id": "406124b8",
   "metadata": {},
   "outputs": [
    {
     "name": "stdout",
     "output_type": "stream",
     "text": [
      "5\n",
      "-1\n",
      "6\n",
      "2.0\n",
      "32\n",
      "2.35\n",
      "2\n",
      "1\n"
     ]
    }
   ],
   "source": [
    " print(2+3)\n",
    "print(2-3)\n",
    "print(2*3)\n",
    "print(4/2)\n",
    "print(2**5)\n",
    "print(abs(-2.35))\n",
    "print(7//3)\n",
    "print(7%3)"
   ]
  },
  {
   "cell_type": "code",
   "execution_count": 9,
   "id": "c2539f77",
   "metadata": {},
   "outputs": [
    {
     "data": {
      "text/plain": [
       "3"
      ]
     },
     "execution_count": 9,
     "metadata": {},
     "output_type": "execute_result"
    }
   ],
   "source": [
    "int(3.4)"
   ]
  },
  {
   "cell_type": "code",
   "execution_count": 10,
   "id": "bdf7e085",
   "metadata": {},
   "outputs": [
    {
     "data": {
      "text/plain": [
       "3"
      ]
     },
     "execution_count": 10,
     "metadata": {},
     "output_type": "execute_result"
    }
   ],
   "source": [
    "int(3.9)"
   ]
  },
  {
   "cell_type": "code",
   "execution_count": 11,
   "id": "24b87113",
   "metadata": {},
   "outputs": [
    {
     "data": {
      "text/plain": [
       "4.0"
      ]
     },
     "execution_count": 11,
     "metadata": {},
     "output_type": "execute_result"
    }
   ],
   "source": [
    "float(4)"
   ]
  },
  {
   "cell_type": "code",
   "execution_count": 12,
   "id": "1e169eca",
   "metadata": {},
   "outputs": [
    {
     "data": {
      "text/plain": [
       "3"
      ]
     },
     "execution_count": 12,
     "metadata": {},
     "output_type": "execute_result"
    }
   ],
   "source": [
    "round(3.14)"
   ]
  },
  {
   "cell_type": "code",
   "execution_count": 13,
   "id": "57f13b18",
   "metadata": {},
   "outputs": [
    {
     "data": {
      "text/plain": [
       "4"
      ]
     },
     "execution_count": 13,
     "metadata": {},
     "output_type": "execute_result"
    }
   ],
   "source": [
    "round(3.5)"
   ]
  },
  {
   "cell_type": "code",
   "execution_count": 15,
   "id": "4c4c2e5c",
   "metadata": {},
   "outputs": [],
   "source": [
    "pi=3.141592"
   ]
  },
  {
   "cell_type": "code",
   "execution_count": 16,
   "id": "d58e7748",
   "metadata": {},
   "outputs": [
    {
     "data": {
      "text/plain": [
       "3.14"
      ]
     },
     "execution_count": 16,
     "metadata": {},
     "output_type": "execute_result"
    }
   ],
   "source": [
    "round(pi,2)"
   ]
  },
  {
   "cell_type": "code",
   "execution_count": 17,
   "id": "168c20b6",
   "metadata": {},
   "outputs": [
    {
     "data": {
      "text/plain": [
       "3.142"
      ]
     },
     "execution_count": 17,
     "metadata": {},
     "output_type": "execute_result"
    }
   ],
   "source": [
    "round(pi,3)"
   ]
  },
  {
   "cell_type": "code",
   "execution_count": 18,
   "id": "bd63918b",
   "metadata": {},
   "outputs": [
    {
     "data": {
      "text/plain": [
       "32"
      ]
     },
     "execution_count": 18,
     "metadata": {},
     "output_type": "execute_result"
    }
   ],
   "source": [
    "int(\"32\")"
   ]
  },
  {
   "cell_type": "code",
   "execution_count": 19,
   "id": "af151c5b",
   "metadata": {},
   "outputs": [
    {
     "data": {
      "text/plain": [
       "32.0"
      ]
     },
     "execution_count": 19,
     "metadata": {},
     "output_type": "execute_result"
    }
   ],
   "source": [
    "float(\"32\")"
   ]
  },
  {
   "cell_type": "code",
   "execution_count": 20,
   "id": "b2a6add2",
   "metadata": {},
   "outputs": [
    {
     "name": "stdout",
     "output_type": "stream",
     "text": [
      "Enter number:3\n"
     ]
    }
   ],
   "source": [
    "a=int(input(\"Enter number:\"))"
   ]
  },
  {
   "cell_type": "code",
   "execution_count": 21,
   "id": "8c9be448",
   "metadata": {},
   "outputs": [
    {
     "data": {
      "text/plain": [
       "9"
      ]
     },
     "execution_count": 21,
     "metadata": {},
     "output_type": "execute_result"
    }
   ],
   "source": [
    "a**2"
   ]
  },
  {
   "cell_type": "code",
   "execution_count": 22,
   "id": "2d803350",
   "metadata": {},
   "outputs": [],
   "source": [
    "import math\n",
    "def main():\n",
    "    print(\"This programme finds the real solution to quadratic equation:\")\n",
    "    print()\n",
    "    a=float(input(\"Enter coffecient a:\"))\n",
    "    b=float(input(\"Enter coffecient b:\"))\n",
    "    c=float(input(\"Enter coffecient c:\"))\n",
    "    discroot= math.sqrt(b*b - 4*a*c)\n",
    "    root1=(-b+discroot)/(2*a)\n",
    "    root2=(-b-discroot)/(2*a)\n",
    "    print()\n",
    "    print(\"The roots are\",root1,root2)"
   ]
  },
  {
   "cell_type": "code",
   "execution_count": 23,
   "id": "f1a8aa0d",
   "metadata": {},
   "outputs": [
    {
     "name": "stdout",
     "output_type": "stream",
     "text": [
      "This programme finds the real solution to quadratic equation:\n",
      "\n",
      "Enter coffecient a:3\n",
      "Enter coffecient b:4\n",
      "Enter coffecient c:-2\n",
      "\n",
      "The roots are 0.38742588672279316 -1.7207592200561266\n"
     ]
    }
   ],
   "source": [
    "main()"
   ]
  },
  {
   "cell_type": "code",
   "execution_count": 24,
   "id": "21367e84",
   "metadata": {},
   "outputs": [],
   "source": [
    "import math"
   ]
  },
  {
   "cell_type": "code",
   "execution_count": 28,
   "id": "32807226",
   "metadata": {},
   "outputs": [
    {
     "data": {
      "text/plain": [
       "3.141592653589793"
      ]
     },
     "execution_count": 28,
     "metadata": {},
     "output_type": "execute_result"
    }
   ],
   "source": [
    "math.pi"
   ]
  },
  {
   "cell_type": "code",
   "execution_count": 27,
   "id": "bd3fe3be",
   "metadata": {},
   "outputs": [
    {
     "data": {
      "text/plain": [
       "2.718281828459045"
      ]
     },
     "execution_count": 27,
     "metadata": {},
     "output_type": "execute_result"
    }
   ],
   "source": [
    "math.e"
   ]
  },
  {
   "cell_type": "code",
   "execution_count": 30,
   "id": "9fbb01b1",
   "metadata": {},
   "outputs": [
    {
     "data": {
      "text/plain": [
       "[5, 4, 3, 2]"
      ]
     },
     "execution_count": 30,
     "metadata": {},
     "output_type": "execute_result"
    }
   ],
   "source": [
    "list(range(5,1,-1))"
   ]
  },
  {
   "cell_type": "code",
   "execution_count": 4,
   "id": "94b60360",
   "metadata": {},
   "outputs": [],
   "source": [
    "def main():\n",
    "    \n",
    "    print(\"Enter the number\")\n",
    "    a=int(input(\"a:\"))\n",
    "    fact=1\n",
    "    for i in range(a,1,-1):\n",
    "        fact=fact*i\n",
    "        s=0\n",
    "    print(fact)"
   ]
  },
  {
   "cell_type": "code",
   "execution_count": 34,
   "id": "b1e27dc0",
   "metadata": {},
   "outputs": [
    {
     "name": "stdout",
     "output_type": "stream",
     "text": [
      "Enter the number\n",
      "a:30\n",
      "265252859812191058636308480000000\n"
     ]
    }
   ],
   "source": [
    "main()\n"
   ]
  },
  {
   "cell_type": "code",
   "execution_count": 5,
   "id": "c7c894b8",
   "metadata": {},
   "outputs": [],
   "source": [
    "import math\n",
    "def main():\n",
    "    print(\"This programme computes distance between two points\")\n",
    "    x1,y1=eval(input(\"Enter the first point by comma separated(x,y) :\"))\n",
    "    x2,y2=eval(input(\"Enter the second point by comma separated(x,y) :\"))\n",
    "    dist=math.sqrt((x2-x1)**2 + (y2-y1)**2)\n",
    "    print(\"The distance between two points is\",dist)"
   ]
  },
  {
   "cell_type": "code",
   "execution_count": 6,
   "id": "32ff0a22",
   "metadata": {},
   "outputs": [
    {
     "name": "stdout",
     "output_type": "stream",
     "text": [
      "This programme computes distance between two points\n",
      "Enter the first point by comma separated(x,y) :1,2\n",
      "Enter the second point by comma separated(x,y) :4,6\n",
      "The distance between two points is 5.0\n"
     ]
    }
   ],
   "source": [
    "main()"
   ]
  },
  {
   "cell_type": "code",
   "execution_count": 7,
   "id": "9b008701",
   "metadata": {},
   "outputs": [],
   "source": [
    "import math\n",
    "def main():\n",
    "    print(\"This programme gives the area of a triangle:\")\n",
    "    a=eval(input(\"Enter the 1st side of triangle a:\"))\n",
    "    b=eval(input(\"Enter the 2nd side of triangle b:\"))\n",
    "    c=eval(input(\"Enter the 3rd side of triangle c:\"))\n",
    "    s=(a+b+c)/2\n",
    "    area=math.sqrt(s*(s-a)*(s-b)*(s-c))\n",
    "    print(\"Area of triangle is\",area)\n",
    "    "
   ]
  },
  {
   "cell_type": "code",
   "execution_count": 8,
   "id": "75bd3346",
   "metadata": {},
   "outputs": [
    {
     "name": "stdout",
     "output_type": "stream",
     "text": [
      "This programme gives the area of a triangle:\n",
      "Enter the 1st side of triangle a:3\n",
      "Enter the 2nd side of triangle b:4\n",
      "Enter the 3rd side of triangle c:5\n",
      "Area of triangle is 6.0\n"
     ]
    }
   ],
   "source": [
    "main()"
   ]
  },
  {
   "cell_type": "code",
   "execution_count": 11,
   "id": "5f09318e",
   "metadata": {},
   "outputs": [],
   "source": [
    "def main():\n",
    "    a=eval(input(\"Enter the how many numbers:\"))\n",
    "    su=0\n",
    "    avg=0\n",
    "    for i in range(a):\n",
    "        b=int(input(\"Enter number\"))\n",
    "        su=su+b\n",
    "    avg=sum/a\n",
    "    print(\"Sum of all numbers and avg are\",su,avg)"
   ]
  },
  {
   "cell_type": "code",
   "execution_count": 13,
   "id": "3fe5bb3c",
   "metadata": {},
   "outputs": [
    {
     "name": "stdout",
     "output_type": "stream",
     "text": [
      "Enter the how many numbers:3\n",
      "Enter number2\n",
      "Enter number3\n",
      "Enter number4\n",
      "Sum of all numbers is 9\n"
     ]
    }
   ],
   "source": [
    "main()"
   ]
  },
  {
   "cell_type": "code",
   "execution_count": 16,
   "id": "6f357f4d",
   "metadata": {},
   "outputs": [],
   "source": [
    "import math\n",
    "def main():\n",
    "    a=eval(input(\"Enter the how many numbers:\"))\n",
    "    su=0\n",
    "    for i in range(a):\n",
    "        su=su+((-1)**i)*(4/(2*i+1))\n",
    "    diff=abs(su-math.pi)\n",
    "    print(\"Sum of all numbers and difference are\",su,diff)"
   ]
  },
  {
   "cell_type": "code",
   "execution_count": 18,
   "id": "ac336764",
   "metadata": {},
   "outputs": [
    {
     "name": "stdout",
     "output_type": "stream",
     "text": [
      "Enter the how many numbers:100\n",
      "Sum of all numbers and difference are 3.1315929035585537 0.00999975003123943\n"
     ]
    }
   ],
   "source": [
    "main()"
   ]
  },
  {
   "cell_type": "code",
   "execution_count": 20,
   "id": "97d92084",
   "metadata": {},
   "outputs": [],
   "source": [
    "import math\n",
    "def main():\n",
    "    a=eval(input(\"Enter which number:\"))\n",
    "    b=1\n",
    "    c=1\n",
    "    for i in range(2,a):\n",
    "        d=b+c\n",
    "        b=c\n",
    "        c=d\n",
    "        \n",
    "    print(a,\"th number of fibbnoci series is\",c)"
   ]
  },
  {
   "cell_type": "code",
   "execution_count": 21,
   "id": "cf50726b",
   "metadata": {},
   "outputs": [
    {
     "name": "stdout",
     "output_type": "stream",
     "text": [
      "Enter which number:6\n",
      "6 th number of fibbnoci series is 8\n"
     ]
    }
   ],
   "source": [
    "main()"
   ]
  },
  {
   "cell_type": "code",
   "execution_count": 26,
   "id": "c72cd562",
   "metadata": {},
   "outputs": [],
   "source": [
    "import math\n",
    "def main():\n",
    "    a=eval(input(\"Enter the number:\"))\n",
    "    b=eval(input(\"Enter the number of iterations:\"))\n",
    "    x=a/2\n",
    "    for i in range(b):\n",
    "        x=(x+(a/x))/2\n",
    "    print(a,\"th root is\",x,\"difference is\",abs(math.sqrt(a)-x))"
   ]
  },
  {
   "cell_type": "code",
   "execution_count": 27,
   "id": "b9e245a8",
   "metadata": {},
   "outputs": [
    {
     "name": "stdout",
     "output_type": "stream",
     "text": [
      "Enter the number:3\n",
      "Enter the number of iterations:100\n",
      "3 th root is 1.7320508075688772 difference is 0.0\n"
     ]
    }
   ],
   "source": [
    "main()"
   ]
  },
  {
   "cell_type": "code",
   "execution_count": null,
   "id": "3d90f8cb",
   "metadata": {},
   "outputs": [],
   "source": []
  }
 ],
 "metadata": {
  "kernelspec": {
   "display_name": "Python 3 (ipykernel)",
   "language": "python",
   "name": "python3"
  },
  "language_info": {
   "codemirror_mode": {
    "name": "ipython",
    "version": 3
   },
   "file_extension": ".py",
   "mimetype": "text/x-python",
   "name": "python",
   "nbconvert_exporter": "python",
   "pygments_lexer": "ipython3",
   "version": "3.9.12"
  }
 },
 "nbformat": 4,
 "nbformat_minor": 5
}
